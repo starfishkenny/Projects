{
 "cells": [
  {
   "cell_type": "code",
   "execution_count": 1,
   "metadata": {},
   "outputs": [],
   "source": [
    "import sys\n",
    "from bs4 import BeautifulSoup\n",
    "import urllib.request\n",
    "import requests\n",
    "import json\n",
    "import pandas as pd\n",
    "import numpy as np\n",
    "import matplotlib as mpl\n",
    "import matplotlib.pyplot as plt\n",
    "import matplotlib.font_manager as fm\n",
    "fname = fm.FontProperties(fname='malgun.ttf').get_name()\n",
    "import sqlite3\n",
    "from IPython.display import Image\n",
    "mpl.rc('font',family=fname)\n",
    "import matplotlib.gridspec as gridspec\n",
    "from jupyterthemes import jtplot\n",
    "jtplot.style()\n",
    "%matplotlib inline\n",
    "import platform\n",
    "platform.system()\n",
    "# 운영체제별 한글 폰트 설정\n",
    "if platform.system() == 'Darwin': # Mac 환경 폰트 설정\n",
    "    plt.rc('font', family='AppleGothic')\n",
    "elif platform.system() == 'Windows': # Windows 환경 폰트 설정\n",
    "    plt.rc('font', family='Malgun Gothic')\n",
    "plt.rc('axes', unicode_minus=False) # 마이너스 폰트 설정\n",
    "# 글씨 선명하게 출력하는 설정\n",
    "%config InlineBackend.figure_format = 'retina'"
   ]
  },
  {
   "cell_type": "markdown",
   "metadata": {},
   "source": [
    "### finance-datareader를 활용해본다"
   ]
  },
  {
   "cell_type": "markdown",
   "metadata": {},
   "source": [
    "### 설명: 한국 주식 가격, 미국주식 가격, 지수, 환율, 암호화폐 가격, 종목 리스팅 등 금융 데이터 수집 라이브러리\n",
    "#### ref: https://financedata.github.io/posts/finance-data-reader-users-guide.html\n"
   ]
  },
  {
   "cell_type": "markdown",
   "metadata": {},
   "source": [
    "#### 주식종목 찾기용\n",
    "NASDAQ\t나스닥 종목 \\\n",
    "NYSE\t뉴욕 증권거래소 종목 \\\n",
    "AMEX\tAMEX 종목 \\\n",
    "SP500\tS&P 500 종목"
   ]
  },
  {
   "cell_type": "markdown",
   "metadata": {},
   "source": [
    "#### 가격정보 및 지수 찾기용\n",
    "DJI\t다우존스 지수 \\\n",
    "IXIC\t나스닥 지수 \\\n",
    "US500\tS&P 500 지수 \\\n",
    "VIX\tS&P 500 VIX \\\n",
    "JP225\t닛케이 225 선물 \\\n",
    "STOXX50E\tEuro Stoxx 50 \\\n",
    "CSI300\tCSI 300 (중국) \\\n",
    "HSI\t항셍 (홍콩) \\\n",
    "FTSE\t영국 FTSE \\\n",
    "DAX\t독일 DAX 30 \\\n",
    "CAC\t프랑스 CAC 40"
   ]
  },
  {
   "cell_type": "code",
   "execution_count": 2,
   "metadata": {},
   "outputs": [
    {
     "data": {
      "text/plain": [
       "'0.9.10'"
      ]
     },
     "execution_count": 2,
     "metadata": {},
     "output_type": "execute_result"
    }
   ],
   "source": [
    "import FinanceDataReader as fdr\n",
    "fdr.__version__"
   ]
  },
  {
   "cell_type": "code",
   "execution_count": 3,
   "metadata": {},
   "outputs": [
    {
     "name": "stderr",
     "output_type": "stream",
     "text": [
      "100%|██████████| 3264/3264 [00:06<00:00, 529.53it/s]\n"
     ]
    },
    {
     "data": {
      "text/html": [
       "<div>\n",
       "<style scoped>\n",
       "    .dataframe tbody tr th:only-of-type {\n",
       "        vertical-align: middle;\n",
       "    }\n",
       "\n",
       "    .dataframe tbody tr th {\n",
       "        vertical-align: top;\n",
       "    }\n",
       "\n",
       "    .dataframe thead th {\n",
       "        text-align: right;\n",
       "    }\n",
       "</style>\n",
       "<table border=\"1\" class=\"dataframe\">\n",
       "  <thead>\n",
       "    <tr style=\"text-align: right;\">\n",
       "      <th></th>\n",
       "      <th>Symbol</th>\n",
       "      <th>Name</th>\n",
       "      <th>Industry</th>\n",
       "      <th>IndustryCode</th>\n",
       "    </tr>\n",
       "  </thead>\n",
       "  <tbody>\n",
       "    <tr>\n",
       "      <th>0</th>\n",
       "      <td>AAPL</td>\n",
       "      <td>Apple Inc</td>\n",
       "      <td>컴퓨터, 전화 및 가전제품</td>\n",
       "      <td>571060</td>\n",
       "    </tr>\n",
       "    <tr>\n",
       "      <th>1</th>\n",
       "      <td>MSFT</td>\n",
       "      <td>Microsoft Corp</td>\n",
       "      <td>소프트웨어 및 IT서비스</td>\n",
       "      <td>572010</td>\n",
       "    </tr>\n",
       "    <tr>\n",
       "      <th>2</th>\n",
       "      <td>AMZN</td>\n",
       "      <td>Amazon.com Inc</td>\n",
       "      <td>다양한 소매업</td>\n",
       "      <td>534020</td>\n",
       "    </tr>\n",
       "    <tr>\n",
       "      <th>3</th>\n",
       "      <td>FB</td>\n",
       "      <td>Facebook Inc Class A</td>\n",
       "      <td>소프트웨어 및 IT서비스</td>\n",
       "      <td>572010</td>\n",
       "    </tr>\n",
       "    <tr>\n",
       "      <th>4</th>\n",
       "      <td>GOOGL</td>\n",
       "      <td>Alphabet Inc Class A</td>\n",
       "      <td>소프트웨어 및 IT서비스</td>\n",
       "      <td>572010</td>\n",
       "    </tr>\n",
       "  </tbody>\n",
       "</table>\n",
       "</div>"
      ],
      "text/plain": [
       "  Symbol                  Name        Industry IndustryCode\n",
       "0   AAPL             Apple Inc  컴퓨터, 전화 및 가전제품       571060\n",
       "1   MSFT        Microsoft Corp   소프트웨어 및 IT서비스       572010\n",
       "2   AMZN        Amazon.com Inc         다양한 소매업       534020\n",
       "3     FB  Facebook Inc Class A   소프트웨어 및 IT서비스       572010\n",
       "4  GOOGL  Alphabet Inc Class A   소프트웨어 및 IT서비스       572010"
      ]
     },
     "execution_count": 3,
     "metadata": {},
     "output_type": "execute_result"
    }
   ],
   "source": [
    "df_nasdaq = fdr.StockListing('NASDAQ')\n",
    "df_nasdaq.head()"
   ]
  },
  {
   "cell_type": "code",
   "execution_count": 4,
   "metadata": {},
   "outputs": [
    {
     "data": {
      "text/plain": [
       "<matplotlib.axes._subplots.AxesSubplot at 0x1bddfbaa0d0>"
      ]
     },
     "execution_count": 4,
     "metadata": {},
     "output_type": "execute_result"
    },
    {
     "data": {
      "image/png": "[encoded data removed]",
      "text/plain": [
       "<Figure size 432x288 with 1 Axes>"
      ]
     },
     "metadata": {
      "image/png": {
       "height": 268,
       "width": 382
      },
      "needs_background": "dark"
     },
     "output_type": "display_data"
    }
   ],
   "source": [
    "# KS11 (KOSPI 지수), 2015년~현재\n",
    "df = fdr.DataReader('KS11', '2019')\n",
    "df['Close'].plot()"
   ]
  },
  {
   "cell_type": "code",
   "execution_count": 5,
   "metadata": {},
   "outputs": [
    {
     "data": {
      "text/html": [
       "<div>\n",
       "<style scoped>\n",
       "    .dataframe tbody tr th:only-of-type {\n",
       "        vertical-align: middle;\n",
       "    }\n",
       "\n",
       "    .dataframe tbody tr th {\n",
       "        vertical-align: top;\n",
       "    }\n",
       "\n",
       "    .dataframe thead th {\n",
       "        text-align: right;\n",
       "    }\n",
       "</style>\n",
       "<table border=\"1\" class=\"dataframe\">\n",
       "  <thead>\n",
       "    <tr style=\"text-align: right;\">\n",
       "      <th></th>\n",
       "      <th>Close</th>\n",
       "      <th>Open</th>\n",
       "      <th>High</th>\n",
       "      <th>Low</th>\n",
       "      <th>Volume</th>\n",
       "      <th>Change</th>\n",
       "    </tr>\n",
       "    <tr>\n",
       "      <th>Date</th>\n",
       "      <th></th>\n",
       "      <th></th>\n",
       "      <th></th>\n",
       "      <th></th>\n",
       "      <th></th>\n",
       "      <th></th>\n",
       "    </tr>\n",
       "  </thead>\n",
       "  <tbody>\n",
       "    <tr>\n",
       "      <th>2020-01-02</th>\n",
       "      <td>9092.19</td>\n",
       "      <td>9039.46</td>\n",
       "      <td>9093.43</td>\n",
       "      <td>9010.89</td>\n",
       "      <td>6.549500e+08</td>\n",
       "      <td>0.0133</td>\n",
       "    </tr>\n",
       "    <tr>\n",
       "      <th>2020-01-03</th>\n",
       "      <td>9020.77</td>\n",
       "      <td>8976.43</td>\n",
       "      <td>9065.76</td>\n",
       "      <td>8976.43</td>\n",
       "      <td>6.185500e+08</td>\n",
       "      <td>-0.0079</td>\n",
       "    </tr>\n",
       "    <tr>\n",
       "      <th>2020-01-06</th>\n",
       "      <td>9071.47</td>\n",
       "      <td>8943.50</td>\n",
       "      <td>9072.41</td>\n",
       "      <td>8943.50</td>\n",
       "      <td>6.902300e+08</td>\n",
       "      <td>0.0056</td>\n",
       "    </tr>\n",
       "    <tr>\n",
       "      <th>2020-01-07</th>\n",
       "      <td>9068.58</td>\n",
       "      <td>9076.65</td>\n",
       "      <td>9091.93</td>\n",
       "      <td>9042.55</td>\n",
       "      <td>5.522300e+08</td>\n",
       "      <td>-0.0003</td>\n",
       "    </tr>\n",
       "    <tr>\n",
       "      <th>2020-01-08</th>\n",
       "      <td>9129.24</td>\n",
       "      <td>9068.03</td>\n",
       "      <td>9168.89</td>\n",
       "      <td>9059.38</td>\n",
       "      <td>5.958100e+08</td>\n",
       "      <td>0.0067</td>\n",
       "    </tr>\n",
       "    <tr>\n",
       "      <th>...</th>\n",
       "      <td>...</td>\n",
       "      <td>...</td>\n",
       "      <td>...</td>\n",
       "      <td>...</td>\n",
       "      <td>...</td>\n",
       "      <td>...</td>\n",
       "    </tr>\n",
       "    <tr>\n",
       "      <th>2020-12-11</th>\n",
       "      <td>12377.87</td>\n",
       "      <td>12336.79</td>\n",
       "      <td>12383.50</td>\n",
       "      <td>12246.77</td>\n",
       "      <td>8.761500e+08</td>\n",
       "      <td>-0.0023</td>\n",
       "    </tr>\n",
       "    <tr>\n",
       "      <th>2020-12-14</th>\n",
       "      <td>12440.04</td>\n",
       "      <td>12447.44</td>\n",
       "      <td>12543.00</td>\n",
       "      <td>12432.71</td>\n",
       "      <td>9.833100e+08</td>\n",
       "      <td>0.0050</td>\n",
       "    </tr>\n",
       "    <tr>\n",
       "      <th>2020-12-15</th>\n",
       "      <td>12595.06</td>\n",
       "      <td>12543.26</td>\n",
       "      <td>12596.13</td>\n",
       "      <td>12465.42</td>\n",
       "      <td>9.156200e+08</td>\n",
       "      <td>0.0125</td>\n",
       "    </tr>\n",
       "    <tr>\n",
       "      <th>2020-12-16</th>\n",
       "      <td>12658.19</td>\n",
       "      <td>12611.04</td>\n",
       "      <td>12687.32</td>\n",
       "      <td>12566.38</td>\n",
       "      <td>9.858200e+08</td>\n",
       "      <td>0.0050</td>\n",
       "    </tr>\n",
       "    <tr>\n",
       "      <th>2020-12-17</th>\n",
       "      <td>12764.75</td>\n",
       "      <td>12730.78</td>\n",
       "      <td>12765.25</td>\n",
       "      <td>12696.35</td>\n",
       "      <td>1.020000e+09</td>\n",
       "      <td>0.0084</td>\n",
       "    </tr>\n",
       "  </tbody>\n",
       "</table>\n",
       "<p>244 rows × 6 columns</p>\n",
       "</div>"
      ],
      "text/plain": [
       "               Close      Open      High       Low        Volume  Change\n",
       "Date                                                                    \n",
       "2020-01-02   9092.19   9039.46   9093.43   9010.89  6.549500e+08  0.0133\n",
       "2020-01-03   9020.77   8976.43   9065.76   8976.43  6.185500e+08 -0.0079\n",
       "2020-01-06   9071.47   8943.50   9072.41   8943.50  6.902300e+08  0.0056\n",
       "2020-01-07   9068.58   9076.65   9091.93   9042.55  5.522300e+08 -0.0003\n",
       "2020-01-08   9129.24   9068.03   9168.89   9059.38  5.958100e+08  0.0067\n",
       "...              ...       ...       ...       ...           ...     ...\n",
       "2020-12-11  12377.87  12336.79  12383.50  12246.77  8.761500e+08 -0.0023\n",
       "2020-12-14  12440.04  12447.44  12543.00  12432.71  9.833100e+08  0.0050\n",
       "2020-12-15  12595.06  12543.26  12596.13  12465.42  9.156200e+08  0.0125\n",
       "2020-12-16  12658.19  12611.04  12687.32  12566.38  9.858200e+08  0.0050\n",
       "2020-12-17  12764.75  12730.78  12765.25  12696.35  1.020000e+09  0.0084\n",
       "\n",
       "[244 rows x 6 columns]"
      ]
     },
     "execution_count": 5,
     "metadata": {},
     "output_type": "execute_result"
    }
   ],
   "source": [
    "# 나스닥 지수\n",
    "df_nasdaq_num = fdr.DataReader('IXIC','2020')\n",
    "df_nasdaq_num"
   ]
  },
  {
   "cell_type": "code",
   "execution_count": 6,
   "metadata": {},
   "outputs": [],
   "source": [
    "df_nas = df_nasdaq_num.reset_index()"
   ]
  },
  {
   "cell_type": "code",
   "execution_count": 7,
   "metadata": {},
   "outputs": [],
   "source": [
    "nas = df_nas.astype({'Date': str})"
   ]
  },
  {
   "cell_type": "code",
   "execution_count": 8,
   "metadata": {},
   "outputs": [],
   "source": [
    "# 날짜 데이터 변경\n",
    "new_date = []\n",
    "for i in range(len(nas)):\n",
    "    new_date.append(nas['Date'][i].replace('-',''))"
   ]
  },
  {
   "cell_type": "code",
   "execution_count": 9,
   "metadata": {},
   "outputs": [
    {
     "data": {
      "text/html": [
       "<div>\n",
       "<style scoped>\n",
       "    .dataframe tbody tr th:only-of-type {\n",
       "        vertical-align: middle;\n",
       "    }\n",
       "\n",
       "    .dataframe tbody tr th {\n",
       "        vertical-align: top;\n",
       "    }\n",
       "\n",
       "    .dataframe thead th {\n",
       "        text-align: right;\n",
       "    }\n",
       "</style>\n",
       "<table border=\"1\" class=\"dataframe\">\n",
       "  <thead>\n",
       "    <tr style=\"text-align: right;\">\n",
       "      <th></th>\n",
       "      <th>Date</th>\n",
       "      <th>Close</th>\n",
       "      <th>Open</th>\n",
       "      <th>High</th>\n",
       "      <th>Low</th>\n",
       "      <th>Volume</th>\n",
       "      <th>Change</th>\n",
       "    </tr>\n",
       "  </thead>\n",
       "  <tbody>\n",
       "    <tr>\n",
       "      <th>0</th>\n",
       "      <td>2020-01-02</td>\n",
       "      <td>9092.19</td>\n",
       "      <td>9039.46</td>\n",
       "      <td>9093.43</td>\n",
       "      <td>9010.89</td>\n",
       "      <td>6.549500e+08</td>\n",
       "      <td>0.0133</td>\n",
       "    </tr>\n",
       "    <tr>\n",
       "      <th>1</th>\n",
       "      <td>2020-01-03</td>\n",
       "      <td>9020.77</td>\n",
       "      <td>8976.43</td>\n",
       "      <td>9065.76</td>\n",
       "      <td>8976.43</td>\n",
       "      <td>6.185500e+08</td>\n",
       "      <td>-0.0079</td>\n",
       "    </tr>\n",
       "    <tr>\n",
       "      <th>2</th>\n",
       "      <td>2020-01-06</td>\n",
       "      <td>9071.47</td>\n",
       "      <td>8943.50</td>\n",
       "      <td>9072.41</td>\n",
       "      <td>8943.50</td>\n",
       "      <td>6.902300e+08</td>\n",
       "      <td>0.0056</td>\n",
       "    </tr>\n",
       "    <tr>\n",
       "      <th>3</th>\n",
       "      <td>2020-01-07</td>\n",
       "      <td>9068.58</td>\n",
       "      <td>9076.65</td>\n",
       "      <td>9091.93</td>\n",
       "      <td>9042.55</td>\n",
       "      <td>5.522300e+08</td>\n",
       "      <td>-0.0003</td>\n",
       "    </tr>\n",
       "    <tr>\n",
       "      <th>4</th>\n",
       "      <td>2020-01-08</td>\n",
       "      <td>9129.24</td>\n",
       "      <td>9068.03</td>\n",
       "      <td>9168.89</td>\n",
       "      <td>9059.38</td>\n",
       "      <td>5.958100e+08</td>\n",
       "      <td>0.0067</td>\n",
       "    </tr>\n",
       "    <tr>\n",
       "      <th>...</th>\n",
       "      <td>...</td>\n",
       "      <td>...</td>\n",
       "      <td>...</td>\n",
       "      <td>...</td>\n",
       "      <td>...</td>\n",
       "      <td>...</td>\n",
       "      <td>...</td>\n",
       "    </tr>\n",
       "    <tr>\n",
       "      <th>239</th>\n",
       "      <td>2020-12-11</td>\n",
       "      <td>12377.87</td>\n",
       "      <td>12336.79</td>\n",
       "      <td>12383.50</td>\n",
       "      <td>12246.77</td>\n",
       "      <td>8.761500e+08</td>\n",
       "      <td>-0.0023</td>\n",
       "    </tr>\n",
       "    <tr>\n",
       "      <th>240</th>\n",
       "      <td>2020-12-14</td>\n",
       "      <td>12440.04</td>\n",
       "      <td>12447.44</td>\n",
       "      <td>12543.00</td>\n",
       "      <td>12432.71</td>\n",
       "      <td>9.833100e+08</td>\n",
       "      <td>0.0050</td>\n",
       "    </tr>\n",
       "    <tr>\n",
       "      <th>241</th>\n",
       "      <td>2020-12-15</td>\n",
       "      <td>12595.06</td>\n",
       "      <td>12543.26</td>\n",
       "      <td>12596.13</td>\n",
       "      <td>12465.42</td>\n",
       "      <td>9.156200e+08</td>\n",
       "      <td>0.0125</td>\n",
       "    </tr>\n",
       "    <tr>\n",
       "      <th>242</th>\n",
       "      <td>2020-12-16</td>\n",
       "      <td>12658.19</td>\n",
       "      <td>12611.04</td>\n",
       "      <td>12687.32</td>\n",
       "      <td>12566.38</td>\n",
       "      <td>9.858200e+08</td>\n",
       "      <td>0.0050</td>\n",
       "    </tr>\n",
       "    <tr>\n",
       "      <th>243</th>\n",
       "      <td>2020-12-17</td>\n",
       "      <td>12764.75</td>\n",
       "      <td>12730.78</td>\n",
       "      <td>12765.25</td>\n",
       "      <td>12696.35</td>\n",
       "      <td>1.020000e+09</td>\n",
       "      <td>0.0084</td>\n",
       "    </tr>\n",
       "  </tbody>\n",
       "</table>\n",
       "<p>244 rows × 7 columns</p>\n",
       "</div>"
      ],
      "text/plain": [
       "           Date     Close      Open      High       Low        Volume  Change\n",
       "0    2020-01-02   9092.19   9039.46   9093.43   9010.89  6.549500e+08  0.0133\n",
       "1    2020-01-03   9020.77   8976.43   9065.76   8976.43  6.185500e+08 -0.0079\n",
       "2    2020-01-06   9071.47   8943.50   9072.41   8943.50  6.902300e+08  0.0056\n",
       "3    2020-01-07   9068.58   9076.65   9091.93   9042.55  5.522300e+08 -0.0003\n",
       "4    2020-01-08   9129.24   9068.03   9168.89   9059.38  5.958100e+08  0.0067\n",
       "..          ...       ...       ...       ...       ...           ...     ...\n",
       "239  2020-12-11  12377.87  12336.79  12383.50  12246.77  8.761500e+08 -0.0023\n",
       "240  2020-12-14  12440.04  12447.44  12543.00  12432.71  9.833100e+08  0.0050\n",
       "241  2020-12-15  12595.06  12543.26  12596.13  12465.42  9.156200e+08  0.0125\n",
       "242  2020-12-16  12658.19  12611.04  12687.32  12566.38  9.858200e+08  0.0050\n",
       "243  2020-12-17  12764.75  12730.78  12765.25  12696.35  1.020000e+09  0.0084\n",
       "\n",
       "[244 rows x 7 columns]"
      ]
     },
     "execution_count": 9,
     "metadata": {},
     "output_type": "execute_result"
    }
   ],
   "source": [
    "#nas['new_date'] = new_date\n",
    "nas"
   ]
  },
  {
   "cell_type": "code",
   "execution_count": 10,
   "metadata": {},
   "outputs": [
    {
     "data": {
      "text/plain": [
       "['Date', 'Close', 'Open', 'High', 'Low', 'Volume', 'Change']"
      ]
     },
     "execution_count": 10,
     "metadata": {},
     "output_type": "execute_result"
    }
   ],
   "source": [
    "# 칼럼 재배치\n",
    "\n",
    "cols = nas.columns.tolist()\n",
    "cols"
   ]
  },
  {
   "cell_type": "code",
   "execution_count": 11,
   "metadata": {},
   "outputs": [],
   "source": [
    "cols = cols[-1:]+cols[:-1]"
   ]
  },
  {
   "cell_type": "code",
   "execution_count": 12,
   "metadata": {},
   "outputs": [],
   "source": [
    "nas = nas[cols]"
   ]
  },
  {
   "cell_type": "code",
   "execution_count": 13,
   "metadata": {},
   "outputs": [
    {
     "name": "stderr",
     "output_type": "stream",
     "text": [
      "C:\\ProgramData\\Anaconda3\\lib\\site-packages\\pandas\\core\\frame.py:3990: SettingWithCopyWarning: \n",
      "A value is trying to be set on a copy of a slice from a DataFrame\n",
      "\n",
      "See the caveats in the documentation: https://pandas.pydata.org/pandas-docs/stable/user_guide/indexing.html#returning-a-view-versus-a-copy\n",
      "  return super().drop(\n"
     ]
    }
   ],
   "source": [
    "nas.drop(['Date'],axis='columns',inplace=True)"
   ]
  },
  {
   "cell_type": "code",
   "execution_count": 14,
   "metadata": {},
   "outputs": [
    {
     "data": {
      "text/html": [
       "<div>\n",
       "<style scoped>\n",
       "    .dataframe tbody tr th:only-of-type {\n",
       "        vertical-align: middle;\n",
       "    }\n",
       "\n",
       "    .dataframe tbody tr th {\n",
       "        vertical-align: top;\n",
       "    }\n",
       "\n",
       "    .dataframe thead th {\n",
       "        text-align: right;\n",
       "    }\n",
       "</style>\n",
       "<table border=\"1\" class=\"dataframe\">\n",
       "  <thead>\n",
       "    <tr style=\"text-align: right;\">\n",
       "      <th></th>\n",
       "      <th>Change</th>\n",
       "      <th>Close</th>\n",
       "      <th>Open</th>\n",
       "      <th>High</th>\n",
       "      <th>Low</th>\n",
       "      <th>Volume</th>\n",
       "    </tr>\n",
       "  </thead>\n",
       "  <tbody>\n",
       "    <tr>\n",
       "      <th>0</th>\n",
       "      <td>0.0133</td>\n",
       "      <td>9092.19</td>\n",
       "      <td>9039.46</td>\n",
       "      <td>9093.43</td>\n",
       "      <td>9010.89</td>\n",
       "      <td>6.549500e+08</td>\n",
       "    </tr>\n",
       "    <tr>\n",
       "      <th>1</th>\n",
       "      <td>-0.0079</td>\n",
       "      <td>9020.77</td>\n",
       "      <td>8976.43</td>\n",
       "      <td>9065.76</td>\n",
       "      <td>8976.43</td>\n",
       "      <td>6.185500e+08</td>\n",
       "    </tr>\n",
       "    <tr>\n",
       "      <th>2</th>\n",
       "      <td>0.0056</td>\n",
       "      <td>9071.47</td>\n",
       "      <td>8943.50</td>\n",
       "      <td>9072.41</td>\n",
       "      <td>8943.50</td>\n",
       "      <td>6.902300e+08</td>\n",
       "    </tr>\n",
       "    <tr>\n",
       "      <th>3</th>\n",
       "      <td>-0.0003</td>\n",
       "      <td>9068.58</td>\n",
       "      <td>9076.65</td>\n",
       "      <td>9091.93</td>\n",
       "      <td>9042.55</td>\n",
       "      <td>5.522300e+08</td>\n",
       "    </tr>\n",
       "    <tr>\n",
       "      <th>4</th>\n",
       "      <td>0.0067</td>\n",
       "      <td>9129.24</td>\n",
       "      <td>9068.03</td>\n",
       "      <td>9168.89</td>\n",
       "      <td>9059.38</td>\n",
       "      <td>5.958100e+08</td>\n",
       "    </tr>\n",
       "    <tr>\n",
       "      <th>...</th>\n",
       "      <td>...</td>\n",
       "      <td>...</td>\n",
       "      <td>...</td>\n",
       "      <td>...</td>\n",
       "      <td>...</td>\n",
       "      <td>...</td>\n",
       "    </tr>\n",
       "    <tr>\n",
       "      <th>239</th>\n",
       "      <td>-0.0023</td>\n",
       "      <td>12377.87</td>\n",
       "      <td>12336.79</td>\n",
       "      <td>12383.50</td>\n",
       "      <td>12246.77</td>\n",
       "      <td>8.761500e+08</td>\n",
       "    </tr>\n",
       "    <tr>\n",
       "      <th>240</th>\n",
       "      <td>0.0050</td>\n",
       "      <td>12440.04</td>\n",
       "      <td>12447.44</td>\n",
       "      <td>12543.00</td>\n",
       "      <td>12432.71</td>\n",
       "      <td>9.833100e+08</td>\n",
       "    </tr>\n",
       "    <tr>\n",
       "      <th>241</th>\n",
       "      <td>0.0125</td>\n",
       "      <td>12595.06</td>\n",
       "      <td>12543.26</td>\n",
       "      <td>12596.13</td>\n",
       "      <td>12465.42</td>\n",
       "      <td>9.156200e+08</td>\n",
       "    </tr>\n",
       "    <tr>\n",
       "      <th>242</th>\n",
       "      <td>0.0050</td>\n",
       "      <td>12658.19</td>\n",
       "      <td>12611.04</td>\n",
       "      <td>12687.32</td>\n",
       "      <td>12566.38</td>\n",
       "      <td>9.858200e+08</td>\n",
       "    </tr>\n",
       "    <tr>\n",
       "      <th>243</th>\n",
       "      <td>0.0084</td>\n",
       "      <td>12764.75</td>\n",
       "      <td>12730.78</td>\n",
       "      <td>12765.25</td>\n",
       "      <td>12696.35</td>\n",
       "      <td>1.020000e+09</td>\n",
       "    </tr>\n",
       "  </tbody>\n",
       "</table>\n",
       "<p>244 rows × 6 columns</p>\n",
       "</div>"
      ],
      "text/plain": [
       "     Change     Close      Open      High       Low        Volume\n",
       "0    0.0133   9092.19   9039.46   9093.43   9010.89  6.549500e+08\n",
       "1   -0.0079   9020.77   8976.43   9065.76   8976.43  6.185500e+08\n",
       "2    0.0056   9071.47   8943.50   9072.41   8943.50  6.902300e+08\n",
       "3   -0.0003   9068.58   9076.65   9091.93   9042.55  5.522300e+08\n",
       "4    0.0067   9129.24   9068.03   9168.89   9059.38  5.958100e+08\n",
       "..      ...       ...       ...       ...       ...           ...\n",
       "239 -0.0023  12377.87  12336.79  12383.50  12246.77  8.761500e+08\n",
       "240  0.0050  12440.04  12447.44  12543.00  12432.71  9.833100e+08\n",
       "241  0.0125  12595.06  12543.26  12596.13  12465.42  9.156200e+08\n",
       "242  0.0050  12658.19  12611.04  12687.32  12566.38  9.858200e+08\n",
       "243  0.0084  12764.75  12730.78  12765.25  12696.35  1.020000e+09\n",
       "\n",
       "[244 rows x 6 columns]"
      ]
     },
     "execution_count": 14,
     "metadata": {},
     "output_type": "execute_result"
    }
   ],
   "source": [
    "nas"
   ]
  },
  {
   "cell_type": "code",
   "execution_count": 15,
   "metadata": {},
   "outputs": [],
   "source": [
    "nas.to_csv('.../NASDAQ.csv',index=False)"
   ]
  },
  {
   "cell_type": "code",
   "execution_count": 16,
   "metadata": {},
   "outputs": [],
   "source": [
    "# 다우존스\n",
    "\n",
    "df_dow = fdr.DataReader('DJI','2020')"
   ]
  },
  {
   "cell_type": "code",
   "execution_count": 17,
   "metadata": {},
   "outputs": [],
   "source": [
    "df_dow_1 = df_dow.reset_index()"
   ]
  },
  {
   "cell_type": "code",
   "execution_count": 18,
   "metadata": {},
   "outputs": [],
   "source": [
    "dow = df_dow_1.astype({'Date': str})"
   ]
  },
  {
   "cell_type": "code",
   "execution_count": 19,
   "metadata": {},
   "outputs": [],
   "source": [
    "new_date = []\n",
    "for i in range(len(nas)):\n",
    "    new_date.append(dow['Date'][i].replace('-',''))"
   ]
  },
  {
   "cell_type": "code",
   "execution_count": 20,
   "metadata": {},
   "outputs": [],
   "source": [
    "dow['new_date'] = new_date"
   ]
  },
  {
   "cell_type": "code",
   "execution_count": 21,
   "metadata": {},
   "outputs": [
    {
     "data": {
      "text/plain": [
       "['Date', 'Close', 'Open', 'High', 'Low', 'Volume', 'Change', 'new_date']"
      ]
     },
     "execution_count": 21,
     "metadata": {},
     "output_type": "execute_result"
    }
   ],
   "source": [
    "cols = dow.columns.tolist()\n",
    "cols"
   ]
  },
  {
   "cell_type": "code",
   "execution_count": 22,
   "metadata": {},
   "outputs": [],
   "source": [
    "cols = cols[-1:]+cols[:-1]"
   ]
  },
  {
   "cell_type": "code",
   "execution_count": 23,
   "metadata": {},
   "outputs": [],
   "source": [
    "dow = dow[cols]"
   ]
  },
  {
   "cell_type": "code",
   "execution_count": 24,
   "metadata": {},
   "outputs": [],
   "source": [
    "dow.drop(['Date'],axis='columns',inplace=True)"
   ]
  },
  {
   "cell_type": "code",
   "execution_count": 25,
   "metadata": {},
   "outputs": [],
   "source": [
    "dow.to_csv('.../DOW.csv',index=False)"
   ]
  },
  {
   "cell_type": "code",
   "execution_count": 26,
   "metadata": {},
   "outputs": [],
   "source": [
    "# S&P500\n",
    "\n",
    "df_sp = fdr.DataReader('US500','2020')"
   ]
  },
  {
   "cell_type": "code",
   "execution_count": 27,
   "metadata": {},
   "outputs": [],
   "source": [
    "df_sp_1 = df_sp.reset_index()"
   ]
  },
  {
   "cell_type": "code",
   "execution_count": 28,
   "metadata": {},
   "outputs": [],
   "source": [
    "sp = df_sp_1.astype({'Date': str})"
   ]
  },
  {
   "cell_type": "code",
   "execution_count": 29,
   "metadata": {},
   "outputs": [],
   "source": [
    "new_date = []\n",
    "for i in range(len(nas)):\n",
    "    new_date.append(sp['Date'][i].replace('-',''))"
   ]
  },
  {
   "cell_type": "code",
   "execution_count": 30,
   "metadata": {},
   "outputs": [],
   "source": [
    "sp['new_date'] = new_date"
   ]
  },
  {
   "cell_type": "code",
   "execution_count": 31,
   "metadata": {},
   "outputs": [
    {
     "data": {
      "text/plain": [
       "['Date', 'Close', 'Open', 'High', 'Low', 'Volume', 'Change', 'new_date']"
      ]
     },
     "execution_count": 31,
     "metadata": {},
     "output_type": "execute_result"
    }
   ],
   "source": [
    "cols = sp.columns.tolist()\n",
    "cols"
   ]
  },
  {
   "cell_type": "code",
   "execution_count": 32,
   "metadata": {},
   "outputs": [],
   "source": [
    "cols = cols[-1:]+cols[:-1]"
   ]
  },
  {
   "cell_type": "code",
   "execution_count": 33,
   "metadata": {},
   "outputs": [],
   "source": [
    "sp = sp[cols]"
   ]
  },
  {
   "cell_type": "code",
   "execution_count": 34,
   "metadata": {},
   "outputs": [],
   "source": [
    "sp.drop(['Date'],axis='columns',inplace=True)"
   ]
  },
  {
   "cell_type": "code",
   "execution_count": 35,
   "metadata": {},
   "outputs": [],
   "source": [
    "sp.to_csv('.../S&P500.csv',index=False)"
   ]
  },
  {
   "cell_type": "code",
   "execution_count": 36,
   "metadata": {},
   "outputs": [],
   "source": [
    "# 닛케이\n",
    "\n",
    "df_nit = fdr.DataReader('JP225','2020')"
   ]
  },
  {
   "cell_type": "code",
   "execution_count": 37,
   "metadata": {},
   "outputs": [],
   "source": [
    "df_nit_1 = df_nit.reset_index()"
   ]
  },
  {
   "cell_type": "code",
   "execution_count": 38,
   "metadata": {},
   "outputs": [],
   "source": [
    "nit = df_nit_1.astype({'Date': str})"
   ]
  },
  {
   "cell_type": "code",
   "execution_count": 39,
   "metadata": {},
   "outputs": [],
   "source": [
    "new_date = []\n",
    "for i in range(len(nit)):\n",
    "    new_date.append(nit['Date'][i].replace('-',''))"
   ]
  },
  {
   "cell_type": "code",
   "execution_count": 40,
   "metadata": {},
   "outputs": [],
   "source": [
    "nit['new_date'] = new_date"
   ]
  },
  {
   "cell_type": "code",
   "execution_count": 41,
   "metadata": {},
   "outputs": [],
   "source": [
    "nit = nit[cols]"
   ]
  },
  {
   "cell_type": "code",
   "execution_count": 42,
   "metadata": {},
   "outputs": [],
   "source": [
    "nit.drop(['Date'],axis='columns',inplace=True)"
   ]
  },
  {
   "cell_type": "code",
   "execution_count": 43,
   "metadata": {},
   "outputs": [],
   "source": [
    "nit.to_csv('.../닛케이225선물.csv',index=False)"
   ]
  },
  {
   "cell_type": "code",
   "execution_count": 44,
   "metadata": {},
   "outputs": [],
   "source": [
    "# CSI 300\n",
    "\n",
    "df_csi = fdr.DataReader('CSI300','2020')"
   ]
  },
  {
   "cell_type": "code",
   "execution_count": 45,
   "metadata": {},
   "outputs": [],
   "source": [
    "df_csi_1 = df_csi.reset_index()"
   ]
  },
  {
   "cell_type": "code",
   "execution_count": 46,
   "metadata": {},
   "outputs": [],
   "source": [
    "csi = df_csi_1.astype({'Date': str})"
   ]
  },
  {
   "cell_type": "code",
   "execution_count": 47,
   "metadata": {},
   "outputs": [],
   "source": [
    "new_date = []\n",
    "for i in range(len(csi)):\n",
    "    new_date.append(csi['Date'][i].replace('-',''))"
   ]
  },
  {
   "cell_type": "code",
   "execution_count": 48,
   "metadata": {},
   "outputs": [],
   "source": [
    "csi['new_date'] = new_date"
   ]
  },
  {
   "cell_type": "code",
   "execution_count": 49,
   "metadata": {},
   "outputs": [],
   "source": [
    "csi = csi[cols]"
   ]
  },
  {
   "cell_type": "code",
   "execution_count": 50,
   "metadata": {},
   "outputs": [],
   "source": [
    "csi.drop(['Date'],axis='columns',inplace=True)"
   ]
  },
  {
   "cell_type": "code",
   "execution_count": 51,
   "metadata": {},
   "outputs": [],
   "source": [
    "csi.to_csv('.../CSI300.csv',index=False)"
   ]
  },
  {
   "cell_type": "code",
   "execution_count": 52,
   "metadata": {},
   "outputs": [],
   "source": [
    "# 홍콩 항셍\n",
    "\n",
    "df_hsi = fdr.DataReader('HSI','2020')"
   ]
  },
  {
   "cell_type": "code",
   "execution_count": 53,
   "metadata": {},
   "outputs": [],
   "source": [
    "df_hsi_1 = df_hsi.reset_index()"
   ]
  },
  {
   "cell_type": "code",
   "execution_count": 54,
   "metadata": {},
   "outputs": [],
   "source": [
    "hsi = df_hsi_1.astype({'Date': str})"
   ]
  },
  {
   "cell_type": "code",
   "execution_count": 55,
   "metadata": {},
   "outputs": [],
   "source": [
    "new_date = []\n",
    "for i in range(len(hsi)):\n",
    "    new_date.append(hsi['Date'][i].replace('-',''))"
   ]
  },
  {
   "cell_type": "code",
   "execution_count": 56,
   "metadata": {},
   "outputs": [],
   "source": [
    "hsi['new_date'] = new_date"
   ]
  },
  {
   "cell_type": "code",
   "execution_count": 57,
   "metadata": {},
   "outputs": [],
   "source": [
    "hsi = hsi[cols]"
   ]
  },
  {
   "cell_type": "code",
   "execution_count": 58,
   "metadata": {},
   "outputs": [],
   "source": [
    "hsi.drop(['Date'],axis='columns',inplace=True)"
   ]
  },
  {
   "cell_type": "code",
   "execution_count": 59,
   "metadata": {},
   "outputs": [],
   "source": [
    "hsi.to_csv('.../HSI.csv',index=False)"
   ]
  },
  {
   "cell_type": "code",
   "execution_count": null,
   "metadata": {},
   "outputs": [],
   "source": []
  }
 ],
 "metadata": {
  "kernelspec": {
   "display_name": "Python 3",
   "language": "python",
   "name": "python3"
  },
  "language_info": {
   "codemirror_mode": {
    "name": "ipython",
    "version": 3
   },
   "file_extension": ".py",
   "mimetype": "text/x-python",
   "name": "python",
   "nbconvert_exporter": "python",
   "pygments_lexer": "ipython3",
   "version": "3.8.5"
  }
 },
 "nbformat": 4,
 "nbformat_minor": 4
}
