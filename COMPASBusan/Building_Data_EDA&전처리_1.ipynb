{
 "cells": [
  {
   "cell_type": "markdown",
   "id": "civilian-aging",
   "metadata": {},
   "source": [
    "# 건물 데이터 EDA 및 전처리\n",
    "\n",
    "* 목표: 학습데이터 구축을 위해 각각의 데이터 구조를 파악하고 적합한 형태로 가공한 후 재저장"
   ]
  },
  {
   "cell_type": "code",
   "execution_count": 1,
   "id": "consistent-spell",
   "metadata": {},
   "outputs": [
    {
     "name": "stdout",
     "output_type": "stream",
     "text": [
      "3.6.9 (default, Nov 11 2019, 11:24:16) \n",
      "[GCC 4.8.5 20150623 (Red Hat 4.8.5-39)]\n"
     ]
    }
   ],
   "source": [
    "# import libraries\n",
    "\n",
    "import sys\n",
    "import os\n",
    "import pathlib\n",
    "from pathlib import Path\n",
    "import datetime\n",
    "from datetime import datetime\n",
    "import time\n",
    "import warnings\n",
    "warnings.filterwarnings(action='ignore')\n",
    "from tqdm import tqdm\n",
    "\n",
    "import pandas as pd\n",
    "import numpy as np\n",
    "import json\n",
    "import folium\n",
    "import geopandas as gpd\n",
    "import fiona\n",
    "from shapely.geometry import Point, LineString\n",
    "import pyproj\n",
    "\n",
    "import matplotlib as mat\n",
    "import matplotlib.pyplot as plt\n",
    "import seaborn as sns\n",
    "%matplotlib inline\n",
    "from matplotlib import font_manager, rc\n",
    "\n",
    "plt.rcParams['figure.figsize'] = (20,10)\n",
    "mat.rcParams['axes.unicode_minus'] = False\n",
    "\n",
    "import io\n",
    "from PIL import Image\n",
    "\n",
    "from geoband import API\n",
    "from geoband.API import *\n",
    "\n",
    "print(sys.version)"
   ]
  },
  {
   "cell_type": "code",
   "execution_count": 2,
   "id": "silent-count",
   "metadata": {},
   "outputs": [],
   "source": [
    "input_path = pathlib.Path('./input')\n",
    "if not input_path.is_dir():\n",
    "    input_path.mkdir()\n",
    "\n",
    "# 대회데이터\n",
    "\n",
    "bd = pd.read_csv(input_path.joinpath('4.부산시남구_건축물대장(표제부).csv'))\n",
    "addr_bd = gpd.read_file(input_path.joinpath('5.부산시남구_도로명주소(건물).geojson'))\n",
    "age = gpd.read_file(input_path.joinpath('6.부산시남구_주택노후도.geojson'))\n",
    "prc = gpd.read_file(input_path.joinpath('10.부산시남구_공시지가.geojson'))"
   ]
  },
  {
   "cell_type": "markdown",
   "id": "continent-messenger",
   "metadata": {},
   "source": [
    "---"
   ]
  },
  {
   "cell_type": "markdown",
   "id": "coupled-accommodation",
   "metadata": {},
   "source": [
    "## 대회데이터"
   ]
  },
  {
   "cell_type": "markdown",
   "id": "piano-japanese",
   "metadata": {},
   "source": [
    "### 건축물대장(표제부)\n",
    "\n",
    "* 현재 기준의 부산시 남구 건축물대장 표제부 데이터(건물 노후도(사용승인일자) 및 주차 용량 정보 활용 데이터)\n",
    "\n",
    "* 학습데이터의 기본 틀\n",
    "  \n",
    "  - 이 데이터프레임을 바탕으로 결측값을 채우고, 새로운 컬럼을 추가할 예정"
   ]
  },
  {
   "cell_type": "code",
   "execution_count": 3,
   "id": "cheap-asbestos",
   "metadata": {},
   "outputs": [
    {
     "data": {
      "text/html": [
       "<div>\n",
       "<style scoped>\n",
       "    .dataframe tbody tr th:only-of-type {\n",
       "        vertical-align: middle;\n",
       "    }\n",
       "\n",
       "    .dataframe tbody tr th {\n",
       "        vertical-align: top;\n",
       "    }\n",
       "\n",
       "    .dataframe thead th {\n",
       "        text-align: right;\n",
       "    }\n",
       "</style>\n",
       "<table border=\"1\" class=\"dataframe\">\n",
       "  <thead>\n",
       "    <tr style=\"text-align: right;\">\n",
       "      <th></th>\n",
       "      <th>loc</th>\n",
       "      <th>sgg_cd</th>\n",
       "      <th>emd_cd</th>\n",
       "      <th>land_gbn</th>\n",
       "      <th>bun</th>\n",
       "      <th>ji</th>\n",
       "      <th>reg_cd</th>\n",
       "      <th>reg_fld_cd</th>\n",
       "      <th>address</th>\n",
       "      <th>emd_nm</th>\n",
       "      <th>...</th>\n",
       "      <th>in_mec_area</th>\n",
       "      <th>out_mec_num</th>\n",
       "      <th>out_mec_area</th>\n",
       "      <th>in_sfp_num</th>\n",
       "      <th>in_sfp_area</th>\n",
       "      <th>out_sfp_num</th>\n",
       "      <th>out_sfp_area</th>\n",
       "      <th>us_athr_date</th>\n",
       "      <th>lon</th>\n",
       "      <th>lat</th>\n",
       "    </tr>\n",
       "  </thead>\n",
       "  <tbody>\n",
       "    <tr>\n",
       "      <th>0</th>\n",
       "      <td>부산광역시 남구 대연동 1-4번지</td>\n",
       "      <td>26290</td>\n",
       "      <td>10600</td>\n",
       "      <td>0</td>\n",
       "      <td>\"0001\"</td>\n",
       "      <td>\"0004\"</td>\n",
       "      <td>일반</td>\n",
       "      <td>일반건축물</td>\n",
       "      <td></td>\n",
       "      <td>NaN</td>\n",
       "      <td>...</td>\n",
       "      <td>0.0</td>\n",
       "      <td>0</td>\n",
       "      <td>0.0</td>\n",
       "      <td>0</td>\n",
       "      <td>0.0</td>\n",
       "      <td>0</td>\n",
       "      <td>0.0</td>\n",
       "      <td>19750211.0</td>\n",
       "      <td>129.101522</td>\n",
       "      <td>35.136334</td>\n",
       "    </tr>\n",
       "  </tbody>\n",
       "</table>\n",
       "<p>1 rows × 28 columns</p>\n",
       "</div>"
      ],
      "text/plain": [
       "                  loc  sgg_cd  emd_cd  land_gbn     bun      ji reg_cd  \\\n",
       "0  부산광역시 남구 대연동 1-4번지   26290   10600         0  \"0001\"  \"0004\"     일반   \n",
       "\n",
       "  reg_fld_cd address emd_nm  ... in_mec_area out_mec_num out_mec_area  \\\n",
       "0      일반건축물            NaN  ...         0.0           0          0.0   \n",
       "\n",
       "   in_sfp_num  in_sfp_area  out_sfp_num  out_sfp_area  us_athr_date  \\\n",
       "0           0          0.0            0           0.0    19750211.0   \n",
       "\n",
       "          lon        lat  \n",
       "0  129.101522  35.136334  \n",
       "\n",
       "[1 rows x 28 columns]"
      ]
     },
     "execution_count": 3,
     "metadata": {},
     "output_type": "execute_result"
    }
   ],
   "source": [
    "bd.head(1)"
   ]
  },
  {
   "cell_type": "code",
   "execution_count": 4,
   "id": "adequate-semester",
   "metadata": {},
   "outputs": [
    {
     "name": "stdout",
     "output_type": "stream",
     "text": [
      "<class 'pandas.core.frame.DataFrame'>\n",
      "RangeIndex: 26101 entries, 0 to 26100\n",
      "Data columns (total 28 columns):\n",
      " #   Column        Non-Null Count  Dtype  \n",
      "---  ------        --------------  -----  \n",
      " 0   loc           26101 non-null  object \n",
      " 1   sgg_cd        26101 non-null  int64  \n",
      " 2   emd_cd        26101 non-null  int64  \n",
      " 3   land_gbn      26101 non-null  int64  \n",
      " 4   bun           26101 non-null  object \n",
      " 5   ji            26101 non-null  object \n",
      " 6   reg_cd        26101 non-null  object \n",
      " 7   reg_fld_cd    26101 non-null  object \n",
      " 8   address       26101 non-null  object \n",
      " 9   emd_nm        3337 non-null   object \n",
      " 10  mbd_sep_cd    26100 non-null  object \n",
      " 11  mus_cd_nm     26093 non-null  object \n",
      " 12  etc_us_info   26085 non-null  object \n",
      " 13  house_num     26101 non-null  int64  \n",
      " 14  fam_num       26101 non-null  int64  \n",
      " 15  grd_flr_num   26101 non-null  int64  \n",
      " 16  ugr_flr_num   26101 non-null  int64  \n",
      " 17  in_mec_num    26101 non-null  int64  \n",
      " 18  in_mec_area   26101 non-null  float64\n",
      " 19  out_mec_num   26101 non-null  int64  \n",
      " 20  out_mec_area  26101 non-null  float64\n",
      " 21  in_sfp_num    26101 non-null  int64  \n",
      " 22  in_sfp_area   26101 non-null  float64\n",
      " 23  out_sfp_num   26101 non-null  int64  \n",
      " 24  out_sfp_area  26101 non-null  float64\n",
      " 25  us_athr_date  21757 non-null  float64\n",
      " 26  lon           26101 non-null  float64\n",
      " 27  lat           26101 non-null  float64\n",
      "dtypes: float64(7), int64(11), object(10)\n",
      "memory usage: 5.6+ MB\n"
     ]
    }
   ],
   "source": [
    "bd.info()"
   ]
  },
  {
   "cell_type": "markdown",
   "id": "fifty-christmas",
   "metadata": {},
   "source": [
    "#### 컬럼별 설명\n",
    "\n",
    "* loc: 대지 위치 정보\n",
    "  - 번지 주소\n",
    "* sgg_cd: 시군구 코드\n",
    "  - 부산광역시 코드\n",
    "* emd_cd: 법정동 코드\n",
    "* land_gbn: 대지구분코드\n",
    "  - 0: 일반, 1: 산, 2: 가번지\n",
    "* bun: 번 정보\n",
    "* ji: 지 정보\n",
    "* reg_cd: 대장의 구분코드명\n",
    "* reg_fld_cd: 대장의 종류코드명\n",
    "* address: 대지의 도로명 주소\n",
    "* emd_nm: 동명칭\n",
    "* mbd_sep_cd: 주부속 구분 코드 정보\n",
    "* mus_cd_nm: 주용도 코드 이름\n",
    "* etc_us_info: 기타 용도 정보\n",
    "* house_num: 세대 수\n",
    "* fam_num: 가구 수\n",
    "* grd_flr_num: 지상 층 수\n",
    "* ugr_flr_num: 지하 층 수\n",
    "* in_mec_num: 옥내기계식 대수\n",
    "* in_mec_area: 옥내기계식 면적\n",
    "* out_mec_num: 옥외 기계식 대수\n",
    "* out_mec_area: 옥외 기계식 면적\n",
    "* in_sfp_num: 옥내 자주식 대수\n",
    "* in_sfp_area: 옥내 자주식 면적\n",
    "* out_sfp_num: 옥외 자주식 대수\n",
    "* out_sfp_area: 옥외 자주식 면적\n",
    "* us_athr_date: 사용승인 날짜\n",
    "* lon: 경도\n",
    "* lat: 위도"
   ]
  },
  {
   "cell_type": "code",
   "execution_count": 5,
   "id": "controlling-harrison",
   "metadata": {},
   "outputs": [
    {
     "data": {
      "text/plain": [
       "loc                 0\n",
       "sgg_cd              0\n",
       "emd_cd              0\n",
       "land_gbn            0\n",
       "bun                 0\n",
       "ji                  0\n",
       "reg_cd              0\n",
       "reg_fld_cd          0\n",
       "address             0\n",
       "emd_nm          22764\n",
       "mbd_sep_cd          1\n",
       "mus_cd_nm           8\n",
       "etc_us_info        16\n",
       "house_num           0\n",
       "fam_num             0\n",
       "grd_flr_num         0\n",
       "ugr_flr_num         0\n",
       "in_mec_num          0\n",
       "in_mec_area         0\n",
       "out_mec_num         0\n",
       "out_mec_area        0\n",
       "in_sfp_num          0\n",
       "in_sfp_area         0\n",
       "out_sfp_num         0\n",
       "out_sfp_area        0\n",
       "us_athr_date     4344\n",
       "lon                 0\n",
       "lat                 0\n",
       "dtype: int64"
      ]
     },
     "execution_count": 5,
     "metadata": {},
     "output_type": "execute_result"
    }
   ],
   "source": [
    "# 컬럼별 결측값 갯수 확인\n",
    "\n",
    "bd.isnull().sum()"
   ]
  },
  {
   "cell_type": "code",
   "execution_count": 6,
   "id": "communist-wilson",
   "metadata": {},
   "outputs": [
    {
     "data": {
      "text/plain": [
       "array([26290])"
      ]
     },
     "execution_count": 6,
     "metadata": {},
     "output_type": "execute_result"
    }
   ],
   "source": [
    "bd['sgg_cd'].unique() #  제거 (새로운 컬럼 생성)"
   ]
  },
  {
   "cell_type": "code",
   "execution_count": 7,
   "id": "electric-converter",
   "metadata": {},
   "outputs": [
    {
     "data": {
      "text/plain": [
       "10600    8569\n",
       "10900    6352\n",
       "10700    4594\n",
       "11100    3362\n",
       "11000    2121\n",
       "10800    1103\n",
       "Name: emd_cd, dtype: int64"
      ]
     },
     "execution_count": 7,
     "metadata": {},
     "output_type": "execute_result"
    }
   ],
   "source": [
    "bd['emd_cd'].value_counts() # 제거 (새로운 컬럼 생성)"
   ]
  },
  {
   "cell_type": "code",
   "execution_count": 8,
   "id": "suspended-attempt",
   "metadata": {},
   "outputs": [
    {
     "data": {
      "text/plain": [
       "0    25643\n",
       "1      444\n",
       "2       14\n",
       "Name: land_gbn, dtype: int64"
      ]
     },
     "execution_count": 8,
     "metadata": {},
     "output_type": "execute_result"
    }
   ],
   "source": [
    "bd['land_gbn'].value_counts()"
   ]
  },
  {
   "cell_type": "code",
   "execution_count": 9,
   "id": "essential-upset",
   "metadata": {},
   "outputs": [
    {
     "data": {
      "text/plain": [
       "array(['일반', '집합'], dtype=object)"
      ]
     },
     "execution_count": 9,
     "metadata": {},
     "output_type": "execute_result"
    }
   ],
   "source": [
    "bd['reg_cd'].unique()"
   ]
  },
  {
   "cell_type": "code",
   "execution_count": 10,
   "id": "medieval-judgment",
   "metadata": {},
   "outputs": [
    {
     "data": {
      "text/plain": [
       "array(['일반건축물', '표제부'], dtype=object)"
      ]
     },
     "execution_count": 10,
     "metadata": {},
     "output_type": "execute_result"
    }
   ],
   "source": [
    "bd['reg_fld_cd'].unique()"
   ]
  },
  {
   "cell_type": "code",
   "execution_count": 11,
   "id": "labeled-flash",
   "metadata": {},
   "outputs": [
    {
     "data": {
      "text/plain": [
       "18532"
      ]
     },
     "execution_count": 11,
     "metadata": {},
     "output_type": "execute_result"
    }
   ],
   "source": [
    "bd['address'].nunique()"
   ]
  },
  {
   "cell_type": "code",
   "execution_count": 12,
   "id": "charged-afternoon",
   "metadata": {},
   "outputs": [
    {
     "name": "stdout",
     "output_type": "stream",
     "text": [
      "1434 ['주택' '근린생활시설' ' 근린생활시설, 교육연구시설, 업무시설 ' ... '주택  및 점포' '대웅전' '산신각']\n"
     ]
    }
   ],
   "source": [
    "print(bd['etc_us_info'].nunique(), bd['etc_us_info'].unique())"
   ]
  },
  {
   "cell_type": "code",
   "execution_count": 13,
   "id": "geological-circuit",
   "metadata": {},
   "outputs": [
    {
     "data": {
      "text/plain": [
       "array(['주건축물', '부속건축물', nan], dtype=object)"
      ]
     },
     "execution_count": 13,
     "metadata": {},
     "output_type": "execute_result"
    }
   ],
   "source": [
    "bd['mbd_sep_cd'].unique()"
   ]
  },
  {
   "cell_type": "code",
   "execution_count": 14,
   "id": "exterior-trinidad",
   "metadata": {},
   "outputs": [
    {
     "data": {
      "text/plain": [
       "array(['단독주택', '제2종근린생활시설', '공동주택', '제1종근린생활시설', '위험물저장및처리시설', '업무시설',\n",
       "       '자동차관련시설', '노유자시설', '교육연구시설', '종교시설', '공장', '의료시설', '창고시설', '숙박시설',\n",
       "       '동.식물관련시설', nan, '근린생활시설', '방송통신시설', '위락시설', '판매시설', '운수시설',\n",
       "       '운동시설', '문화및집회시설', '교육연구및복지시설', '관광휴게시설', '자원순환관련시설', '분뇨.쓰레기처리시설',\n",
       "       '교정및군사시설'], dtype=object)"
      ]
     },
     "execution_count": 14,
     "metadata": {},
     "output_type": "execute_result"
    }
   ],
   "source": [
    "bd['mus_cd_nm'].unique()"
   ]
  },
  {
   "cell_type": "code",
   "execution_count": 15,
   "id": "external-marketplace",
   "metadata": {},
   "outputs": [
    {
     "data": {
      "text/html": [
       "<div>\n",
       "<style scoped>\n",
       "    .dataframe tbody tr th:only-of-type {\n",
       "        vertical-align: middle;\n",
       "    }\n",
       "\n",
       "    .dataframe tbody tr th {\n",
       "        vertical-align: top;\n",
       "    }\n",
       "\n",
       "    .dataframe thead th {\n",
       "        text-align: right;\n",
       "    }\n",
       "</style>\n",
       "<table border=\"1\" class=\"dataframe\">\n",
       "  <thead>\n",
       "    <tr style=\"text-align: right;\">\n",
       "      <th></th>\n",
       "      <th>house_num</th>\n",
       "      <th>fam_num</th>\n",
       "      <th>grd_flr_num</th>\n",
       "      <th>ugr_flr_num</th>\n",
       "      <th>in_mec_num</th>\n",
       "      <th>in_mec_area</th>\n",
       "      <th>out_mec_num</th>\n",
       "      <th>out_mec_area</th>\n",
       "      <th>in_sfp_num</th>\n",
       "      <th>in_sfp_area</th>\n",
       "      <th>out_sfp_num</th>\n",
       "      <th>out_sfp_area</th>\n",
       "    </tr>\n",
       "  </thead>\n",
       "  <tbody>\n",
       "    <tr>\n",
       "      <th>count</th>\n",
       "      <td>26101.000</td>\n",
       "      <td>26101.000</td>\n",
       "      <td>26101.000</td>\n",
       "      <td>26101.000</td>\n",
       "      <td>26101.000</td>\n",
       "      <td>26101.000</td>\n",
       "      <td>26101.000</td>\n",
       "      <td>26101.000</td>\n",
       "      <td>26101.000</td>\n",
       "      <td>26101.000</td>\n",
       "      <td>26101.000</td>\n",
       "      <td>26101.000</td>\n",
       "    </tr>\n",
       "    <tr>\n",
       "      <th>mean</th>\n",
       "      <td>3.620</td>\n",
       "      <td>1.130</td>\n",
       "      <td>2.532</td>\n",
       "      <td>0.192</td>\n",
       "      <td>0.271</td>\n",
       "      <td>1.068</td>\n",
       "      <td>0.019</td>\n",
       "      <td>0.057</td>\n",
       "      <td>11.955</td>\n",
       "      <td>94.793</td>\n",
       "      <td>3.726</td>\n",
       "      <td>32.602</td>\n",
       "    </tr>\n",
       "    <tr>\n",
       "      <th>std</th>\n",
       "      <td>18.683</td>\n",
       "      <td>3.822</td>\n",
       "      <td>3.500</td>\n",
       "      <td>0.465</td>\n",
       "      <td>4.303</td>\n",
       "      <td>20.016</td>\n",
       "      <td>0.728</td>\n",
       "      <td>2.048</td>\n",
       "      <td>219.325</td>\n",
       "      <td>1441.106</td>\n",
       "      <td>44.377</td>\n",
       "      <td>502.757</td>\n",
       "    </tr>\n",
       "    <tr>\n",
       "      <th>min</th>\n",
       "      <td>0.000</td>\n",
       "      <td>0.000</td>\n",
       "      <td>0.000</td>\n",
       "      <td>0.000</td>\n",
       "      <td>0.000</td>\n",
       "      <td>0.000</td>\n",
       "      <td>0.000</td>\n",
       "      <td>0.000</td>\n",
       "      <td>0.000</td>\n",
       "      <td>0.000</td>\n",
       "      <td>0.000</td>\n",
       "      <td>0.000</td>\n",
       "    </tr>\n",
       "    <tr>\n",
       "      <th>25%</th>\n",
       "      <td>0.000</td>\n",
       "      <td>0.000</td>\n",
       "      <td>1.000</td>\n",
       "      <td>0.000</td>\n",
       "      <td>0.000</td>\n",
       "      <td>0.000</td>\n",
       "      <td>0.000</td>\n",
       "      <td>0.000</td>\n",
       "      <td>0.000</td>\n",
       "      <td>0.000</td>\n",
       "      <td>0.000</td>\n",
       "      <td>0.000</td>\n",
       "    </tr>\n",
       "    <tr>\n",
       "      <th>50%</th>\n",
       "      <td>0.000</td>\n",
       "      <td>1.000</td>\n",
       "      <td>2.000</td>\n",
       "      <td>0.000</td>\n",
       "      <td>0.000</td>\n",
       "      <td>0.000</td>\n",
       "      <td>0.000</td>\n",
       "      <td>0.000</td>\n",
       "      <td>0.000</td>\n",
       "      <td>0.000</td>\n",
       "      <td>0.000</td>\n",
       "      <td>0.000</td>\n",
       "    </tr>\n",
       "    <tr>\n",
       "      <th>75%</th>\n",
       "      <td>0.000</td>\n",
       "      <td>1.000</td>\n",
       "      <td>3.000</td>\n",
       "      <td>0.000</td>\n",
       "      <td>0.000</td>\n",
       "      <td>0.000</td>\n",
       "      <td>0.000</td>\n",
       "      <td>0.000</td>\n",
       "      <td>0.000</td>\n",
       "      <td>0.000</td>\n",
       "      <td>0.000</td>\n",
       "      <td>0.000</td>\n",
       "    </tr>\n",
       "    <tr>\n",
       "      <th>max</th>\n",
       "      <td>521.000</td>\n",
       "      <td>400.000</td>\n",
       "      <td>69.000</td>\n",
       "      <td>12.000</td>\n",
       "      <td>238.000</td>\n",
       "      <td>1493.290</td>\n",
       "      <td>80.000</td>\n",
       "      <td>230.000</td>\n",
       "      <td>5399.000</td>\n",
       "      <td>45208.670</td>\n",
       "      <td>1708.000</td>\n",
       "      <td>44875.000</td>\n",
       "    </tr>\n",
       "  </tbody>\n",
       "</table>\n",
       "</div>"
      ],
      "text/plain": [
       "       house_num   fam_num  grd_flr_num  ugr_flr_num  in_mec_num  in_mec_area  \\\n",
       "count  26101.000 26101.000    26101.000    26101.000   26101.000    26101.000   \n",
       "mean       3.620     1.130        2.532        0.192       0.271        1.068   \n",
       "std       18.683     3.822        3.500        0.465       4.303       20.016   \n",
       "min        0.000     0.000        0.000        0.000       0.000        0.000   \n",
       "25%        0.000     0.000        1.000        0.000       0.000        0.000   \n",
       "50%        0.000     1.000        2.000        0.000       0.000        0.000   \n",
       "75%        0.000     1.000        3.000        0.000       0.000        0.000   \n",
       "max      521.000   400.000       69.000       12.000     238.000     1493.290   \n",
       "\n",
       "       out_mec_num  out_mec_area  in_sfp_num  in_sfp_area  out_sfp_num  \\\n",
       "count    26101.000     26101.000   26101.000    26101.000    26101.000   \n",
       "mean         0.019         0.057      11.955       94.793        3.726   \n",
       "std          0.728         2.048     219.325     1441.106       44.377   \n",
       "min          0.000         0.000       0.000        0.000        0.000   \n",
       "25%          0.000         0.000       0.000        0.000        0.000   \n",
       "50%          0.000         0.000       0.000        0.000        0.000   \n",
       "75%          0.000         0.000       0.000        0.000        0.000   \n",
       "max         80.000       230.000    5399.000    45208.670     1708.000   \n",
       "\n",
       "       out_sfp_area  \n",
       "count     26101.000  \n",
       "mean         32.602  \n",
       "std         502.757  \n",
       "min           0.000  \n",
       "25%           0.000  \n",
       "50%           0.000  \n",
       "75%           0.000  \n",
       "max       44875.000  "
      ]
     },
     "execution_count": 15,
     "metadata": {},
     "output_type": "execute_result"
    }
   ],
   "source": [
    "# 숫자형 컬럼 mean, max, min 등 확인\n",
    "\n",
    "pd.options.display.float_format = '{:.3f}'.format # 소수점 이하 셋째 자리까지만 표시\n",
    "\n",
    "num_cols = ['house_num','fam_num','grd_flr_num','ugr_flr_num','in_mec_num',\n",
    "            'in_mec_area','out_mec_num','out_mec_area','in_sfp_num','in_sfp_area','out_sfp_num','out_sfp_area']\n",
    "\n",
    "bd[num_cols].describe()"
   ]
  },
  {
   "cell_type": "code",
   "execution_count": 16,
   "id": "absolute-contractor",
   "metadata": {},
   "outputs": [
    {
     "data": {
      "text/html": [
       "<div>\n",
       "<style scoped>\n",
       "    .dataframe tbody tr th:only-of-type {\n",
       "        vertical-align: middle;\n",
       "    }\n",
       "\n",
       "    .dataframe tbody tr th {\n",
       "        vertical-align: top;\n",
       "    }\n",
       "\n",
       "    .dataframe thead th {\n",
       "        text-align: right;\n",
       "    }\n",
       "</style>\n",
       "<table border=\"1\" class=\"dataframe\">\n",
       "  <thead>\n",
       "    <tr style=\"text-align: right;\">\n",
       "      <th></th>\n",
       "      <th>loc</th>\n",
       "      <th>sgg_cd</th>\n",
       "      <th>emd_cd</th>\n",
       "      <th>land_gbn</th>\n",
       "      <th>bun</th>\n",
       "      <th>ji</th>\n",
       "      <th>reg_cd</th>\n",
       "      <th>reg_fld_cd</th>\n",
       "      <th>address</th>\n",
       "      <th>emd_nm</th>\n",
       "      <th>...</th>\n",
       "      <th>in_sfp_num</th>\n",
       "      <th>in_sfp_area</th>\n",
       "      <th>out_sfp_num</th>\n",
       "      <th>out_sfp_area</th>\n",
       "      <th>us_athr_date</th>\n",
       "      <th>lon</th>\n",
       "      <th>lat</th>\n",
       "      <th>new_ji</th>\n",
       "      <th>new_bun</th>\n",
       "      <th>emd_jibun</th>\n",
       "    </tr>\n",
       "  </thead>\n",
       "  <tbody>\n",
       "    <tr>\n",
       "      <th>0</th>\n",
       "      <td>부산광역시 남구 대연동 1-4번지</td>\n",
       "      <td>26290</td>\n",
       "      <td>10600</td>\n",
       "      <td>0</td>\n",
       "      <td>\"0001\"</td>\n",
       "      <td>\"0004\"</td>\n",
       "      <td>일반</td>\n",
       "      <td>일반건축물</td>\n",
       "      <td></td>\n",
       "      <td>NaN</td>\n",
       "      <td>...</td>\n",
       "      <td>0</td>\n",
       "      <td>0.000</td>\n",
       "      <td>0</td>\n",
       "      <td>0.000</td>\n",
       "      <td>19750211.000</td>\n",
       "      <td>129.102</td>\n",
       "      <td>35.136</td>\n",
       "      <td>4</td>\n",
       "      <td>1</td>\n",
       "      <td>2629010600(4-1)</td>\n",
       "    </tr>\n",
       "  </tbody>\n",
       "</table>\n",
       "<p>1 rows × 31 columns</p>\n",
       "</div>"
      ],
      "text/plain": [
       "                  loc  sgg_cd  emd_cd  land_gbn     bun      ji reg_cd  \\\n",
       "0  부산광역시 남구 대연동 1-4번지   26290   10600         0  \"0001\"  \"0004\"     일반   \n",
       "\n",
       "  reg_fld_cd address emd_nm  ... in_sfp_num in_sfp_area out_sfp_num  \\\n",
       "0      일반건축물            NaN  ...          0       0.000           0   \n",
       "\n",
       "   out_sfp_area  us_athr_date     lon    lat  new_ji  new_bun        emd_jibun  \n",
       "0         0.000  19750211.000 129.102 35.136       4        1  2629010600(4-1)  \n",
       "\n",
       "[1 rows x 31 columns]"
      ]
     },
     "execution_count": 16,
     "metadata": {},
     "output_type": "execute_result"
    }
   ],
   "source": [
    "# 새로운 컬럼 (emd_jibun) 만들기\n",
    "\n",
    "ji = bd['ji'].to_list()\n",
    "ji_2 = [x.replace('\"','') for x in ji]\n",
    "ji_3 = list(map(int, ji_2))\n",
    "ji_4 = list(map(str, ji_3))\n",
    "\n",
    "bun = bd['bun'].to_list()\n",
    "bun_2 = [y.replace('\"','') for y in bun]\n",
    "bun_3 = list(map(int, bun_2))\n",
    "bun_4 = list(map(str, bun_3))\n",
    "\n",
    "bd['new_ji'] = ji_4\n",
    "bd['new_bun'] = bun_4\n",
    "\n",
    "bd['emd_jibun'] = bd['sgg_cd'].map(str) + bd['emd_cd'].map(str) + '(' + bd['new_ji'] + '-' + bd['new_bun'] + ')'\n",
    "\n",
    "bd.head(1)"
   ]
  },
  {
   "cell_type": "code",
   "execution_count": 17,
   "id": "vocal-status",
   "metadata": {},
   "outputs": [
    {
     "data": {
      "text/html": [
       "<div>\n",
       "<style scoped>\n",
       "    .dataframe tbody tr th:only-of-type {\n",
       "        vertical-align: middle;\n",
       "    }\n",
       "\n",
       "    .dataframe tbody tr th {\n",
       "        vertical-align: top;\n",
       "    }\n",
       "\n",
       "    .dataframe thead th {\n",
       "        text-align: right;\n",
       "    }\n",
       "</style>\n",
       "<table border=\"1\" class=\"dataframe\">\n",
       "  <thead>\n",
       "    <tr style=\"text-align: right;\">\n",
       "      <th></th>\n",
       "      <th>land_gbn</th>\n",
       "      <th>reg_cd</th>\n",
       "      <th>reg_fld_cd</th>\n",
       "      <th>address</th>\n",
       "      <th>emd_nm</th>\n",
       "      <th>mbd_sep_cd</th>\n",
       "      <th>mus_cd_nm</th>\n",
       "      <th>etc_us_info</th>\n",
       "      <th>house_num</th>\n",
       "      <th>fam_num</th>\n",
       "      <th>...</th>\n",
       "      <th>out_mec_num</th>\n",
       "      <th>out_mec_area</th>\n",
       "      <th>in_sfp_num</th>\n",
       "      <th>in_sfp_area</th>\n",
       "      <th>out_sfp_num</th>\n",
       "      <th>out_sfp_area</th>\n",
       "      <th>us_athr_date</th>\n",
       "      <th>lon</th>\n",
       "      <th>lat</th>\n",
       "      <th>emd_jibun</th>\n",
       "    </tr>\n",
       "  </thead>\n",
       "  <tbody>\n",
       "    <tr>\n",
       "      <th>0</th>\n",
       "      <td>0</td>\n",
       "      <td>일반</td>\n",
       "      <td>일반건축물</td>\n",
       "      <td></td>\n",
       "      <td>NaN</td>\n",
       "      <td>주건축물</td>\n",
       "      <td>단독주택</td>\n",
       "      <td>주택</td>\n",
       "      <td>0</td>\n",
       "      <td>1</td>\n",
       "      <td>...</td>\n",
       "      <td>0</td>\n",
       "      <td>0.000</td>\n",
       "      <td>0</td>\n",
       "      <td>0.000</td>\n",
       "      <td>0</td>\n",
       "      <td>0.000</td>\n",
       "      <td>19750211.000</td>\n",
       "      <td>129.102</td>\n",
       "      <td>35.136</td>\n",
       "      <td>2629010600(4-1)</td>\n",
       "    </tr>\n",
       "  </tbody>\n",
       "</table>\n",
       "<p>1 rows × 24 columns</p>\n",
       "</div>"
      ],
      "text/plain": [
       "   land_gbn reg_cd reg_fld_cd address emd_nm mbd_sep_cd mus_cd_nm etc_us_info  \\\n",
       "0         0     일반      일반건축물            NaN       주건축물      단독주택          주택   \n",
       "\n",
       "   house_num  fam_num  ...  out_mec_num  out_mec_area  in_sfp_num  \\\n",
       "0          0        1  ...            0         0.000           0   \n",
       "\n",
       "   in_sfp_area  out_sfp_num  out_sfp_area  us_athr_date     lon    lat  \\\n",
       "0        0.000            0         0.000  19750211.000 129.102 35.136   \n",
       "\n",
       "         emd_jibun  \n",
       "0  2629010600(4-1)  \n",
       "\n",
       "[1 rows x 24 columns]"
      ]
     },
     "execution_count": 17,
     "metadata": {},
     "output_type": "execute_result"
    }
   ],
   "source": [
    "# 불필요한 컬럼 제거\n",
    "\n",
    "bd_temp = bd.drop(columns = ['loc','sgg_cd','emd_cd','bun','ji','new_ji','new_bun'], axis=1)\n",
    "\n",
    "bd_temp.head(1)"
   ]
  },
  {
   "cell_type": "code",
   "execution_count": 18,
   "id": "environmental-intro",
   "metadata": {},
   "outputs": [
    {
     "name": "stdout",
     "output_type": "stream",
     "text": [
      "land_gbn                 int64\n",
      "reg_cd                  object\n",
      "reg_fld_cd              object\n",
      "address                 object\n",
      "emd_nm                  object\n",
      "mbd_sep_cd              object\n",
      "mus_cd_nm               object\n",
      "etc_us_info             object\n",
      "house_num                int64\n",
      "fam_num                  int64\n",
      "grd_flr_num              int64\n",
      "ugr_flr_num              int64\n",
      "in_mec_num               int64\n",
      "in_mec_area            float64\n",
      "out_mec_num              int64\n",
      "out_mec_area           float64\n",
      "in_sfp_num               int64\n",
      "in_sfp_area            float64\n",
      "out_sfp_num              int64\n",
      "out_sfp_area           float64\n",
      "us_athr_date    datetime64[ns]\n",
      "lon                    float64\n",
      "lat                    float64\n",
      "emd_jibun               object\n",
      "dtype: object\n"
     ]
    },
    {
     "data": {
      "text/html": [
       "<div>\n",
       "<style scoped>\n",
       "    .dataframe tbody tr th:only-of-type {\n",
       "        vertical-align: middle;\n",
       "    }\n",
       "\n",
       "    .dataframe tbody tr th {\n",
       "        vertical-align: top;\n",
       "    }\n",
       "\n",
       "    .dataframe thead th {\n",
       "        text-align: right;\n",
       "    }\n",
       "</style>\n",
       "<table border=\"1\" class=\"dataframe\">\n",
       "  <thead>\n",
       "    <tr style=\"text-align: right;\">\n",
       "      <th></th>\n",
       "      <th>land_gbn</th>\n",
       "      <th>reg_cd</th>\n",
       "      <th>reg_fld_cd</th>\n",
       "      <th>address</th>\n",
       "      <th>emd_nm</th>\n",
       "      <th>mbd_sep_cd</th>\n",
       "      <th>mus_cd_nm</th>\n",
       "      <th>etc_us_info</th>\n",
       "      <th>house_num</th>\n",
       "      <th>fam_num</th>\n",
       "      <th>...</th>\n",
       "      <th>out_mec_num</th>\n",
       "      <th>out_mec_area</th>\n",
       "      <th>in_sfp_num</th>\n",
       "      <th>in_sfp_area</th>\n",
       "      <th>out_sfp_num</th>\n",
       "      <th>out_sfp_area</th>\n",
       "      <th>us_athr_date</th>\n",
       "      <th>lon</th>\n",
       "      <th>lat</th>\n",
       "      <th>emd_jibun</th>\n",
       "    </tr>\n",
       "  </thead>\n",
       "  <tbody>\n",
       "    <tr>\n",
       "      <th>0</th>\n",
       "      <td>0</td>\n",
       "      <td>일반</td>\n",
       "      <td>일반건축물</td>\n",
       "      <td></td>\n",
       "      <td>NaN</td>\n",
       "      <td>주건축물</td>\n",
       "      <td>단독주택</td>\n",
       "      <td>주택</td>\n",
       "      <td>0</td>\n",
       "      <td>1</td>\n",
       "      <td>...</td>\n",
       "      <td>0</td>\n",
       "      <td>0.000</td>\n",
       "      <td>0</td>\n",
       "      <td>0.000</td>\n",
       "      <td>0</td>\n",
       "      <td>0.000</td>\n",
       "      <td>1975-02-11</td>\n",
       "      <td>129.102</td>\n",
       "      <td>35.136</td>\n",
       "      <td>2629010600(4-1)</td>\n",
       "    </tr>\n",
       "  </tbody>\n",
       "</table>\n",
       "<p>1 rows × 24 columns</p>\n",
       "</div>"
      ],
      "text/plain": [
       "   land_gbn reg_cd reg_fld_cd address emd_nm mbd_sep_cd mus_cd_nm etc_us_info  \\\n",
       "0         0     일반      일반건축물            NaN       주건축물      단독주택          주택   \n",
       "\n",
       "   house_num  fam_num  ...  out_mec_num  out_mec_area  in_sfp_num  \\\n",
       "0          0        1  ...            0         0.000           0   \n",
       "\n",
       "   in_sfp_area  out_sfp_num  out_sfp_area  us_athr_date     lon    lat  \\\n",
       "0        0.000            0         0.000    1975-02-11 129.102 35.136   \n",
       "\n",
       "         emd_jibun  \n",
       "0  2629010600(4-1)  \n",
       "\n",
       "[1 rows x 24 columns]"
      ]
     },
     "execution_count": 18,
     "metadata": {},
     "output_type": "execute_result"
    }
   ],
   "source": [
    "# us_athr_date의 데이터 타입 변경\n",
    "\n",
    "bd_temp['us_athr_date'] = pd.to_datetime(bd_temp['us_athr_date'], format='%Y%m%d', errors='coerce')\n",
    "print(bd_temp.dtypes)\n",
    "bd_temp.head(1)"
   ]
  },
  {
   "cell_type": "code",
   "execution_count": 19,
   "id": "returning-power",
   "metadata": {},
   "outputs": [
    {
     "data": {
      "text/html": [
       "<div>\n",
       "<style scoped>\n",
       "    .dataframe tbody tr th:only-of-type {\n",
       "        vertical-align: middle;\n",
       "    }\n",
       "\n",
       "    .dataframe tbody tr th {\n",
       "        vertical-align: top;\n",
       "    }\n",
       "\n",
       "    .dataframe thead th {\n",
       "        text-align: right;\n",
       "    }\n",
       "</style>\n",
       "<table border=\"1\" class=\"dataframe\">\n",
       "  <thead>\n",
       "    <tr style=\"text-align: right;\">\n",
       "      <th></th>\n",
       "      <th>emd_jibun</th>\n",
       "      <th>land_gbn</th>\n",
       "      <th>reg_cd</th>\n",
       "      <th>reg_fld_cd</th>\n",
       "      <th>address</th>\n",
       "      <th>emd_nm</th>\n",
       "      <th>mbd_sep_cd</th>\n",
       "      <th>mus_cd_nm</th>\n",
       "      <th>etc_us_info</th>\n",
       "      <th>house_num</th>\n",
       "      <th>...</th>\n",
       "      <th>in_mec_area</th>\n",
       "      <th>out_mec_num</th>\n",
       "      <th>out_mec_area</th>\n",
       "      <th>in_sfp_num</th>\n",
       "      <th>in_sfp_area</th>\n",
       "      <th>out_sfp_num</th>\n",
       "      <th>out_sfp_area</th>\n",
       "      <th>us_athr_date</th>\n",
       "      <th>lon</th>\n",
       "      <th>lat</th>\n",
       "    </tr>\n",
       "  </thead>\n",
       "  <tbody>\n",
       "    <tr>\n",
       "      <th>0</th>\n",
       "      <td>2629010600(4-1)</td>\n",
       "      <td>0</td>\n",
       "      <td>일반</td>\n",
       "      <td>일반건축물</td>\n",
       "      <td></td>\n",
       "      <td>NaN</td>\n",
       "      <td>주건축물</td>\n",
       "      <td>단독주택</td>\n",
       "      <td>주택</td>\n",
       "      <td>0</td>\n",
       "      <td>...</td>\n",
       "      <td>0.000</td>\n",
       "      <td>0</td>\n",
       "      <td>0.000</td>\n",
       "      <td>0</td>\n",
       "      <td>0.000</td>\n",
       "      <td>0</td>\n",
       "      <td>0.000</td>\n",
       "      <td>1975-02-11</td>\n",
       "      <td>129.102</td>\n",
       "      <td>35.136</td>\n",
       "    </tr>\n",
       "  </tbody>\n",
       "</table>\n",
       "<p>1 rows × 24 columns</p>\n",
       "</div>"
      ],
      "text/plain": [
       "         emd_jibun  land_gbn reg_cd reg_fld_cd address emd_nm mbd_sep_cd  \\\n",
       "0  2629010600(4-1)         0     일반      일반건축물            NaN       주건축물   \n",
       "\n",
       "  mus_cd_nm etc_us_info  house_num  ...  in_mec_area  out_mec_num  \\\n",
       "0      단독주택          주택          0  ...        0.000            0   \n",
       "\n",
       "   out_mec_area  in_sfp_num  in_sfp_area  out_sfp_num  out_sfp_area  \\\n",
       "0         0.000           0        0.000            0         0.000   \n",
       "\n",
       "   us_athr_date     lon    lat  \n",
       "0    1975-02-11 129.102 35.136  \n",
       "\n",
       "[1 rows x 24 columns]"
      ]
     },
     "execution_count": 19,
     "metadata": {},
     "output_type": "execute_result"
    }
   ],
   "source": [
    "# 컬럼 재배치\n",
    "\n",
    "col_1 = bd_temp.columns[-1:].to_list()\n",
    "col_2 = bd_temp.columns[:-1].to_list()\n",
    "new_col = col_1 + col_2\n",
    "cp_bd = bd_temp[new_col]\n",
    "cp_bd.head(1) # competition building"
   ]
  },
  {
   "cell_type": "code",
   "execution_count": 20,
   "id": "threatened-lesbian",
   "metadata": {},
   "outputs": [],
   "source": [
    "cp_bd.to_csv(input_path.joinpath('대회_건축물대장_정리.csv'), index_label=False)"
   ]
  },
  {
   "cell_type": "markdown",
   "id": "beginning-somalia",
   "metadata": {},
   "source": [
    "---"
   ]
  },
  {
   "cell_type": "markdown",
   "id": "sharing-offense",
   "metadata": {},
   "source": [
    "## 건축물연령\n",
    "\n",
    "* 현재 기준의 부산시 남구 주택노후도 데이터"
   ]
  },
  {
   "cell_type": "code",
   "execution_count": 21,
   "id": "sized-petite",
   "metadata": {},
   "outputs": [
    {
     "data": {
      "text/html": [
       "<div>\n",
       "<style scoped>\n",
       "    .dataframe tbody tr th:only-of-type {\n",
       "        vertical-align: middle;\n",
       "    }\n",
       "\n",
       "    .dataframe tbody tr th {\n",
       "        vertical-align: top;\n",
       "    }\n",
       "\n",
       "    .dataframe thead th {\n",
       "        text-align: right;\n",
       "    }\n",
       "</style>\n",
       "<table border=\"1\" class=\"dataframe\">\n",
       "  <thead>\n",
       "    <tr style=\"text-align: right;\">\n",
       "      <th></th>\n",
       "      <th>emd_cd</th>\n",
       "      <th>emd_nm</th>\n",
       "      <th>spc_grd_cd</th>\n",
       "      <th>spc_grd_info</th>\n",
       "      <th>jibun</th>\n",
       "      <th>co_bd_cd</th>\n",
       "      <th>co_bd_nm</th>\n",
       "      <th>bd_nm</th>\n",
       "      <th>dong</th>\n",
       "      <th>bd_area</th>\n",
       "      <th>mus_cd</th>\n",
       "      <th>mus_cd_nm</th>\n",
       "      <th>bd_h</th>\n",
       "      <th>grd_flr_num</th>\n",
       "      <th>ugr_flr_num</th>\n",
       "      <th>athr_date</th>\n",
       "      <th>us_athr_date</th>\n",
       "      <th>bd_age</th>\n",
       "      <th>geometry</th>\n",
       "    </tr>\n",
       "  </thead>\n",
       "  <tbody>\n",
       "    <tr>\n",
       "      <th>0</th>\n",
       "      <td>2629010600</td>\n",
       "      <td>부산광역시 남구 대연동</td>\n",
       "      <td>1</td>\n",
       "      <td>일반</td>\n",
       "      <td>6-5</td>\n",
       "      <td>2</td>\n",
       "      <td>집합건축물</td>\n",
       "      <td>레이듐오피스텔</td>\n",
       "      <td>None</td>\n",
       "      <td>1830.380</td>\n",
       "      <td>14000</td>\n",
       "      <td>업무시설</td>\n",
       "      <td>29.400</td>\n",
       "      <td>9</td>\n",
       "      <td>1</td>\n",
       "      <td>2001-04-10</td>\n",
       "      <td>2002-07-26</td>\n",
       "      <td>20.000</td>\n",
       "      <td>MULTIPOLYGON (((129.10670 35.13866, 129.10663 ...</td>\n",
       "    </tr>\n",
       "    <tr>\n",
       "      <th>1</th>\n",
       "      <td>2629010600</td>\n",
       "      <td>부산광역시 남구 대연동</td>\n",
       "      <td>1</td>\n",
       "      <td>일반</td>\n",
       "      <td>6-8</td>\n",
       "      <td>2</td>\n",
       "      <td>집합건축물</td>\n",
       "      <td>대박세븐</td>\n",
       "      <td>None</td>\n",
       "      <td>919.730</td>\n",
       "      <td>02000</td>\n",
       "      <td>공동주택</td>\n",
       "      <td>17.400</td>\n",
       "      <td>6</td>\n",
       "      <td>0</td>\n",
       "      <td>2012-03-13</td>\n",
       "      <td>2012-07-26</td>\n",
       "      <td>10.000</td>\n",
       "      <td>MULTIPOLYGON (((129.10617 35.13848, 129.10616 ...</td>\n",
       "    </tr>\n",
       "  </tbody>\n",
       "</table>\n",
       "</div>"
      ],
      "text/plain": [
       "       emd_cd        emd_nm spc_grd_cd spc_grd_info jibun co_bd_cd co_bd_nm  \\\n",
       "0  2629010600  부산광역시 남구 대연동          1           일반   6-5        2    집합건축물   \n",
       "1  2629010600  부산광역시 남구 대연동          1           일반   6-8        2    집합건축물   \n",
       "\n",
       "     bd_nm  dong  bd_area mus_cd mus_cd_nm   bd_h  grd_flr_num  ugr_flr_num  \\\n",
       "0  레이듐오피스텔  None 1830.380  14000      업무시설 29.400            9            1   \n",
       "1     대박세븐  None  919.730  02000      공동주택 17.400            6            0   \n",
       "\n",
       "    athr_date us_athr_date  bd_age  \\\n",
       "0  2001-04-10   2002-07-26  20.000   \n",
       "1  2012-03-13   2012-07-26  10.000   \n",
       "\n",
       "                                            geometry  \n",
       "0  MULTIPOLYGON (((129.10670 35.13866, 129.10663 ...  \n",
       "1  MULTIPOLYGON (((129.10617 35.13848, 129.10616 ...  "
      ]
     },
     "execution_count": 21,
     "metadata": {},
     "output_type": "execute_result"
    }
   ],
   "source": [
    "age.head(2)"
   ]
  },
  {
   "cell_type": "code",
   "execution_count": 22,
   "id": "divided-latin",
   "metadata": {},
   "outputs": [
    {
     "name": "stdout",
     "output_type": "stream",
     "text": [
      "<class 'geopandas.geodataframe.GeoDataFrame'>\n",
      "RangeIndex: 20534 entries, 0 to 20533\n",
      "Data columns (total 19 columns):\n",
      " #   Column        Non-Null Count  Dtype   \n",
      "---  ------        --------------  -----   \n",
      " 0   emd_cd        20534 non-null  object  \n",
      " 1   emd_nm        20534 non-null  object  \n",
      " 2   spc_grd_cd    20534 non-null  object  \n",
      " 3   spc_grd_info  20534 non-null  object  \n",
      " 4   jibun         20534 non-null  object  \n",
      " 5   co_bd_cd      20534 non-null  object  \n",
      " 6   co_bd_nm      20534 non-null  object  \n",
      " 7   bd_nm         7177 non-null   object  \n",
      " 8   dong          2429 non-null   object  \n",
      " 9   bd_area       20534 non-null  float64 \n",
      " 10  mus_cd        20529 non-null  object  \n",
      " 11  mus_cd_nm     20524 non-null  object  \n",
      " 12  bd_h          20534 non-null  float64 \n",
      " 13  grd_flr_num   20534 non-null  int64   \n",
      " 14  ugr_flr_num   20534 non-null  int64   \n",
      " 15  athr_date     15347 non-null  object  \n",
      " 16  us_athr_date  18755 non-null  object  \n",
      " 17  bd_age        18755 non-null  float64 \n",
      " 18  geometry      20534 non-null  geometry\n",
      "dtypes: float64(3), geometry(1), int64(2), object(13)\n",
      "memory usage: 3.0+ MB\n"
     ]
    }
   ],
   "source": [
    "age.info()"
   ]
  },
  {
   "cell_type": "markdown",
   "id": "elegant-project",
   "metadata": {},
   "source": [
    "#### 컬럼별 설명\n",
    "\n",
    "* emd_cd:    법정동 코드\n",
    "  - 10600 = 대연동, 10900 = 문현동, 10700 = 용호동, 10800 = 용당동, 11000 = 우암동, 11100 = 감만동\n",
    "* emd_nm:    법정동 이름\n",
    "* spc_grd_cd:    특수지 구분 코드\n",
    "  - 1: 일반, 2: 산\n",
    "* spc_grd_info:    특수지 구분 정보\n",
    "* jibun:    지번\n",
    "* co_bd_cd:    집합건물구분코드\n",
    "  - 1: 일반건축물, 2: 집합건축물\n",
    "* co_bd_nm:    집합건물구분명\n",
    "* bd_nm:    건물명\n",
    "* dong:    동명\n",
    "* bd_area:    건물연면적\n",
    "* mus_cd:    주요 용도 코드\n",
    "* mus_cd_nm:    주요 용도 이름\n",
    "* bd_h:    건물높이\n",
    "* grd_flr_num:    지상층수\n",
    "* ugr_flr_num:    지하 층 수\n",
    "* athr_date:    허가 일자 (착공)\n",
    "* us_athr_date:    사용승인 일자 (준공 시점 --- 노후도 산출 기준)\n",
    "* bd_age:    건물의 연령 (20-30: 노후건축물기준) (공공데이터로 null 값 대체)"
   ]
  },
  {
   "cell_type": "code",
   "execution_count": 23,
   "id": "positive-glenn",
   "metadata": {},
   "outputs": [
    {
     "data": {
      "text/plain": [
       "emd_cd              0\n",
       "emd_nm              0\n",
       "spc_grd_cd          0\n",
       "spc_grd_info        0\n",
       "jibun               0\n",
       "co_bd_cd            0\n",
       "co_bd_nm            0\n",
       "bd_nm           13357\n",
       "dong            18105\n",
       "bd_area             0\n",
       "mus_cd              5\n",
       "mus_cd_nm          10\n",
       "bd_h                0\n",
       "grd_flr_num         0\n",
       "ugr_flr_num         0\n",
       "athr_date        5187\n",
       "us_athr_date     1779\n",
       "bd_age           1779\n",
       "geometry            0\n",
       "dtype: int64"
      ]
     },
     "execution_count": 23,
     "metadata": {},
     "output_type": "execute_result"
    }
   ],
   "source": [
    "age.isnull().sum()"
   ]
  },
  {
   "cell_type": "code",
   "execution_count": 24,
   "id": "colored-bride",
   "metadata": {},
   "outputs": [
    {
     "data": {
      "text/plain": [
       "array(['2629010600', '2629010700', '2629010800', '2629010900',\n",
       "       '2629011000', '2629011100'], dtype=object)"
      ]
     },
     "execution_count": 24,
     "metadata": {},
     "output_type": "execute_result"
    }
   ],
   "source": [
    "age['emd_cd'].unique() # 10600 = 대연동, 10900 = 문현동, 10700 = 용호동, 10800 = 용당동, 11000 = 우암동, 11100 = 감만동"
   ]
  },
  {
   "cell_type": "code",
   "execution_count": 25,
   "id": "native-naples",
   "metadata": {},
   "outputs": [
    {
     "data": {
      "text/plain": [
       "array(['부산광역시 남구 대연동', '부산광역시 남구 용호동', '부산광역시 남구 용당동', '부산광역시 남구 문현동',\n",
       "       '부산광역시 남구 우암동', '부산광역시 남구 감만동'], dtype=object)"
      ]
     },
     "execution_count": 25,
     "metadata": {},
     "output_type": "execute_result"
    }
   ],
   "source": [
    "age['emd_nm'].unique()"
   ]
  },
  {
   "cell_type": "code",
   "execution_count": 26,
   "id": "contrary-rider",
   "metadata": {},
   "outputs": [
    {
     "data": {
      "text/plain": [
       "array(['1', '2'], dtype=object)"
      ]
     },
     "execution_count": 26,
     "metadata": {},
     "output_type": "execute_result"
    }
   ],
   "source": [
    "age['spc_grd_cd'].unique() # 1 = 일반, 2 = 산"
   ]
  },
  {
   "cell_type": "code",
   "execution_count": 27,
   "id": "tender-trail",
   "metadata": {},
   "outputs": [
    {
     "data": {
      "text/plain": [
       "array(['일반', '산'], dtype=object)"
      ]
     },
     "execution_count": 27,
     "metadata": {},
     "output_type": "execute_result"
    }
   ],
   "source": [
    "age['spc_grd_info'].unique()"
   ]
  },
  {
   "cell_type": "code",
   "execution_count": 28,
   "id": "amazing-gather",
   "metadata": {},
   "outputs": [
    {
     "data": {
      "text/plain": [
       "array(['2', '1'], dtype=object)"
      ]
     },
     "execution_count": 28,
     "metadata": {},
     "output_type": "execute_result"
    }
   ],
   "source": [
    "age['co_bd_cd'].unique() #1 = 일반건축물, 2 = 집합건축물"
   ]
  },
  {
   "cell_type": "code",
   "execution_count": 29,
   "id": "bound-present",
   "metadata": {},
   "outputs": [
    {
     "data": {
      "text/plain": [
       "array(['집합건축물', '일반건축물'], dtype=object)"
      ]
     },
     "execution_count": 29,
     "metadata": {},
     "output_type": "execute_result"
    }
   ],
   "source": [
    "age['co_bd_nm'].unique()"
   ]
  },
  {
   "cell_type": "code",
   "execution_count": 30,
   "id": "french-philippines",
   "metadata": {},
   "outputs": [
    {
     "data": {
      "text/plain": [
       "1241"
      ]
     },
     "execution_count": 30,
     "metadata": {},
     "output_type": "execute_result"
    }
   ],
   "source": [
    "age['dong'].nunique()"
   ]
  },
  {
   "cell_type": "code",
   "execution_count": 31,
   "id": "virtual-proxy",
   "metadata": {},
   "outputs": [
    {
     "name": "stdout",
     "output_type": "stream",
     "text": [
      "['14000' '02000' '03000' '01000' '04000' '11000' '20000' '10000' '16000'\n",
      " '07000' '19000' '09000' '17000' '21000' '18000' '06000' '13000' '05000'\n",
      " '15000' 'Z8000' '24000' '27000' 'Z5000' None '22000' '08000' '30000']\n",
      "['업무시설' '공동주택' '제1종근린생활시설' '단독주택' '제2종근린생활시설' '노유자시설' '자동차관련시설' '교육연구시설'\n",
      " '위락시설' '판매시설' '위험물저장및처리시설' '의료시설' '공장' '동.식물 관련시설' '창고시설' '종교시설' '운동시설'\n",
      " '문화및집회시설' '숙박시설' '교육연구및복지시설' '방송통신시설' '관광휴게시설' None '분뇨.쓰레기처리시설' '운수시설']\n"
     ]
    }
   ],
   "source": [
    "print(age['mus_cd'].unique(), age['mus_cd_nm'].unique(), sep='\\n')"
   ]
  },
  {
   "cell_type": "code",
   "execution_count": 32,
   "id": "incredible-recipe",
   "metadata": {},
   "outputs": [
    {
     "data": {
      "text/html": [
       "<div>\n",
       "<style scoped>\n",
       "    .dataframe tbody tr th:only-of-type {\n",
       "        vertical-align: middle;\n",
       "    }\n",
       "\n",
       "    .dataframe tbody tr th {\n",
       "        vertical-align: top;\n",
       "    }\n",
       "\n",
       "    .dataframe thead th {\n",
       "        text-align: right;\n",
       "    }\n",
       "</style>\n",
       "<table border=\"1\" class=\"dataframe\">\n",
       "  <thead>\n",
       "    <tr style=\"text-align: right;\">\n",
       "      <th></th>\n",
       "      <th>bd_h</th>\n",
       "      <th>grd_flr_num</th>\n",
       "      <th>ugr_flr_num</th>\n",
       "    </tr>\n",
       "  </thead>\n",
       "  <tbody>\n",
       "    <tr>\n",
       "      <th>count</th>\n",
       "      <td>20534.000</td>\n",
       "      <td>20534.000</td>\n",
       "      <td>20534.000</td>\n",
       "    </tr>\n",
       "    <tr>\n",
       "      <th>mean</th>\n",
       "      <td>4.868</td>\n",
       "      <td>2.663</td>\n",
       "      <td>0.209</td>\n",
       "    </tr>\n",
       "    <tr>\n",
       "      <th>std</th>\n",
       "      <td>10.590</td>\n",
       "      <td>3.221</td>\n",
       "      <td>0.436</td>\n",
       "    </tr>\n",
       "    <tr>\n",
       "      <th>min</th>\n",
       "      <td>0.000</td>\n",
       "      <td>0.000</td>\n",
       "      <td>0.000</td>\n",
       "    </tr>\n",
       "    <tr>\n",
       "      <th>25%</th>\n",
       "      <td>0.000</td>\n",
       "      <td>1.000</td>\n",
       "      <td>0.000</td>\n",
       "    </tr>\n",
       "    <tr>\n",
       "      <th>50%</th>\n",
       "      <td>0.000</td>\n",
       "      <td>2.000</td>\n",
       "      <td>0.000</td>\n",
       "    </tr>\n",
       "    <tr>\n",
       "      <th>75%</th>\n",
       "      <td>7.500</td>\n",
       "      <td>3.000</td>\n",
       "      <td>0.000</td>\n",
       "    </tr>\n",
       "    <tr>\n",
       "      <th>max</th>\n",
       "      <td>141.790</td>\n",
       "      <td>47.000</td>\n",
       "      <td>6.000</td>\n",
       "    </tr>\n",
       "  </tbody>\n",
       "</table>\n",
       "</div>"
      ],
      "text/plain": [
       "           bd_h  grd_flr_num  ugr_flr_num\n",
       "count 20534.000    20534.000    20534.000\n",
       "mean      4.868        2.663        0.209\n",
       "std      10.590        3.221        0.436\n",
       "min       0.000        0.000        0.000\n",
       "25%       0.000        1.000        0.000\n",
       "50%       0.000        2.000        0.000\n",
       "75%       7.500        3.000        0.000\n",
       "max     141.790       47.000        6.000"
      ]
     },
     "execution_count": 32,
     "metadata": {},
     "output_type": "execute_result"
    }
   ],
   "source": [
    "num_cols = ['bd_h','grd_flr_num','ugr_flr_num']\n",
    "\n",
    "age[num_cols].describe()"
   ]
  },
  {
   "cell_type": "code",
   "execution_count": 33,
   "id": "hindu-gazette",
   "metadata": {},
   "outputs": [
    {
     "data": {
      "text/html": [
       "<div>\n",
       "<style scoped>\n",
       "    .dataframe tbody tr th:only-of-type {\n",
       "        vertical-align: middle;\n",
       "    }\n",
       "\n",
       "    .dataframe tbody tr th {\n",
       "        vertical-align: top;\n",
       "    }\n",
       "\n",
       "    .dataframe thead th {\n",
       "        text-align: right;\n",
       "    }\n",
       "</style>\n",
       "<table border=\"1\" class=\"dataframe\">\n",
       "  <thead>\n",
       "    <tr style=\"text-align: right;\">\n",
       "      <th></th>\n",
       "      <th>emd_cd</th>\n",
       "      <th>emd_nm</th>\n",
       "      <th>spc_grd_cd</th>\n",
       "      <th>spc_grd_info</th>\n",
       "      <th>jibun</th>\n",
       "      <th>co_bd_cd</th>\n",
       "      <th>co_bd_nm</th>\n",
       "      <th>bd_nm</th>\n",
       "      <th>dong</th>\n",
       "      <th>bd_area</th>\n",
       "      <th>mus_cd</th>\n",
       "      <th>mus_cd_nm</th>\n",
       "      <th>bd_h</th>\n",
       "      <th>grd_flr_num</th>\n",
       "      <th>ugr_flr_num</th>\n",
       "      <th>athr_date</th>\n",
       "      <th>us_athr_date</th>\n",
       "      <th>bd_age</th>\n",
       "      <th>geometry</th>\n",
       "      <th>emd_jibun</th>\n",
       "    </tr>\n",
       "  </thead>\n",
       "  <tbody>\n",
       "    <tr>\n",
       "      <th>0</th>\n",
       "      <td>2629010600</td>\n",
       "      <td>부산광역시 남구 대연동</td>\n",
       "      <td>1</td>\n",
       "      <td>일반</td>\n",
       "      <td>6-5</td>\n",
       "      <td>2</td>\n",
       "      <td>집합건축물</td>\n",
       "      <td>레이듐오피스텔</td>\n",
       "      <td>None</td>\n",
       "      <td>1830.380</td>\n",
       "      <td>14000</td>\n",
       "      <td>업무시설</td>\n",
       "      <td>29.400</td>\n",
       "      <td>9</td>\n",
       "      <td>1</td>\n",
       "      <td>2001-04-10</td>\n",
       "      <td>2002-07-26</td>\n",
       "      <td>20.000</td>\n",
       "      <td>MULTIPOLYGON (((129.10670 35.13866, 129.10663 ...</td>\n",
       "      <td>2629010600(6-5)</td>\n",
       "    </tr>\n",
       "  </tbody>\n",
       "</table>\n",
       "</div>"
      ],
      "text/plain": [
       "       emd_cd        emd_nm spc_grd_cd spc_grd_info jibun co_bd_cd co_bd_nm  \\\n",
       "0  2629010600  부산광역시 남구 대연동          1           일반   6-5        2    집합건축물   \n",
       "\n",
       "     bd_nm  dong  bd_area mus_cd mus_cd_nm   bd_h  grd_flr_num  ugr_flr_num  \\\n",
       "0  레이듐오피스텔  None 1830.380  14000      업무시설 29.400            9            1   \n",
       "\n",
       "    athr_date us_athr_date  bd_age  \\\n",
       "0  2001-04-10   2002-07-26  20.000   \n",
       "\n",
       "                                            geometry        emd_jibun  \n",
       "0  MULTIPOLYGON (((129.10670 35.13866, 129.10663 ...  2629010600(6-5)  "
      ]
     },
     "execution_count": 33,
     "metadata": {},
     "output_type": "execute_result"
    }
   ],
   "source": [
    "# 새로운 컬럼 (emd_jibun) 만들기\n",
    "\n",
    "age['emd_jibun'] = age['emd_cd'].map(str) + '(' + age['jibun'] + ')'\n",
    "\n",
    "age.head(1)"
   ]
  },
  {
   "cell_type": "code",
   "execution_count": 34,
   "id": "hollywood-alfred",
   "metadata": {},
   "outputs": [
    {
     "name": "stdout",
     "output_type": "stream",
     "text": [
      "spc_grd_cd              object\n",
      "spc_grd_info            object\n",
      "co_bd_cd                object\n",
      "co_bd_nm                object\n",
      "bd_nm                   object\n",
      "dong                    object\n",
      "bd_area                float64\n",
      "mus_cd                  object\n",
      "mus_cd_nm               object\n",
      "bd_h                   float64\n",
      "grd_flr_num              int64\n",
      "ugr_flr_num              int64\n",
      "us_athr_date    datetime64[ns]\n",
      "bd_age                 float64\n",
      "geometry              geometry\n",
      "emd_jibun               object\n",
      "dtype: object\n"
     ]
    },
    {
     "data": {
      "text/html": [
       "<div>\n",
       "<style scoped>\n",
       "    .dataframe tbody tr th:only-of-type {\n",
       "        vertical-align: middle;\n",
       "    }\n",
       "\n",
       "    .dataframe tbody tr th {\n",
       "        vertical-align: top;\n",
       "    }\n",
       "\n",
       "    .dataframe thead th {\n",
       "        text-align: right;\n",
       "    }\n",
       "</style>\n",
       "<table border=\"1\" class=\"dataframe\">\n",
       "  <thead>\n",
       "    <tr style=\"text-align: right;\">\n",
       "      <th></th>\n",
       "      <th>emd_jibun</th>\n",
       "      <th>spc_grd_cd</th>\n",
       "      <th>spc_grd_info</th>\n",
       "      <th>co_bd_cd</th>\n",
       "      <th>co_bd_nm</th>\n",
       "      <th>bd_nm</th>\n",
       "      <th>dong</th>\n",
       "      <th>bd_area</th>\n",
       "      <th>mus_cd</th>\n",
       "      <th>mus_cd_nm</th>\n",
       "      <th>bd_h</th>\n",
       "      <th>grd_flr_num</th>\n",
       "      <th>ugr_flr_num</th>\n",
       "      <th>us_athr_date</th>\n",
       "      <th>bd_age</th>\n",
       "      <th>geometry</th>\n",
       "    </tr>\n",
       "  </thead>\n",
       "  <tbody>\n",
       "    <tr>\n",
       "      <th>0</th>\n",
       "      <td>2629010600(6-5)</td>\n",
       "      <td>1</td>\n",
       "      <td>일반</td>\n",
       "      <td>2</td>\n",
       "      <td>집합건축물</td>\n",
       "      <td>레이듐오피스텔</td>\n",
       "      <td>None</td>\n",
       "      <td>1830.380</td>\n",
       "      <td>14000</td>\n",
       "      <td>업무시설</td>\n",
       "      <td>29.400</td>\n",
       "      <td>9</td>\n",
       "      <td>1</td>\n",
       "      <td>2002-07-26</td>\n",
       "      <td>20.000</td>\n",
       "      <td>MULTIPOLYGON (((129.10670 35.13866, 129.10663 ...</td>\n",
       "    </tr>\n",
       "  </tbody>\n",
       "</table>\n",
       "</div>"
      ],
      "text/plain": [
       "         emd_jibun spc_grd_cd spc_grd_info co_bd_cd co_bd_nm    bd_nm  dong  \\\n",
       "0  2629010600(6-5)          1           일반        2    집합건축물  레이듐오피스텔  None   \n",
       "\n",
       "   bd_area mus_cd mus_cd_nm   bd_h  grd_flr_num  ugr_flr_num us_athr_date  \\\n",
       "0 1830.380  14000      업무시설 29.400            9            1   2002-07-26   \n",
       "\n",
       "   bd_age                                           geometry  \n",
       "0  20.000  MULTIPOLYGON (((129.10670 35.13866, 129.10663 ...  "
      ]
     },
     "execution_count": 34,
     "metadata": {},
     "output_type": "execute_result"
    }
   ],
   "source": [
    "# 불필요한 컬럼 제거\n",
    "\n",
    "age_temp = age.drop(columns = ['emd_cd', 'emd_nm','jibun','athr_date'], axis=1) # 건물연령의 기준은 사용승인일자이므로 athr_date도 제거  \n",
    "\n",
    "# us_athr_date 데이터타입 변경\n",
    "\n",
    "age_temp['us_athr_date'] = pd.to_datetime(age_temp['us_athr_date'], infer_datetime_format=True, errors='coerce')\n",
    "\n",
    "print(age_temp.dtypes)\n",
    "\n",
    "# 컬럼 재배치\n",
    "\n",
    "col_1 = age_temp.columns[-1:].to_list()\n",
    "col_2 = age_temp.columns[:-1].to_list()\n",
    "new_col = col_1 + col_2\n",
    "cp_age = age_temp[new_col]\n",
    "cp_age.head(1) # competition age"
   ]
  },
  {
   "cell_type": "code",
   "execution_count": 35,
   "id": "complex-jefferson",
   "metadata": {},
   "outputs": [],
   "source": [
    "cp_age.to_file(input_path.joinpath('대회_건축물연령_정리.geojson'), driver='GeoJSON')"
   ]
  },
  {
   "cell_type": "markdown",
   "id": "generic-limit",
   "metadata": {},
   "source": [
    "---"
   ]
  },
  {
   "cell_type": "markdown",
   "id": "underlying-eugene",
   "metadata": {},
   "source": [
    "## 도로명주소(건물)\n",
    "\n",
    "* 현재 기준의 부산시 남구 건물의 도로명 주소 데이터"
   ]
  },
  {
   "cell_type": "code",
   "execution_count": 36,
   "id": "understood-oxford",
   "metadata": {},
   "outputs": [
    {
     "data": {
      "text/html": [
       "<div>\n",
       "<style scoped>\n",
       "    .dataframe tbody tr th:only-of-type {\n",
       "        vertical-align: middle;\n",
       "    }\n",
       "\n",
       "    .dataframe tbody tr th {\n",
       "        vertical-align: top;\n",
       "    }\n",
       "\n",
       "    .dataframe thead th {\n",
       "        text-align: right;\n",
       "    }\n",
       "</style>\n",
       "<table border=\"1\" class=\"dataframe\">\n",
       "  <thead>\n",
       "    <tr style=\"text-align: right;\">\n",
       "      <th></th>\n",
       "      <th>BDTYP_CD</th>\n",
       "      <th>BULD_NM</th>\n",
       "      <th>BULD_NM_DC</th>\n",
       "      <th>BULD_SE_CD</th>\n",
       "      <th>BUL_MAN_NO</th>\n",
       "      <th>EMD_CD</th>\n",
       "      <th>GRO_FLO_CO</th>\n",
       "      <th>LNBR_MNNM</th>\n",
       "      <th>LNBR_SLNO</th>\n",
       "      <th>UND_FLO_CO</th>\n",
       "      <th>geometry</th>\n",
       "    </tr>\n",
       "  </thead>\n",
       "  <tbody>\n",
       "    <tr>\n",
       "      <th>0</th>\n",
       "      <td>11102</td>\n",
       "      <td>엔터모텔</td>\n",
       "      <td>None</td>\n",
       "      <td>0</td>\n",
       "      <td>28791</td>\n",
       "      <td>109</td>\n",
       "      <td>0</td>\n",
       "      <td>807</td>\n",
       "      <td>5</td>\n",
       "      <td>0</td>\n",
       "      <td>MULTIPOLYGON (((129.06709 35.13758, 129.06721 ...</td>\n",
       "    </tr>\n",
       "    <tr>\n",
       "      <th>1</th>\n",
       "      <td>15001</td>\n",
       "      <td>동명주유소</td>\n",
       "      <td>None</td>\n",
       "      <td>0</td>\n",
       "      <td>28790</td>\n",
       "      <td>109</td>\n",
       "      <td>0</td>\n",
       "      <td>807</td>\n",
       "      <td>4</td>\n",
       "      <td>0</td>\n",
       "      <td>MULTIPOLYGON (((129.06721 35.13761, 129.06728 ...</td>\n",
       "    </tr>\n",
       "  </tbody>\n",
       "</table>\n",
       "</div>"
      ],
      "text/plain": [
       "  BDTYP_CD BULD_NM BULD_NM_DC BULD_SE_CD  BUL_MAN_NO EMD_CD  GRO_FLO_CO  \\\n",
       "0    11102    엔터모텔       None          0       28791    109           0   \n",
       "1    15001   동명주유소       None          0       28790    109           0   \n",
       "\n",
       "   LNBR_MNNM  LNBR_SLNO  UND_FLO_CO  \\\n",
       "0        807          5           0   \n",
       "1        807          4           0   \n",
       "\n",
       "                                            geometry  \n",
       "0  MULTIPOLYGON (((129.06709 35.13758, 129.06721 ...  \n",
       "1  MULTIPOLYGON (((129.06721 35.13761, 129.06728 ...  "
      ]
     },
     "execution_count": 36,
     "metadata": {},
     "output_type": "execute_result"
    }
   ],
   "source": [
    "addr_bd.head(2)"
   ]
  },
  {
   "cell_type": "code",
   "execution_count": 37,
   "id": "hearing-density",
   "metadata": {},
   "outputs": [
    {
     "name": "stdout",
     "output_type": "stream",
     "text": [
      "<class 'geopandas.geodataframe.GeoDataFrame'>\n",
      "RangeIndex: 28858 entries, 0 to 28857\n",
      "Data columns (total 11 columns):\n",
      " #   Column      Non-Null Count  Dtype   \n",
      "---  ------      --------------  -----   \n",
      " 0   BDTYP_CD    28858 non-null  object  \n",
      " 1   BULD_NM     6640 non-null   object  \n",
      " 2   BULD_NM_DC  1885 non-null   object  \n",
      " 3   BULD_SE_CD  28858 non-null  object  \n",
      " 4   BUL_MAN_NO  28858 non-null  int64   \n",
      " 5   EMD_CD      28858 non-null  object  \n",
      " 6   GRO_FLO_CO  28858 non-null  int64   \n",
      " 7   LNBR_MNNM   28858 non-null  int64   \n",
      " 8   LNBR_SLNO   28858 non-null  int64   \n",
      " 9   UND_FLO_CO  28858 non-null  int64   \n",
      " 10  geometry    28858 non-null  geometry\n",
      "dtypes: geometry(1), int64(5), object(5)\n",
      "memory usage: 2.4+ MB\n"
     ]
    }
   ],
   "source": [
    "addr_bd.info()"
   ]
  },
  {
   "cell_type": "markdown",
   "id": "ancient-convertible",
   "metadata": {},
   "source": [
    "#### 컬럼별 설명\n",
    "\n",
    "* BDTYP_CD:    건물용도코드\n",
    "* BULD_NM:    건축물대장 건물명\n",
    "* BULD_NM_DC:    상세건물명\n",
    "* BULD_SE_CD:    건물 구분 코드\n",
    "* BUL_MAN_NO:    건물 일련번호\n",
    "* EMD_CD:    읍면동 코드\n",
    "* GRO_FLO_CO:    건물의 지상층수\n",
    "* LNBR_MNNM:    건물의 지번본번\n",
    "* LNBR_SLNO:    건물의 지번부번\n",
    "* UND_FLO_CO:    건물의 지하층수"
   ]
  },
  {
   "cell_type": "code",
   "execution_count": 38,
   "id": "outer-orientation",
   "metadata": {},
   "outputs": [
    {
     "data": {
      "text/plain": [
       "array(['109', '106', '111', '110', '108', '107'], dtype=object)"
      ]
     },
     "execution_count": 38,
     "metadata": {},
     "output_type": "execute_result"
    }
   ],
   "source": [
    "addr_bd['EMD_CD'].unique() # 00을 붙여야 다른 dataframe과 연결하기 용이해보임"
   ]
  },
  {
   "cell_type": "code",
   "execution_count": 39,
   "id": "super-tongue",
   "metadata": {},
   "outputs": [
    {
     "data": {
      "text/plain": [
       "729"
      ]
     },
     "execution_count": 39,
     "metadata": {},
     "output_type": "execute_result"
    }
   ],
   "source": [
    "addr_bd['BULD_NM_DC'].nunique()"
   ]
  },
  {
   "cell_type": "code",
   "execution_count": 40,
   "id": "paperback-henry",
   "metadata": {},
   "outputs": [
    {
     "data": {
      "text/plain": [
       "28858"
      ]
     },
     "execution_count": 40,
     "metadata": {},
     "output_type": "execute_result"
    }
   ],
   "source": [
    "addr_bd['BUL_MAN_NO'].nunique()"
   ]
  },
  {
   "cell_type": "code",
   "execution_count": 41,
   "id": "certain-omega",
   "metadata": {},
   "outputs": [
    {
     "data": {
      "text/html": [
       "<div>\n",
       "<style scoped>\n",
       "    .dataframe tbody tr th:only-of-type {\n",
       "        vertical-align: middle;\n",
       "    }\n",
       "\n",
       "    .dataframe tbody tr th {\n",
       "        vertical-align: top;\n",
       "    }\n",
       "\n",
       "    .dataframe thead th {\n",
       "        text-align: right;\n",
       "    }\n",
       "</style>\n",
       "<table border=\"1\" class=\"dataframe\">\n",
       "  <thead>\n",
       "    <tr style=\"text-align: right;\">\n",
       "      <th></th>\n",
       "      <th>GRO_FLO_CO</th>\n",
       "      <th>UND_FLO_CO</th>\n",
       "    </tr>\n",
       "  </thead>\n",
       "  <tbody>\n",
       "    <tr>\n",
       "      <th>count</th>\n",
       "      <td>28858.000</td>\n",
       "      <td>28858.000</td>\n",
       "    </tr>\n",
       "    <tr>\n",
       "      <th>mean</th>\n",
       "      <td>0.783</td>\n",
       "      <td>0.051</td>\n",
       "    </tr>\n",
       "    <tr>\n",
       "      <th>std</th>\n",
       "      <td>2.755</td>\n",
       "      <td>0.268</td>\n",
       "    </tr>\n",
       "    <tr>\n",
       "      <th>min</th>\n",
       "      <td>0.000</td>\n",
       "      <td>0.000</td>\n",
       "    </tr>\n",
       "    <tr>\n",
       "      <th>25%</th>\n",
       "      <td>0.000</td>\n",
       "      <td>0.000</td>\n",
       "    </tr>\n",
       "    <tr>\n",
       "      <th>50%</th>\n",
       "      <td>0.000</td>\n",
       "      <td>0.000</td>\n",
       "    </tr>\n",
       "    <tr>\n",
       "      <th>75%</th>\n",
       "      <td>0.000</td>\n",
       "      <td>0.000</td>\n",
       "    </tr>\n",
       "    <tr>\n",
       "      <th>max</th>\n",
       "      <td>69.000</td>\n",
       "      <td>7.000</td>\n",
       "    </tr>\n",
       "  </tbody>\n",
       "</table>\n",
       "</div>"
      ],
      "text/plain": [
       "       GRO_FLO_CO  UND_FLO_CO\n",
       "count   28858.000   28858.000\n",
       "mean        0.783       0.051\n",
       "std         2.755       0.268\n",
       "min         0.000       0.000\n",
       "25%         0.000       0.000\n",
       "50%         0.000       0.000\n",
       "75%         0.000       0.000\n",
       "max        69.000       7.000"
      ]
     },
     "execution_count": 41,
     "metadata": {},
     "output_type": "execute_result"
    }
   ],
   "source": [
    "num_cols = ['GRO_FLO_CO','UND_FLO_CO']\n",
    "\n",
    "addr_bd[num_cols].describe()"
   ]
  },
  {
   "cell_type": "code",
   "execution_count": 42,
   "id": "residential-latvia",
   "metadata": {},
   "outputs": [
    {
     "data": {
      "text/html": [
       "<div>\n",
       "<style scoped>\n",
       "    .dataframe tbody tr th:only-of-type {\n",
       "        vertical-align: middle;\n",
       "    }\n",
       "\n",
       "    .dataframe tbody tr th {\n",
       "        vertical-align: top;\n",
       "    }\n",
       "\n",
       "    .dataframe thead th {\n",
       "        text-align: right;\n",
       "    }\n",
       "</style>\n",
       "<table border=\"1\" class=\"dataframe\">\n",
       "  <thead>\n",
       "    <tr style=\"text-align: right;\">\n",
       "      <th></th>\n",
       "      <th>BDTYP_CD</th>\n",
       "      <th>BULD_NM</th>\n",
       "      <th>BULD_NM_DC</th>\n",
       "      <th>BULD_SE_CD</th>\n",
       "      <th>BUL_MAN_NO</th>\n",
       "      <th>EMD_CD</th>\n",
       "      <th>GRO_FLO_CO</th>\n",
       "      <th>LNBR_MNNM</th>\n",
       "      <th>LNBR_SLNO</th>\n",
       "      <th>UND_FLO_CO</th>\n",
       "      <th>geometry</th>\n",
       "      <th>emd_jibun</th>\n",
       "    </tr>\n",
       "  </thead>\n",
       "  <tbody>\n",
       "    <tr>\n",
       "      <th>0</th>\n",
       "      <td>11102</td>\n",
       "      <td>엔터모텔</td>\n",
       "      <td>None</td>\n",
       "      <td>0</td>\n",
       "      <td>28791</td>\n",
       "      <td>109</td>\n",
       "      <td>0</td>\n",
       "      <td>807</td>\n",
       "      <td>5</td>\n",
       "      <td>0</td>\n",
       "      <td>MULTIPOLYGON (((129.06709 35.13758, 129.06721 ...</td>\n",
       "      <td>2619010900(807-5)</td>\n",
       "    </tr>\n",
       "  </tbody>\n",
       "</table>\n",
       "</div>"
      ],
      "text/plain": [
       "  BDTYP_CD BULD_NM BULD_NM_DC BULD_SE_CD  BUL_MAN_NO EMD_CD  GRO_FLO_CO  \\\n",
       "0    11102    엔터모텔       None          0       28791    109           0   \n",
       "\n",
       "   LNBR_MNNM  LNBR_SLNO  UND_FLO_CO  \\\n",
       "0        807          5           0   \n",
       "\n",
       "                                            geometry          emd_jibun  \n",
       "0  MULTIPOLYGON (((129.06709 35.13758, 129.06721 ...  2619010900(807-5)  "
      ]
     },
     "execution_count": 42,
     "metadata": {},
     "output_type": "execute_result"
    }
   ],
   "source": [
    "# emd_jb 컬럼 만들기 --- 2629010600(6-5)\n",
    "\n",
    "addr_bd['emd_jibun'] = '26190' + addr_bd['EMD_CD'].map(str) + '00'  + '(' + addr_bd['LNBR_MNNM'].map(str) + '-' + addr_bd['LNBR_SLNO'].map(str) + ')'\n",
    "\n",
    "addr_bd.head(1)"
   ]
  },
  {
   "cell_type": "code",
   "execution_count": 43,
   "id": "several-package",
   "metadata": {},
   "outputs": [
    {
     "data": {
      "text/html": [
       "<div>\n",
       "<style scoped>\n",
       "    .dataframe tbody tr th:only-of-type {\n",
       "        vertical-align: middle;\n",
       "    }\n",
       "\n",
       "    .dataframe tbody tr th {\n",
       "        vertical-align: top;\n",
       "    }\n",
       "\n",
       "    .dataframe thead th {\n",
       "        text-align: right;\n",
       "    }\n",
       "</style>\n",
       "<table border=\"1\" class=\"dataframe\">\n",
       "  <thead>\n",
       "    <tr style=\"text-align: right;\">\n",
       "      <th></th>\n",
       "      <th>emd_jibun</th>\n",
       "      <th>BDTYP_CD</th>\n",
       "      <th>BULD_NM</th>\n",
       "      <th>BULD_NM_DC</th>\n",
       "      <th>BULD_SE_CD</th>\n",
       "      <th>BUL_MAN_NO</th>\n",
       "      <th>GRO_FLO_CO</th>\n",
       "      <th>UND_FLO_CO</th>\n",
       "      <th>geometry</th>\n",
       "    </tr>\n",
       "  </thead>\n",
       "  <tbody>\n",
       "    <tr>\n",
       "      <th>0</th>\n",
       "      <td>2619010900(807-5)</td>\n",
       "      <td>11102</td>\n",
       "      <td>엔터모텔</td>\n",
       "      <td>None</td>\n",
       "      <td>0</td>\n",
       "      <td>28791</td>\n",
       "      <td>0</td>\n",
       "      <td>0</td>\n",
       "      <td>MULTIPOLYGON (((129.06709 35.13758, 129.06721 ...</td>\n",
       "    </tr>\n",
       "  </tbody>\n",
       "</table>\n",
       "</div>"
      ],
      "text/plain": [
       "           emd_jibun BDTYP_CD BULD_NM BULD_NM_DC BULD_SE_CD  BUL_MAN_NO  \\\n",
       "0  2619010900(807-5)    11102    엔터모텔       None          0       28791   \n",
       "\n",
       "   GRO_FLO_CO  UND_FLO_CO                                           geometry  \n",
       "0           0           0  MULTIPOLYGON (((129.06709 35.13758, 129.06721 ...  "
      ]
     },
     "execution_count": 43,
     "metadata": {},
     "output_type": "execute_result"
    }
   ],
   "source": [
    "# 불필요한 컬럼 정리\n",
    "\n",
    "addr_bd_temp = addr_bd.drop(columns = ['LNBR_MNNM','LNBR_SLNO','EMD_CD'], axis=1)\n",
    "\n",
    "# 컬럼 재배치\n",
    "\n",
    "col_1 = addr_bd_temp.columns[-1:].to_list()\n",
    "col_2 = addr_bd_temp.columns[:-1].to_list()\n",
    "new_col = col_1 + col_2\n",
    "cp_addr_bd = addr_bd_temp[new_col]\n",
    "cp_addr_bd.head(1) # competition addr_bd"
   ]
  },
  {
   "cell_type": "code",
   "execution_count": 44,
   "id": "qualified-marriage",
   "metadata": {},
   "outputs": [],
   "source": [
    "cp_addr_bd.to_file(input_path.joinpath('대회_도로명주소_건물_정리.geojson'), driver='GeoJSON')"
   ]
  },
  {
   "cell_type": "markdown",
   "id": "upset-rebecca",
   "metadata": {},
   "source": [
    "---"
   ]
  },
  {
   "cell_type": "markdown",
   "id": "electronic-terrain",
   "metadata": {},
   "source": [
    "## 공시지가\n",
    "\n",
    "* 현재 기준의 부산시 남구 공시지가 데이터"
   ]
  },
  {
   "cell_type": "code",
   "execution_count": 45,
   "id": "outdoor-security",
   "metadata": {},
   "outputs": [
    {
     "data": {
      "text/html": [
       "<div>\n",
       "<style scoped>\n",
       "    .dataframe tbody tr th:only-of-type {\n",
       "        vertical-align: middle;\n",
       "    }\n",
       "\n",
       "    .dataframe tbody tr th {\n",
       "        vertical-align: top;\n",
       "    }\n",
       "\n",
       "    .dataframe thead th {\n",
       "        text-align: right;\n",
       "    }\n",
       "</style>\n",
       "<table border=\"1\" class=\"dataframe\">\n",
       "  <thead>\n",
       "    <tr style=\"text-align: right;\">\n",
       "      <th></th>\n",
       "      <th>index</th>\n",
       "      <th>emd_cd</th>\n",
       "      <th>emd_nm</th>\n",
       "      <th>reg_cd</th>\n",
       "      <th>reg_nm</th>\n",
       "      <th>jibun</th>\n",
       "      <th>jimok</th>\n",
       "      <th>year</th>\n",
       "      <th>month</th>\n",
       "      <th>lnd_prc</th>\n",
       "      <th>stndrd_yn</th>\n",
       "      <th>jimok_cd</th>\n",
       "      <th>jimok_nm</th>\n",
       "      <th>lnd_area</th>\n",
       "      <th>date</th>\n",
       "      <th>geometry</th>\n",
       "    </tr>\n",
       "  </thead>\n",
       "  <tbody>\n",
       "    <tr>\n",
       "      <th>0</th>\n",
       "      <td>2629010700105620003</td>\n",
       "      <td>2629010700</td>\n",
       "      <td>부산광역시 남구 용호동</td>\n",
       "      <td>1</td>\n",
       "      <td>일반</td>\n",
       "      <td>562-3</td>\n",
       "      <td>562-3대</td>\n",
       "      <td>2020</td>\n",
       "      <td>01</td>\n",
       "      <td>1017000</td>\n",
       "      <td>0</td>\n",
       "      <td>None</td>\n",
       "      <td>None</td>\n",
       "      <td>0.000</td>\n",
       "      <td>2021-05-18</td>\n",
       "      <td>MULTIPOLYGON (((129.11309 35.10997, 129.11292 ...</td>\n",
       "    </tr>\n",
       "    <tr>\n",
       "      <th>1</th>\n",
       "      <td>2629010700105620004</td>\n",
       "      <td>2629010700</td>\n",
       "      <td>부산광역시 남구 용호동</td>\n",
       "      <td>1</td>\n",
       "      <td>일반</td>\n",
       "      <td>562-4</td>\n",
       "      <td>562-4대</td>\n",
       "      <td>2020</td>\n",
       "      <td>01</td>\n",
       "      <td>960000</td>\n",
       "      <td>0</td>\n",
       "      <td>None</td>\n",
       "      <td>None</td>\n",
       "      <td>0.000</td>\n",
       "      <td>2021-05-18</td>\n",
       "      <td>MULTIPOLYGON (((129.11326 35.11000, 129.11309 ...</td>\n",
       "    </tr>\n",
       "  </tbody>\n",
       "</table>\n",
       "</div>"
      ],
      "text/plain": [
       "                 index      emd_cd        emd_nm reg_cd reg_nm  jibun   jimok  \\\n",
       "0  2629010700105620003  2629010700  부산광역시 남구 용호동      1     일반  562-3  562-3대   \n",
       "1  2629010700105620004  2629010700  부산광역시 남구 용호동      1     일반  562-4  562-4대   \n",
       "\n",
       "   year month  lnd_prc stndrd_yn jimok_cd jimok_nm  lnd_area        date  \\\n",
       "0  2020    01  1017000         0     None     None     0.000  2021-05-18   \n",
       "1  2020    01   960000         0     None     None     0.000  2021-05-18   \n",
       "\n",
       "                                            geometry  \n",
       "0  MULTIPOLYGON (((129.11309 35.10997, 129.11292 ...  \n",
       "1  MULTIPOLYGON (((129.11326 35.11000, 129.11309 ...  "
      ]
     },
     "execution_count": 45,
     "metadata": {},
     "output_type": "execute_result"
    }
   ],
   "source": [
    "prc.head(2)"
   ]
  },
  {
   "cell_type": "code",
   "execution_count": 46,
   "id": "pregnant-context",
   "metadata": {},
   "outputs": [
    {
     "name": "stdout",
     "output_type": "stream",
     "text": [
      "<class 'geopandas.geodataframe.GeoDataFrame'>\n",
      "RangeIndex: 45777 entries, 0 to 45776\n",
      "Data columns (total 16 columns):\n",
      " #   Column     Non-Null Count  Dtype   \n",
      "---  ------     --------------  -----   \n",
      " 0   index      45777 non-null  object  \n",
      " 1   emd_cd     45777 non-null  object  \n",
      " 2   emd_nm     45777 non-null  object  \n",
      " 3   reg_cd     45777 non-null  object  \n",
      " 4   reg_nm     45777 non-null  object  \n",
      " 5   jibun      45777 non-null  object  \n",
      " 6   jimok      45777 non-null  object  \n",
      " 7   year       45447 non-null  object  \n",
      " 8   month      45447 non-null  object  \n",
      " 9   lnd_prc    45777 non-null  int64   \n",
      " 10  stndrd_yn  45447 non-null  object  \n",
      " 11  jimok_cd   1131 non-null   object  \n",
      " 12  jimok_nm   1131 non-null   object  \n",
      " 13  lnd_area   45777 non-null  float64 \n",
      " 14  date       45777 non-null  object  \n",
      " 15  geometry   45777 non-null  geometry\n",
      "dtypes: float64(1), geometry(1), int64(1), object(13)\n",
      "memory usage: 5.6+ MB\n"
     ]
    }
   ],
   "source": [
    "prc.info()"
   ]
  },
  {
   "cell_type": "markdown",
   "id": "assumed-cruise",
   "metadata": {},
   "source": [
    "#### 컬럼별 설명\n",
    "\n",
    "* index: 해당 데이터의 고유번호\n",
    "* emd_cd: 법정동코드\n",
    "* emd_nm: 법정동의 이름\n",
    "* reg_cd: 대장구분코드\n",
    "* reg_nm: 대장구분 정보\n",
    "* jibun: 지번 정보\n",
    "* jimok: 지번지목 정보\n",
    "* year: 해당 데이터의 기준년도\n",
    "* month: 해당 데이터의 기준월\n",
    "* lnd_prc: 해당 데이터의 개별공시지가\n",
    "* stndrd_yn: 해당 데이터의 표준지여부\n",
    "* jimok_cd: 지목의 코드\n",
    "* jimok_nm: 지목 정보\n",
    "* lnd_area: 토지의 면적\n",
    "* date: 해당 데이터의 기준일"
   ]
  },
  {
   "cell_type": "code",
   "execution_count": 47,
   "id": "technical-cyprus",
   "metadata": {},
   "outputs": [
    {
     "data": {
      "text/plain": [
       "index            0\n",
       "emd_cd           0\n",
       "emd_nm           0\n",
       "reg_cd           0\n",
       "reg_nm           0\n",
       "jibun            0\n",
       "jimok            0\n",
       "year           330\n",
       "month          330\n",
       "lnd_prc          0\n",
       "stndrd_yn      330\n",
       "jimok_cd     44646\n",
       "jimok_nm     44646\n",
       "lnd_area         0\n",
       "date             0\n",
       "geometry         0\n",
       "dtype: int64"
      ]
     },
     "execution_count": 47,
     "metadata": {},
     "output_type": "execute_result"
    }
   ],
   "source": [
    "prc.isnull().sum()"
   ]
  },
  {
   "cell_type": "code",
   "execution_count": 48,
   "id": "durable-identifier",
   "metadata": {},
   "outputs": [
    {
     "data": {
      "text/plain": [
       "array(['0', None, '1'], dtype=object)"
      ]
     },
     "execution_count": 48,
     "metadata": {},
     "output_type": "execute_result"
    }
   ],
   "source": [
    "prc['stndrd_yn'].unique() # 0: NO, 1: YES"
   ]
  },
  {
   "cell_type": "code",
   "execution_count": 49,
   "id": "connected-studio",
   "metadata": {},
   "outputs": [
    {
     "data": {
      "text/plain": [
       "330"
      ]
     },
     "execution_count": 49,
     "metadata": {},
     "output_type": "execute_result"
    }
   ],
   "source": [
    "prc['stndrd_yn'].isnull().sum()"
   ]
  },
  {
   "cell_type": "code",
   "execution_count": 50,
   "id": "environmental-particular",
   "metadata": {},
   "outputs": [
    {
     "name": "stdout",
     "output_type": "stream",
     "text": [
      "[None '05' '08' '01' '10' '09' '11' '28' '12' '13' '02' '25']\n",
      "[None '임야' '대' '전' '학교용지' '공장용지' '주차장' '잡종지' '주유소용지' '창고용지' '답' '종교용지']\n"
     ]
    }
   ],
   "source": [
    "print(prc['jimok_cd'].unique(), prc['jimok_nm'].unique(), sep='\\n')"
   ]
  },
  {
   "cell_type": "code",
   "execution_count": 51,
   "id": "driving-aruba",
   "metadata": {},
   "outputs": [
    {
     "name": "stdout",
     "output_type": "stream",
     "text": [
      "['2020' None] ['01' None '07']\n"
     ]
    }
   ],
   "source": [
    "print(prc['year'].unique(), prc['month'].unique())"
   ]
  },
  {
   "cell_type": "code",
   "execution_count": 52,
   "id": "innocent-steel",
   "metadata": {},
   "outputs": [
    {
     "data": {
      "text/html": [
       "<div>\n",
       "<style scoped>\n",
       "    .dataframe tbody tr th:only-of-type {\n",
       "        vertical-align: middle;\n",
       "    }\n",
       "\n",
       "    .dataframe tbody tr th {\n",
       "        vertical-align: top;\n",
       "    }\n",
       "\n",
       "    .dataframe thead th {\n",
       "        text-align: right;\n",
       "    }\n",
       "</style>\n",
       "<table border=\"1\" class=\"dataframe\">\n",
       "  <thead>\n",
       "    <tr style=\"text-align: right;\">\n",
       "      <th></th>\n",
       "      <th>index</th>\n",
       "      <th>emd_cd</th>\n",
       "      <th>emd_nm</th>\n",
       "      <th>reg_cd</th>\n",
       "      <th>reg_nm</th>\n",
       "      <th>jibun</th>\n",
       "      <th>jimok</th>\n",
       "      <th>year</th>\n",
       "      <th>month</th>\n",
       "      <th>lnd_prc</th>\n",
       "      <th>stndrd_yn</th>\n",
       "      <th>jimok_cd</th>\n",
       "      <th>jimok_nm</th>\n",
       "      <th>lnd_area</th>\n",
       "      <th>date</th>\n",
       "      <th>geometry</th>\n",
       "      <th>emd_jibun</th>\n",
       "    </tr>\n",
       "  </thead>\n",
       "  <tbody>\n",
       "    <tr>\n",
       "      <th>0</th>\n",
       "      <td>2629010700105620003</td>\n",
       "      <td>2629010700</td>\n",
       "      <td>부산광역시 남구 용호동</td>\n",
       "      <td>1</td>\n",
       "      <td>일반</td>\n",
       "      <td>562-3</td>\n",
       "      <td>562-3대</td>\n",
       "      <td>2020</td>\n",
       "      <td>01</td>\n",
       "      <td>1017000</td>\n",
       "      <td>0</td>\n",
       "      <td>None</td>\n",
       "      <td>None</td>\n",
       "      <td>0.000</td>\n",
       "      <td>2021-05-18</td>\n",
       "      <td>MULTIPOLYGON (((129.11309 35.10997, 129.11292 ...</td>\n",
       "      <td>2629010700(562-3)</td>\n",
       "    </tr>\n",
       "  </tbody>\n",
       "</table>\n",
       "</div>"
      ],
      "text/plain": [
       "                 index      emd_cd        emd_nm reg_cd reg_nm  jibun   jimok  \\\n",
       "0  2629010700105620003  2629010700  부산광역시 남구 용호동      1     일반  562-3  562-3대   \n",
       "\n",
       "   year month  lnd_prc stndrd_yn jimok_cd jimok_nm  lnd_area        date  \\\n",
       "0  2020    01  1017000         0     None     None     0.000  2021-05-18   \n",
       "\n",
       "                                            geometry          emd_jibun  \n",
       "0  MULTIPOLYGON (((129.11309 35.10997, 129.11292 ...  2629010700(562-3)  "
      ]
     },
     "execution_count": 52,
     "metadata": {},
     "output_type": "execute_result"
    }
   ],
   "source": [
    "# emd_jb 컬럼 만들기 --- 2629010600(6-5)\n",
    "\n",
    "prc['emd_jibun'] = prc['emd_cd'].map(str) +  '(' + prc['jibun'] + ')'\n",
    "prc.head(1)"
   ]
  },
  {
   "cell_type": "code",
   "execution_count": 53,
   "id": "imposed-wings",
   "metadata": {},
   "outputs": [],
   "source": [
    "# 새로운 컬럼 추가 (기준연월: std_date)\n",
    "\n",
    "prc['year'] = prc['year'].replace('None', np.nan) # 'None'값 null로 대체\n",
    "prc['month'] = prc['month'].replace('None', np.nan)"
   ]
  },
  {
   "cell_type": "code",
   "execution_count": 54,
   "id": "related-complement",
   "metadata": {
    "scrolled": true
   },
   "outputs": [
    {
     "name": "stdout",
     "output_type": "stream",
     "text": [
      "['2020-01' nan '2020-07']\n",
      "330\n"
     ]
    }
   ],
   "source": [
    "prc['std_date'] = prc['year'].map(str) + '-' + prc['month'].map(str)\n",
    "prc['std_date'] = prc['std_date'].replace('None-None', np.nan)\n",
    "\n",
    "print(prc['std_date'].unique(), prc['std_date'].isnull().sum(), sep='\\n')"
   ]
  },
  {
   "cell_type": "code",
   "execution_count": 55,
   "id": "remarkable-pakistan",
   "metadata": {},
   "outputs": [
    {
     "data": {
      "text/html": [
       "<div>\n",
       "<style scoped>\n",
       "    .dataframe tbody tr th:only-of-type {\n",
       "        vertical-align: middle;\n",
       "    }\n",
       "\n",
       "    .dataframe tbody tr th {\n",
       "        vertical-align: top;\n",
       "    }\n",
       "\n",
       "    .dataframe thead th {\n",
       "        text-align: right;\n",
       "    }\n",
       "</style>\n",
       "<table border=\"1\" class=\"dataframe\">\n",
       "  <thead>\n",
       "    <tr style=\"text-align: right;\">\n",
       "      <th></th>\n",
       "      <th>index</th>\n",
       "      <th>emd_cd</th>\n",
       "      <th>emd_nm</th>\n",
       "      <th>reg_cd</th>\n",
       "      <th>reg_nm</th>\n",
       "      <th>jibun</th>\n",
       "      <th>jimok</th>\n",
       "      <th>year</th>\n",
       "      <th>month</th>\n",
       "      <th>lnd_prc</th>\n",
       "      <th>stndrd_yn</th>\n",
       "      <th>jimok_cd</th>\n",
       "      <th>jimok_nm</th>\n",
       "      <th>lnd_area</th>\n",
       "      <th>date</th>\n",
       "      <th>geometry</th>\n",
       "      <th>emd_jibun</th>\n",
       "      <th>std_date</th>\n",
       "    </tr>\n",
       "  </thead>\n",
       "  <tbody>\n",
       "    <tr>\n",
       "      <th>0</th>\n",
       "      <td>2629010700105620003</td>\n",
       "      <td>2629010700</td>\n",
       "      <td>부산광역시 남구 용호동</td>\n",
       "      <td>1</td>\n",
       "      <td>일반</td>\n",
       "      <td>562-3</td>\n",
       "      <td>562-3대</td>\n",
       "      <td>2020</td>\n",
       "      <td>01</td>\n",
       "      <td>1017000</td>\n",
       "      <td>0</td>\n",
       "      <td>None</td>\n",
       "      <td>None</td>\n",
       "      <td>0.000</td>\n",
       "      <td>2021-05-18</td>\n",
       "      <td>MULTIPOLYGON (((129.11309 35.10997, 129.11292 ...</td>\n",
       "      <td>2629010700(562-3)</td>\n",
       "      <td>2020-01</td>\n",
       "    </tr>\n",
       "  </tbody>\n",
       "</table>\n",
       "</div>"
      ],
      "text/plain": [
       "                 index      emd_cd        emd_nm reg_cd reg_nm  jibun   jimok  \\\n",
       "0  2629010700105620003  2629010700  부산광역시 남구 용호동      1     일반  562-3  562-3대   \n",
       "\n",
       "   year month  lnd_prc stndrd_yn jimok_cd jimok_nm  lnd_area        date  \\\n",
       "0  2020    01  1017000         0     None     None     0.000  2021-05-18   \n",
       "\n",
       "                                            geometry          emd_jibun  \\\n",
       "0  MULTIPOLYGON (((129.11309 35.10997, 129.11292 ...  2629010700(562-3)   \n",
       "\n",
       "  std_date  \n",
       "0  2020-01  "
      ]
     },
     "execution_count": 55,
     "metadata": {},
     "output_type": "execute_result"
    }
   ],
   "source": [
    "prc.head(1)"
   ]
  },
  {
   "cell_type": "code",
   "execution_count": 56,
   "id": "built-money",
   "metadata": {},
   "outputs": [],
   "source": [
    "# 불필요한 컬럼 정리\n",
    "\n",
    "prc_temp = prc.drop(columns = ['index','emd_cd','emd_nm','jibun','year','month'], axis=1)"
   ]
  },
  {
   "cell_type": "code",
   "execution_count": 57,
   "id": "likely-engineering",
   "metadata": {},
   "outputs": [
    {
     "data": {
      "text/html": [
       "<div>\n",
       "<style scoped>\n",
       "    .dataframe tbody tr th:only-of-type {\n",
       "        vertical-align: middle;\n",
       "    }\n",
       "\n",
       "    .dataframe tbody tr th {\n",
       "        vertical-align: top;\n",
       "    }\n",
       "\n",
       "    .dataframe thead th {\n",
       "        text-align: right;\n",
       "    }\n",
       "</style>\n",
       "<table border=\"1\" class=\"dataframe\">\n",
       "  <thead>\n",
       "    <tr style=\"text-align: right;\">\n",
       "      <th></th>\n",
       "      <th>emd_jibun</th>\n",
       "      <th>std_date</th>\n",
       "      <th>reg_cd</th>\n",
       "      <th>reg_nm</th>\n",
       "      <th>jimok</th>\n",
       "      <th>lnd_prc</th>\n",
       "      <th>stndrd_yn</th>\n",
       "      <th>jimok_cd</th>\n",
       "      <th>jimok_nm</th>\n",
       "      <th>lnd_area</th>\n",
       "      <th>date</th>\n",
       "      <th>geometry</th>\n",
       "    </tr>\n",
       "  </thead>\n",
       "  <tbody>\n",
       "    <tr>\n",
       "      <th>0</th>\n",
       "      <td>2629010700(562-3)</td>\n",
       "      <td>2020-01</td>\n",
       "      <td>1</td>\n",
       "      <td>일반</td>\n",
       "      <td>562-3대</td>\n",
       "      <td>1017000</td>\n",
       "      <td>0</td>\n",
       "      <td>None</td>\n",
       "      <td>None</td>\n",
       "      <td>0.000</td>\n",
       "      <td>2021-05-18</td>\n",
       "      <td>MULTIPOLYGON (((129.11309 35.10997, 129.11292 ...</td>\n",
       "    </tr>\n",
       "  </tbody>\n",
       "</table>\n",
       "</div>"
      ],
      "text/plain": [
       "           emd_jibun std_date reg_cd reg_nm   jimok  lnd_prc stndrd_yn  \\\n",
       "0  2629010700(562-3)  2020-01      1     일반  562-3대  1017000         0   \n",
       "\n",
       "  jimok_cd jimok_nm  lnd_area        date  \\\n",
       "0     None     None     0.000  2021-05-18   \n",
       "\n",
       "                                            geometry  \n",
       "0  MULTIPOLYGON (((129.11309 35.10997, 129.11292 ...  "
      ]
     },
     "execution_count": 57,
     "metadata": {},
     "output_type": "execute_result"
    }
   ],
   "source": [
    "# 컬럼 재배치\n",
    "\n",
    "col_1 = prc_temp.columns[-2:].to_list()\n",
    "col_2 = prc_temp.columns[:-2].to_list()\n",
    "new_col = col_1 + col_2\n",
    "cp_prc = prc_temp[new_col]\n",
    "cp_prc.head(1) # competition addr_bd"
   ]
  },
  {
   "cell_type": "code",
   "execution_count": 58,
   "id": "future-finder",
   "metadata": {},
   "outputs": [],
   "source": [
    "cp_prc.to_file(input_path.joinpath('대회_공시지가_정리.geojson'), driver='GeoJSON')"
   ]
  },
  {
   "cell_type": "markdown",
   "id": "noted-bahamas",
   "metadata": {},
   "source": [
    "---"
   ]
  },
  {
   "cell_type": "markdown",
   "id": "binary-excuse",
   "metadata": {},
   "source": [
    "## 공공데이터 활용하여 결측값 채우기/데이터 업데이트\n",
    "\n",
    "* 데이터를 결합하는 데에 소요되는 시간을 줄이기 위해 컬럼 수 정리 및 데이터 전처리를 우선적으로 진행"
   ]
  },
  {
   "cell_type": "markdown",
   "id": "electoral-chambers",
   "metadata": {},
   "source": [
    "### 공공데이터 불러오기 (건축물연령)"
   ]
  },
  {
   "cell_type": "code",
   "execution_count": 59,
   "id": "opposite-mainland",
   "metadata": {},
   "outputs": [
    {
     "data": {
      "text/html": [
       "<div>\n",
       "<style scoped>\n",
       "    .dataframe tbody tr th:only-of-type {\n",
       "        vertical-align: middle;\n",
       "    }\n",
       "\n",
       "    .dataframe tbody tr th {\n",
       "        vertical-align: top;\n",
       "    }\n",
       "\n",
       "    .dataframe thead th {\n",
       "        text-align: right;\n",
       "    }\n",
       "</style>\n",
       "<table border=\"1\" class=\"dataframe\">\n",
       "  <thead>\n",
       "    <tr style=\"text-align: right;\">\n",
       "      <th></th>\n",
       "      <th>A0</th>\n",
       "      <th>A1</th>\n",
       "      <th>A2</th>\n",
       "      <th>A3</th>\n",
       "      <th>A4</th>\n",
       "      <th>A5</th>\n",
       "      <th>A6</th>\n",
       "      <th>A7</th>\n",
       "      <th>A8</th>\n",
       "      <th>A9</th>\n",
       "      <th>...</th>\n",
       "      <th>A22</th>\n",
       "      <th>A23</th>\n",
       "      <th>A24</th>\n",
       "      <th>A25</th>\n",
       "      <th>A26</th>\n",
       "      <th>A27</th>\n",
       "      <th>A28</th>\n",
       "      <th>A29</th>\n",
       "      <th>A30</th>\n",
       "      <th>geometry</th>\n",
       "    </tr>\n",
       "  </thead>\n",
       "  <tbody>\n",
       "    <tr>\n",
       "      <th>0</th>\n",
       "      <td>32457038</td>\n",
       "      <td>2002391922631842049200000000</td>\n",
       "      <td>2629010600100060005</td>\n",
       "      <td>2629010600</td>\n",
       "      <td>부산광역시 남구 대연동</td>\n",
       "      <td>1</td>\n",
       "      <td>일반</td>\n",
       "      <td>6-5</td>\n",
       "      <td>13176</td>\n",
       "      <td>2</td>\n",
       "      <td>...</td>\n",
       "      <td>1</td>\n",
       "      <td>2001-04-10</td>\n",
       "      <td>2002-07-26</td>\n",
       "      <td>20.000</td>\n",
       "      <td>03</td>\n",
       "      <td>20대</td>\n",
       "      <td>025</td>\n",
       "      <td>25세미만</td>\n",
       "      <td>2021-01-13</td>\n",
       "      <td>POLYGON ((391934.193 184199.828, 391927.662 18...</td>\n",
       "    </tr>\n",
       "  </tbody>\n",
       "</table>\n",
       "<p>1 rows × 32 columns</p>\n",
       "</div>"
      ],
      "text/plain": [
       "         A0                            A1                   A2          A3  \\\n",
       "0  32457038  2002391922631842049200000000  2629010600100060005  2629010600   \n",
       "\n",
       "             A4 A5  A6   A7     A8 A9  ... A22         A23         A24    A25  \\\n",
       "0  부산광역시 남구 대연동  1  일반  6-5  13176  2  ...   1  2001-04-10  2002-07-26 20.000   \n",
       "\n",
       "  A26  A27  A28    A29         A30  \\\n",
       "0  03  20대  025  25세미만  2021-01-13   \n",
       "\n",
       "                                            geometry  \n",
       "0  POLYGON ((391934.193 184199.828, 391927.662 18...  \n",
       "\n",
       "[1 rows x 32 columns]"
      ]
     },
     "execution_count": 59,
     "metadata": {},
     "output_type": "execute_result"
    }
   ],
   "source": [
    "public_age = gpd.read_file(input_path.joinpath('건축물연령_(210114기준).shp'), encoding='CP949')\n",
    "public_age.head(1)"
   ]
  },
  {
   "cell_type": "code",
   "execution_count": 60,
   "id": "consecutive-province",
   "metadata": {},
   "outputs": [
    {
     "name": "stdout",
     "output_type": "stream",
     "text": [
      "<class 'geopandas.geodataframe.GeoDataFrame'>\n",
      "RangeIndex: 20534 entries, 0 to 20533\n",
      "Data columns (total 32 columns):\n",
      " #   Column    Non-Null Count  Dtype   \n",
      "---  ------    --------------  -----   \n",
      " 0   A0        20534 non-null  int64   \n",
      " 1   A1        20534 non-null  object  \n",
      " 2   A2        20534 non-null  object  \n",
      " 3   A3        20534 non-null  object  \n",
      " 4   A4        20534 non-null  object  \n",
      " 5   A5        20534 non-null  object  \n",
      " 6   A6        20534 non-null  object  \n",
      " 7   A7        20534 non-null  object  \n",
      " 8   A8        20534 non-null  object  \n",
      " 9   A9        20534 non-null  object  \n",
      " 10  A10       20534 non-null  object  \n",
      " 11  A11       20534 non-null  object  \n",
      " 12  A12       20534 non-null  object  \n",
      " 13  A13       7177 non-null   object  \n",
      " 14  A14       2429 non-null   object  \n",
      " 15  A15       20534 non-null  float64 \n",
      " 16  A16       20529 non-null  object  \n",
      " 17  A17       20527 non-null  object  \n",
      " 18  A18       20529 non-null  object  \n",
      " 19  A19       20524 non-null  object  \n",
      " 20  A20       20534 non-null  float64 \n",
      " 21  A21       20534 non-null  int64   \n",
      " 22  A22       20534 non-null  int64   \n",
      " 23  A23       15347 non-null  object  \n",
      " 24  A24       18755 non-null  object  \n",
      " 25  A25       18755 non-null  float64 \n",
      " 26  A26       20534 non-null  object  \n",
      " 27  A27       20534 non-null  object  \n",
      " 28  A28       20534 non-null  object  \n",
      " 29  A29       20534 non-null  object  \n",
      " 30  A30       20534 non-null  object  \n",
      " 31  geometry  20534 non-null  geometry\n",
      "dtypes: float64(3), geometry(1), int64(3), object(25)\n",
      "memory usage: 5.0+ MB\n"
     ]
    }
   ],
   "source": [
    "public_age.info()"
   ]
  },
  {
   "cell_type": "markdown",
   "id": "coordinate-hurricane",
   "metadata": {},
   "source": [
    "#### 컬럼별 내용\n",
    "\n",
    "* A0 도형ID 개방DB에서 정의한 도형ID 정보\n",
    "\n",
    "* A1 GIS건물통합식별번호 건물공간정보DB 식별자 (층별번호, 호별번호는 '0'으로 통일함)\n",
    "\n",
    "* A2 고유번호 각 필지를 서로 구별하기 위하여 필지마다 붙이는 고유한 번호 \n",
    "\n",
    "* A3 법정동코드 토지가 소재한 행정구역코드(법정동코드) 10자리\n",
    "\n",
    "* A4 법정동명 토지가 소재한 소재지의 행정구역 명칭(법정동명)\n",
    "\n",
    "* A5 특수지구분코드 해당 필지의 특수지구분 코드\n",
    "\n",
    "* A6 특수지구분명 해당 필지의 특수지구분 명칭\n",
    "\n",
    "* A7 지번 필지에 부여하여 지적공부에 등록한 번호. 지번본번과 지번부번으로 구성\n",
    "\n",
    "* A8 건물식별번호 건축물대장을 식별할 수 있는 고유번호\n",
    "\n",
    "* A9 집합건물구분코드 건축물대장에서 일반건축물/집합건축물인지 구분하는 코드\n",
    "\n",
    "* A10 집합건물구분 건축물대장에서 일반건축물/집합건축물인지 구분하는 코드정보\n",
    "\n",
    "* A11대장종류코드 건축물대장의 종류를 구분하는 코드\n",
    "\n",
    "* A12 대장종류 건축물대장의 종류를 구분하는 코드정보\n",
    "\n",
    "* A13 건물명 건물의 명칭 \n",
    "\n",
    "* A14 건물동명 건축물의 동 명칭 정보\n",
    "\n",
    "* A15 건물연면적 건축물에서 지하층을 포함한 건물 각 층의 바닥면적 합산한 면적(㎡)\n",
    "\n",
    "* A16 건축물구조코드 건축물 구조에 대한 분류코드\n",
    "\n",
    "* A17 건축물구조명 건축물 구조에 대한 분류 코드정보\n",
    "\n",
    "* A18 주요용도코드 건축물의 이용 목적 및 형태를 알 수 있는 주요 용도에 대한 분류 코드\n",
    "\n",
    "* A19 주요용도명 건축물의 이용 목적 및 형태를 알 수 있는 주요 용도에 대한 분류 코드정보\n",
    "\n",
    "* A20 건물높이 건축물에 대한 높이(m)\n",
    "\n",
    "* A21 지상층수 건축물에 대한 지상으로 되어 있는 층수\n",
    "\n",
    "* A22 지하층수 건축물에 대한 지하으로 되어 있는 층수\n",
    "\n",
    "* A23 허가일자 건축물의 건축 허가일자\n",
    "\n",
    "* A24 사용승인일자 건축물의 사용 승인 일자\n",
    "\n",
    "* A25 건물연령 건축물의 연령\n",
    "\n",
    "* A26 연령대구분코드 10단위 세대 구분코드\n",
    "\n",
    "* A27 연령대구분명 10단위 세대 구분 코드정보\n",
    "\n",
    "* A28 연령대5계급코드 5단위 세대 구분코드\n",
    "\n",
    "* A29 연령대5계급명 5단위 세대 구분 코드정보\n",
    "\n",
    "* A30 데이터기준일자 데이터 작성 기준일자\n"
   ]
  },
  {
   "cell_type": "code",
   "execution_count": 61,
   "id": "extraordinary-pittsburgh",
   "metadata": {},
   "outputs": [
    {
     "data": {
      "text/plain": [
       "array(['일반', '산'], dtype=object)"
      ]
     },
     "execution_count": 61,
     "metadata": {},
     "output_type": "execute_result"
    }
   ],
   "source": [
    "public_age['A6'].unique() # 1: 일반, 2: 산"
   ]
  },
  {
   "cell_type": "code",
   "execution_count": 62,
   "id": "local-interstate",
   "metadata": {},
   "outputs": [
    {
     "data": {
      "text/plain": [
       "array(['집합건축물', '일반건축물'], dtype=object)"
      ]
     },
     "execution_count": 62,
     "metadata": {},
     "output_type": "execute_result"
    }
   ],
   "source": [
    "public_age['A10'].unique() # 1: 일반, 2: 집합"
   ]
  },
  {
   "cell_type": "code",
   "execution_count": 63,
   "id": "integral-blackjack",
   "metadata": {},
   "outputs": [
    {
     "data": {
      "text/plain": [
       "array(['3', '2'], dtype=object)"
      ]
     },
     "execution_count": 63,
     "metadata": {},
     "output_type": "execute_result"
    }
   ],
   "source": [
    "public_age['A11'].unique() # 2: 일반건축물대장, 3: 표제부"
   ]
  },
  {
   "cell_type": "code",
   "execution_count": 64,
   "id": "scientific-maximum",
   "metadata": {},
   "outputs": [
    {
     "data": {
      "text/plain": [
       "array(['표제부', '일반건축물대방'], dtype=object)"
      ]
     },
     "execution_count": 64,
     "metadata": {},
     "output_type": "execute_result"
    }
   ],
   "source": [
    "public_age['A12'].unique() # 2: 일반건축물대장, 3: 표제부"
   ]
  },
  {
   "cell_type": "code",
   "execution_count": 65,
   "id": "sized-transport",
   "metadata": {},
   "outputs": [
    {
     "name": "stdout",
     "output_type": "stream",
     "text": [
      "['21' '11' '51' '12' '31' '32' '42' '19' '52' '99' '33' '13' '41' '63'\n",
      " None '39' '29' '10' '49' '61' '22']\n",
      "['철근콘크리트구조' '벽돌구조' '일반목구조' '블록구조' '일반철골구조' '경량철골구조' '철골철근콘크리트구조' '기타조적구조'\n",
      " '통나무구조' '기타구조' '강파이프구조' '석구조' '철골콘크리트구조' None '기타강구조' '기타콘크리트구조' '조적구조'\n",
      " '기타철골철근콘크리트구조' '프리케스트콘크리트구조']\n"
     ]
    }
   ],
   "source": [
    "print(public_age['A16'].unique(), public_age['A17'].unique(), sep='\\n')"
   ]
  },
  {
   "cell_type": "code",
   "execution_count": 66,
   "id": "traditional-illinois",
   "metadata": {},
   "outputs": [],
   "source": [
    "# 불필요한 컬럼 제거\n",
    "public_age_dropped = public_age.drop(columns=['A0', 'A1', 'A2','A23','A26','A27','A28','A29','A30' ])"
   ]
  },
  {
   "cell_type": "code",
   "execution_count": 67,
   "id": "guilty-sharp",
   "metadata": {},
   "outputs": [
    {
     "data": {
      "text/plain": [
       "Index(['A3', 'A4', 'A5', 'A6', 'A7', 'A8', 'A9', 'A10', 'A11', 'A12', 'A13',\n",
       "       'A14', 'A15', 'A16', 'A17', 'A18', 'A19', 'A20', 'A21', 'A22', 'A24',\n",
       "       'A25', 'geometry'],\n",
       "      dtype='object')"
      ]
     },
     "execution_count": 67,
     "metadata": {},
     "output_type": "execute_result"
    }
   ],
   "source": [
    "public_age_dropped.columns"
   ]
  },
  {
   "cell_type": "code",
   "execution_count": 68,
   "id": "every-penguin",
   "metadata": {},
   "outputs": [],
   "source": [
    "# 컬럼명 변경\n",
    "public_age_dropped.columns = ['emd_cd','emd_nm','spc_grd_cd','spc_grd_info','jibun','buld_se_cd','co_bd_cd','co_bd_nm',\n",
    "                              'reg_cd','reg_nm','bd_nm','dong','bd_area','str_cd','str_nm','mus_cd',\n",
    "                              'mus_cd_nm','bd_h','grd_flr_num','ugr_flr_num','us_athr_date','bd_age','geometry'\n",
    "                             ]"
   ]
  },
  {
   "cell_type": "code",
   "execution_count": 69,
   "id": "logical-weapon",
   "metadata": {},
   "outputs": [
    {
     "data": {
      "text/html": [
       "<div>\n",
       "<style scoped>\n",
       "    .dataframe tbody tr th:only-of-type {\n",
       "        vertical-align: middle;\n",
       "    }\n",
       "\n",
       "    .dataframe tbody tr th {\n",
       "        vertical-align: top;\n",
       "    }\n",
       "\n",
       "    .dataframe thead th {\n",
       "        text-align: right;\n",
       "    }\n",
       "</style>\n",
       "<table border=\"1\" class=\"dataframe\">\n",
       "  <thead>\n",
       "    <tr style=\"text-align: right;\">\n",
       "      <th></th>\n",
       "      <th>emd_cd</th>\n",
       "      <th>emd_nm</th>\n",
       "      <th>spc_grd_cd</th>\n",
       "      <th>spc_grd_info</th>\n",
       "      <th>jibun</th>\n",
       "      <th>buld_se_cd</th>\n",
       "      <th>co_bd_cd</th>\n",
       "      <th>co_bd_nm</th>\n",
       "      <th>reg_cd</th>\n",
       "      <th>reg_nm</th>\n",
       "      <th>...</th>\n",
       "      <th>str_cd</th>\n",
       "      <th>str_nm</th>\n",
       "      <th>mus_cd</th>\n",
       "      <th>mus_cd_nm</th>\n",
       "      <th>bd_h</th>\n",
       "      <th>grd_flr_num</th>\n",
       "      <th>ugr_flr_num</th>\n",
       "      <th>us_athr_date</th>\n",
       "      <th>bd_age</th>\n",
       "      <th>geometry</th>\n",
       "    </tr>\n",
       "  </thead>\n",
       "  <tbody>\n",
       "    <tr>\n",
       "      <th>0</th>\n",
       "      <td>2629010600</td>\n",
       "      <td>부산광역시 남구 대연동</td>\n",
       "      <td>1</td>\n",
       "      <td>일반</td>\n",
       "      <td>6-5</td>\n",
       "      <td>13176</td>\n",
       "      <td>2</td>\n",
       "      <td>집합건축물</td>\n",
       "      <td>3</td>\n",
       "      <td>표제부</td>\n",
       "      <td>...</td>\n",
       "      <td>21</td>\n",
       "      <td>철근콘크리트구조</td>\n",
       "      <td>14000</td>\n",
       "      <td>업무시설</td>\n",
       "      <td>29.400</td>\n",
       "      <td>9</td>\n",
       "      <td>1</td>\n",
       "      <td>2002-07-26</td>\n",
       "      <td>20.000</td>\n",
       "      <td>POLYGON ((391934.193 184199.828, 391927.662 18...</td>\n",
       "    </tr>\n",
       "  </tbody>\n",
       "</table>\n",
       "<p>1 rows × 23 columns</p>\n",
       "</div>"
      ],
      "text/plain": [
       "       emd_cd        emd_nm spc_grd_cd spc_grd_info jibun buld_se_cd co_bd_cd  \\\n",
       "0  2629010600  부산광역시 남구 대연동          1           일반   6-5      13176        2   \n",
       "\n",
       "  co_bd_nm reg_cd reg_nm  ... str_cd    str_nm  mus_cd mus_cd_nm   bd_h  \\\n",
       "0    집합건축물      3    표제부  ...     21  철근콘크리트구조   14000      업무시설 29.400   \n",
       "\n",
       "  grd_flr_num ugr_flr_num  us_athr_date  bd_age  \\\n",
       "0           9           1    2002-07-26  20.000   \n",
       "\n",
       "                                            geometry  \n",
       "0  POLYGON ((391934.193 184199.828, 391927.662 18...  \n",
       "\n",
       "[1 rows x 23 columns]"
      ]
     },
     "execution_count": 69,
     "metadata": {},
     "output_type": "execute_result"
    }
   ],
   "source": [
    "public_age_dropped.head(1)"
   ]
  },
  {
   "cell_type": "code",
   "execution_count": 70,
   "id": "undefined-petite",
   "metadata": {},
   "outputs": [
    {
     "data": {
      "text/plain": [
       "emd_cd            object\n",
       "emd_nm            object\n",
       "spc_grd_cd        object\n",
       "spc_grd_info      object\n",
       "jibun             object\n",
       "buld_se_cd        object\n",
       "co_bd_cd          object\n",
       "co_bd_nm          object\n",
       "reg_cd            object\n",
       "reg_nm            object\n",
       "bd_nm             object\n",
       "dong              object\n",
       "bd_area          float64\n",
       "str_cd            object\n",
       "str_nm            object\n",
       "mus_cd            object\n",
       "mus_cd_nm         object\n",
       "bd_h             float64\n",
       "grd_flr_num        int64\n",
       "ugr_flr_num        int64\n",
       "us_athr_date      object\n",
       "bd_age           float64\n",
       "geometry        geometry\n",
       "dtype: object"
      ]
     },
     "execution_count": 70,
     "metadata": {},
     "output_type": "execute_result"
    }
   ],
   "source": [
    "public_age_dropped.dtypes"
   ]
  },
  {
   "cell_type": "code",
   "execution_count": 71,
   "id": "lovely-andorra",
   "metadata": {},
   "outputs": [
    {
     "name": "stdout",
     "output_type": "stream",
     "text": [
      "emd_cd                  object\n",
      "emd_nm                  object\n",
      "spc_grd_cd              object\n",
      "spc_grd_info            object\n",
      "jibun                   object\n",
      "buld_se_cd              object\n",
      "co_bd_cd                object\n",
      "co_bd_nm                object\n",
      "reg_cd                  object\n",
      "reg_nm                  object\n",
      "bd_nm                   object\n",
      "dong                    object\n",
      "bd_area                float64\n",
      "str_cd                  object\n",
      "str_nm                  object\n",
      "mus_cd                  object\n",
      "mus_cd_nm               object\n",
      "bd_h                   float64\n",
      "grd_flr_num              int64\n",
      "ugr_flr_num              int64\n",
      "us_athr_date    datetime64[ns]\n",
      "bd_age                 float64\n",
      "geometry              geometry\n",
      "dtype: object\n"
     ]
    },
    {
     "data": {
      "text/html": [
       "<div>\n",
       "<style scoped>\n",
       "    .dataframe tbody tr th:only-of-type {\n",
       "        vertical-align: middle;\n",
       "    }\n",
       "\n",
       "    .dataframe tbody tr th {\n",
       "        vertical-align: top;\n",
       "    }\n",
       "\n",
       "    .dataframe thead th {\n",
       "        text-align: right;\n",
       "    }\n",
       "</style>\n",
       "<table border=\"1\" class=\"dataframe\">\n",
       "  <thead>\n",
       "    <tr style=\"text-align: right;\">\n",
       "      <th></th>\n",
       "      <th>emd_cd</th>\n",
       "      <th>emd_nm</th>\n",
       "      <th>spc_grd_cd</th>\n",
       "      <th>spc_grd_info</th>\n",
       "      <th>jibun</th>\n",
       "      <th>buld_se_cd</th>\n",
       "      <th>co_bd_cd</th>\n",
       "      <th>co_bd_nm</th>\n",
       "      <th>reg_cd</th>\n",
       "      <th>reg_nm</th>\n",
       "      <th>...</th>\n",
       "      <th>str_cd</th>\n",
       "      <th>str_nm</th>\n",
       "      <th>mus_cd</th>\n",
       "      <th>mus_cd_nm</th>\n",
       "      <th>bd_h</th>\n",
       "      <th>grd_flr_num</th>\n",
       "      <th>ugr_flr_num</th>\n",
       "      <th>us_athr_date</th>\n",
       "      <th>bd_age</th>\n",
       "      <th>geometry</th>\n",
       "    </tr>\n",
       "  </thead>\n",
       "  <tbody>\n",
       "    <tr>\n",
       "      <th>0</th>\n",
       "      <td>2629010600</td>\n",
       "      <td>부산광역시 남구 대연동</td>\n",
       "      <td>1</td>\n",
       "      <td>일반</td>\n",
       "      <td>6-5</td>\n",
       "      <td>13176</td>\n",
       "      <td>2</td>\n",
       "      <td>집합건축물</td>\n",
       "      <td>3</td>\n",
       "      <td>표제부</td>\n",
       "      <td>...</td>\n",
       "      <td>21</td>\n",
       "      <td>철근콘크리트구조</td>\n",
       "      <td>14000</td>\n",
       "      <td>업무시설</td>\n",
       "      <td>29.400</td>\n",
       "      <td>9</td>\n",
       "      <td>1</td>\n",
       "      <td>2002-07-26</td>\n",
       "      <td>20.000</td>\n",
       "      <td>POLYGON ((391934.193 184199.828, 391927.662 18...</td>\n",
       "    </tr>\n",
       "  </tbody>\n",
       "</table>\n",
       "<p>1 rows × 23 columns</p>\n",
       "</div>"
      ],
      "text/plain": [
       "       emd_cd        emd_nm spc_grd_cd spc_grd_info jibun buld_se_cd co_bd_cd  \\\n",
       "0  2629010600  부산광역시 남구 대연동          1           일반   6-5      13176        2   \n",
       "\n",
       "  co_bd_nm reg_cd reg_nm  ... str_cd    str_nm  mus_cd mus_cd_nm   bd_h  \\\n",
       "0    집합건축물      3    표제부  ...     21  철근콘크리트구조   14000      업무시설 29.400   \n",
       "\n",
       "  grd_flr_num ugr_flr_num  us_athr_date  bd_age  \\\n",
       "0           9           1    2002-07-26  20.000   \n",
       "\n",
       "                                            geometry  \n",
       "0  POLYGON ((391934.193 184199.828, 391927.662 18...  \n",
       "\n",
       "[1 rows x 23 columns]"
      ]
     },
     "execution_count": 71,
     "metadata": {},
     "output_type": "execute_result"
    }
   ],
   "source": [
    "# us_athr_date 데이터 타입 변경\n",
    "\n",
    "public_age_dropped['us_athr_date'] = pd.to_datetime(public_age_dropped['us_athr_date'], infer_datetime_format=True, errors='coerce')\n",
    "print(public_age_dropped.dtypes)\n",
    "public_age_dropped.head(1)"
   ]
  },
  {
   "cell_type": "code",
   "execution_count": 72,
   "id": "southwest-replication",
   "metadata": {
    "scrolled": false
   },
   "outputs": [
    {
     "data": {
      "text/html": [
       "<div>\n",
       "<style scoped>\n",
       "    .dataframe tbody tr th:only-of-type {\n",
       "        vertical-align: middle;\n",
       "    }\n",
       "\n",
       "    .dataframe tbody tr th {\n",
       "        vertical-align: top;\n",
       "    }\n",
       "\n",
       "    .dataframe thead th {\n",
       "        text-align: right;\n",
       "    }\n",
       "</style>\n",
       "<table border=\"1\" class=\"dataframe\">\n",
       "  <thead>\n",
       "    <tr style=\"text-align: right;\">\n",
       "      <th></th>\n",
       "      <th>emd_cd</th>\n",
       "      <th>emd_nm</th>\n",
       "      <th>spc_grd_cd</th>\n",
       "      <th>spc_grd_info</th>\n",
       "      <th>jibun</th>\n",
       "      <th>buld_se_cd</th>\n",
       "      <th>co_bd_cd</th>\n",
       "      <th>co_bd_nm</th>\n",
       "      <th>reg_cd</th>\n",
       "      <th>reg_nm</th>\n",
       "      <th>...</th>\n",
       "      <th>str_nm</th>\n",
       "      <th>mus_cd</th>\n",
       "      <th>mus_cd_nm</th>\n",
       "      <th>bd_h</th>\n",
       "      <th>grd_flr_num</th>\n",
       "      <th>ugr_flr_num</th>\n",
       "      <th>us_athr_date</th>\n",
       "      <th>bd_age</th>\n",
       "      <th>geometry</th>\n",
       "      <th>emd_jibun</th>\n",
       "    </tr>\n",
       "  </thead>\n",
       "  <tbody>\n",
       "    <tr>\n",
       "      <th>0</th>\n",
       "      <td>2629010600</td>\n",
       "      <td>부산광역시 남구 대연동</td>\n",
       "      <td>1</td>\n",
       "      <td>일반</td>\n",
       "      <td>6-5</td>\n",
       "      <td>13176</td>\n",
       "      <td>2</td>\n",
       "      <td>집합건축물</td>\n",
       "      <td>3</td>\n",
       "      <td>표제부</td>\n",
       "      <td>...</td>\n",
       "      <td>철근콘크리트구조</td>\n",
       "      <td>14000</td>\n",
       "      <td>업무시설</td>\n",
       "      <td>29.400</td>\n",
       "      <td>9</td>\n",
       "      <td>1</td>\n",
       "      <td>2002-07-26</td>\n",
       "      <td>20.000</td>\n",
       "      <td>POLYGON ((391934.193 184199.828, 391927.662 18...</td>\n",
       "      <td>2629010600(6-5)</td>\n",
       "    </tr>\n",
       "  </tbody>\n",
       "</table>\n",
       "<p>1 rows × 24 columns</p>\n",
       "</div>"
      ],
      "text/plain": [
       "       emd_cd        emd_nm spc_grd_cd spc_grd_info jibun buld_se_cd co_bd_cd  \\\n",
       "0  2629010600  부산광역시 남구 대연동          1           일반   6-5      13176        2   \n",
       "\n",
       "  co_bd_nm reg_cd reg_nm  ...    str_nm mus_cd  mus_cd_nm   bd_h grd_flr_num  \\\n",
       "0    집합건축물      3    표제부  ...  철근콘크리트구조  14000       업무시설 29.400           9   \n",
       "\n",
       "  ugr_flr_num us_athr_date  bd_age  \\\n",
       "0           1   2002-07-26  20.000   \n",
       "\n",
       "                                            geometry        emd_jibun  \n",
       "0  POLYGON ((391934.193 184199.828, 391927.662 18...  2629010600(6-5)  \n",
       "\n",
       "[1 rows x 24 columns]"
      ]
     },
     "execution_count": 72,
     "metadata": {},
     "output_type": "execute_result"
    }
   ],
   "source": [
    "# 공통된 코드 구성 (emd_jb)\n",
    "\n",
    "#public_age_dropped['emd_cd'][0] + '(' + public_age_dropped['jibun'][0] + ')'\n",
    "\n",
    "public_age_dropped['emd_jibun'] = public_age_dropped['emd_cd'].map(str) + \"(\" + public_age_dropped['jibun'] + \")\"\n",
    "\n",
    "public_age_dropped.head(1)"
   ]
  },
  {
   "cell_type": "code",
   "execution_count": 73,
   "id": "automated-sport",
   "metadata": {},
   "outputs": [],
   "source": [
    "# 컬럼 추가적으로 drop\n",
    "\n",
    "public_age_dropped_2 = public_age_dropped.drop(columns=['emd_cd','emd_nm','jibun'])"
   ]
  },
  {
   "cell_type": "code",
   "execution_count": 74,
   "id": "responsible-equity",
   "metadata": {},
   "outputs": [
    {
     "data": {
      "text/html": [
       "<div>\n",
       "<style scoped>\n",
       "    .dataframe tbody tr th:only-of-type {\n",
       "        vertical-align: middle;\n",
       "    }\n",
       "\n",
       "    .dataframe tbody tr th {\n",
       "        vertical-align: top;\n",
       "    }\n",
       "\n",
       "    .dataframe thead th {\n",
       "        text-align: right;\n",
       "    }\n",
       "</style>\n",
       "<table border=\"1\" class=\"dataframe\">\n",
       "  <thead>\n",
       "    <tr style=\"text-align: right;\">\n",
       "      <th></th>\n",
       "      <th>emd_jibun</th>\n",
       "      <th>spc_grd_cd</th>\n",
       "      <th>spc_grd_info</th>\n",
       "      <th>buld_se_cd</th>\n",
       "      <th>co_bd_cd</th>\n",
       "      <th>co_bd_nm</th>\n",
       "      <th>reg_cd</th>\n",
       "      <th>reg_nm</th>\n",
       "      <th>bd_nm</th>\n",
       "      <th>dong</th>\n",
       "      <th>...</th>\n",
       "      <th>str_cd</th>\n",
       "      <th>str_nm</th>\n",
       "      <th>mus_cd</th>\n",
       "      <th>mus_cd_nm</th>\n",
       "      <th>bd_h</th>\n",
       "      <th>grd_flr_num</th>\n",
       "      <th>ugr_flr_num</th>\n",
       "      <th>us_athr_date</th>\n",
       "      <th>bd_age</th>\n",
       "      <th>geometry</th>\n",
       "    </tr>\n",
       "  </thead>\n",
       "  <tbody>\n",
       "    <tr>\n",
       "      <th>0</th>\n",
       "      <td>2629010600(6-5)</td>\n",
       "      <td>1</td>\n",
       "      <td>일반</td>\n",
       "      <td>13176</td>\n",
       "      <td>2</td>\n",
       "      <td>집합건축물</td>\n",
       "      <td>3</td>\n",
       "      <td>표제부</td>\n",
       "      <td>레이듐오피스텔</td>\n",
       "      <td>None</td>\n",
       "      <td>...</td>\n",
       "      <td>21</td>\n",
       "      <td>철근콘크리트구조</td>\n",
       "      <td>14000</td>\n",
       "      <td>업무시설</td>\n",
       "      <td>29.400</td>\n",
       "      <td>9</td>\n",
       "      <td>1</td>\n",
       "      <td>2002-07-26</td>\n",
       "      <td>20.000</td>\n",
       "      <td>POLYGON ((391934.193 184199.828, 391927.662 18...</td>\n",
       "    </tr>\n",
       "    <tr>\n",
       "      <th>1</th>\n",
       "      <td>2629010600(6-8)</td>\n",
       "      <td>1</td>\n",
       "      <td>일반</td>\n",
       "      <td>100190333</td>\n",
       "      <td>2</td>\n",
       "      <td>집합건축물</td>\n",
       "      <td>3</td>\n",
       "      <td>표제부</td>\n",
       "      <td>대박세븐</td>\n",
       "      <td>None</td>\n",
       "      <td>...</td>\n",
       "      <td>21</td>\n",
       "      <td>철근콘크리트구조</td>\n",
       "      <td>02000</td>\n",
       "      <td>공동주택</td>\n",
       "      <td>17.400</td>\n",
       "      <td>6</td>\n",
       "      <td>0</td>\n",
       "      <td>2012-07-26</td>\n",
       "      <td>10.000</td>\n",
       "      <td>POLYGON ((391886.066 184178.783, 391885.197 18...</td>\n",
       "    </tr>\n",
       "    <tr>\n",
       "      <th>2</th>\n",
       "      <td>2629010600(6-10)</td>\n",
       "      <td>1</td>\n",
       "      <td>일반</td>\n",
       "      <td>3491</td>\n",
       "      <td>1</td>\n",
       "      <td>일반건축물</td>\n",
       "      <td>2</td>\n",
       "      <td>일반건축물대방</td>\n",
       "      <td>None</td>\n",
       "      <td>None</td>\n",
       "      <td>...</td>\n",
       "      <td>21</td>\n",
       "      <td>철근콘크리트구조</td>\n",
       "      <td>03000</td>\n",
       "      <td>제1종근린생활시설</td>\n",
       "      <td>0.000</td>\n",
       "      <td>5</td>\n",
       "      <td>1</td>\n",
       "      <td>1988-11-17</td>\n",
       "      <td>34.000</td>\n",
       "      <td>POLYGON ((391910.721 184198.435, 391904.682 18...</td>\n",
       "    </tr>\n",
       "    <tr>\n",
       "      <th>3</th>\n",
       "      <td>2629010600(6-27)</td>\n",
       "      <td>1</td>\n",
       "      <td>일반</td>\n",
       "      <td>13177</td>\n",
       "      <td>2</td>\n",
       "      <td>집합건축물</td>\n",
       "      <td>3</td>\n",
       "      <td>표제부</td>\n",
       "      <td>유니온 해오름</td>\n",
       "      <td>유니온 해오름</td>\n",
       "      <td>...</td>\n",
       "      <td>21</td>\n",
       "      <td>철근콘크리트구조</td>\n",
       "      <td>02000</td>\n",
       "      <td>공동주택</td>\n",
       "      <td>13.200</td>\n",
       "      <td>5</td>\n",
       "      <td>0</td>\n",
       "      <td>2004-02-26</td>\n",
       "      <td>18.000</td>\n",
       "      <td>POLYGON ((391878.562 184154.045, 391866.311 18...</td>\n",
       "    </tr>\n",
       "    <tr>\n",
       "      <th>4</th>\n",
       "      <td>2629010600(6-28)</td>\n",
       "      <td>1</td>\n",
       "      <td>일반</td>\n",
       "      <td>100192746</td>\n",
       "      <td>2</td>\n",
       "      <td>집합건축물</td>\n",
       "      <td>3</td>\n",
       "      <td>표제부</td>\n",
       "      <td>채송화뜰</td>\n",
       "      <td>None</td>\n",
       "      <td>...</td>\n",
       "      <td>21</td>\n",
       "      <td>철근콘크리트구조</td>\n",
       "      <td>02000</td>\n",
       "      <td>공동주택</td>\n",
       "      <td>15.800</td>\n",
       "      <td>6</td>\n",
       "      <td>0</td>\n",
       "      <td>2013-02-28</td>\n",
       "      <td>9.000</td>\n",
       "      <td>POLYGON ((391887.775 184164.916, 391881.596 18...</td>\n",
       "    </tr>\n",
       "  </tbody>\n",
       "</table>\n",
       "<p>5 rows × 21 columns</p>\n",
       "</div>"
      ],
      "text/plain": [
       "          emd_jibun spc_grd_cd spc_grd_info buld_se_cd co_bd_cd co_bd_nm  \\\n",
       "0   2629010600(6-5)          1           일반      13176        2    집합건축물   \n",
       "1   2629010600(6-8)          1           일반  100190333        2    집합건축물   \n",
       "2  2629010600(6-10)          1           일반       3491        1    일반건축물   \n",
       "3  2629010600(6-27)          1           일반      13177        2    집합건축물   \n",
       "4  2629010600(6-28)          1           일반  100192746        2    집합건축물   \n",
       "\n",
       "  reg_cd   reg_nm    bd_nm     dong  ...  str_cd    str_nm mus_cd  mus_cd_nm  \\\n",
       "0      3      표제부  레이듐오피스텔     None  ...      21  철근콘크리트구조  14000       업무시설   \n",
       "1      3      표제부     대박세븐     None  ...      21  철근콘크리트구조  02000       공동주택   \n",
       "2      2  일반건축물대방     None     None  ...      21  철근콘크리트구조  03000  제1종근린생활시설   \n",
       "3      3      표제부  유니온 해오름  유니온 해오름  ...      21  철근콘크리트구조  02000       공동주택   \n",
       "4      3      표제부     채송화뜰     None  ...      21  철근콘크리트구조  02000       공동주택   \n",
       "\n",
       "    bd_h  grd_flr_num  ugr_flr_num  us_athr_date bd_age  \\\n",
       "0 29.400            9            1    2002-07-26 20.000   \n",
       "1 17.400            6            0    2012-07-26 10.000   \n",
       "2  0.000            5            1    1988-11-17 34.000   \n",
       "3 13.200            5            0    2004-02-26 18.000   \n",
       "4 15.800            6            0    2013-02-28  9.000   \n",
       "\n",
       "                                            geometry  \n",
       "0  POLYGON ((391934.193 184199.828, 391927.662 18...  \n",
       "1  POLYGON ((391886.066 184178.783, 391885.197 18...  \n",
       "2  POLYGON ((391910.721 184198.435, 391904.682 18...  \n",
       "3  POLYGON ((391878.562 184154.045, 391866.311 18...  \n",
       "4  POLYGON ((391887.775 184164.916, 391881.596 18...  \n",
       "\n",
       "[5 rows x 21 columns]"
      ]
     },
     "execution_count": 74,
     "metadata": {},
     "output_type": "execute_result"
    }
   ],
   "source": [
    "# 컬럼 재배치\n",
    "\n",
    "col_1 = public_age_dropped_2.columns[-1:].to_list()\n",
    "col_2 = public_age_dropped_2.columns[:-1].to_list()\n",
    "new_col = col_1 + col_2\n",
    "pb_age = public_age_dropped_2[new_col]\n",
    "pb_age.head()"
   ]
  },
  {
   "cell_type": "code",
   "execution_count": 75,
   "id": "standing-technical",
   "metadata": {},
   "outputs": [],
   "source": [
    "#  공공데이터_건물연령정보 저장\n",
    "pb_age.to_file(input_path.joinpath('공공데이터_건물연령정보.geojson'), driver='GeoJSON')"
   ]
  },
  {
   "cell_type": "markdown",
   "id": "handed-needle",
   "metadata": {},
   "source": [
    "---"
   ]
  },
  {
   "cell_type": "markdown",
   "id": "freelance-calibration",
   "metadata": {},
   "source": [
    "### 공공데이터 불러오기 (개별공시지가)"
   ]
  },
  {
   "cell_type": "code",
   "execution_count": 76,
   "id": "civic-threshold",
   "metadata": {},
   "outputs": [
    {
     "data": {
      "text/html": [
       "<div>\n",
       "<style scoped>\n",
       "    .dataframe tbody tr th:only-of-type {\n",
       "        vertical-align: middle;\n",
       "    }\n",
       "\n",
       "    .dataframe tbody tr th {\n",
       "        vertical-align: top;\n",
       "    }\n",
       "\n",
       "    .dataframe thead th {\n",
       "        text-align: right;\n",
       "    }\n",
       "</style>\n",
       "<table border=\"1\" class=\"dataframe\">\n",
       "  <thead>\n",
       "    <tr style=\"text-align: right;\">\n",
       "      <th></th>\n",
       "      <th>A0</th>\n",
       "      <th>A1</th>\n",
       "      <th>A2</th>\n",
       "      <th>A3</th>\n",
       "      <th>A4</th>\n",
       "      <th>A5</th>\n",
       "      <th>A6</th>\n",
       "      <th>A7</th>\n",
       "      <th>A8</th>\n",
       "      <th>A9</th>\n",
       "      <th>A10</th>\n",
       "      <th>A11</th>\n",
       "      <th>A12</th>\n",
       "      <th>A13</th>\n",
       "      <th>A14</th>\n",
       "      <th>geometry</th>\n",
       "    </tr>\n",
       "  </thead>\n",
       "  <tbody>\n",
       "    <tr>\n",
       "      <th>0</th>\n",
       "      <td>2614010300102540025</td>\n",
       "      <td>2614010300</td>\n",
       "      <td>부산광역시 서구 동대신동3가</td>\n",
       "      <td>1</td>\n",
       "      <td>일반</td>\n",
       "      <td>254-25</td>\n",
       "      <td>254-25대</td>\n",
       "      <td>2021</td>\n",
       "      <td>01</td>\n",
       "      <td>632400</td>\n",
       "      <td>0</td>\n",
       "      <td>None</td>\n",
       "      <td>None</td>\n",
       "      <td>0.000</td>\n",
       "      <td>2021-08-10</td>\n",
       "      <td>POLYGON ((384088.172 181547.528, 384094.391 18...</td>\n",
       "    </tr>\n",
       "    <tr>\n",
       "      <th>1</th>\n",
       "      <td>2614010300102580191</td>\n",
       "      <td>2614010300</td>\n",
       "      <td>부산광역시 서구 동대신동3가</td>\n",
       "      <td>1</td>\n",
       "      <td>일반</td>\n",
       "      <td>258-191</td>\n",
       "      <td>258-191대</td>\n",
       "      <td>2021</td>\n",
       "      <td>01</td>\n",
       "      <td>831600</td>\n",
       "      <td>0</td>\n",
       "      <td>None</td>\n",
       "      <td>None</td>\n",
       "      <td>0.000</td>\n",
       "      <td>2021-08-10</td>\n",
       "      <td>POLYGON ((384245.172 181550.040, 384247.105 18...</td>\n",
       "    </tr>\n",
       "    <tr>\n",
       "      <th>2</th>\n",
       "      <td>2614010300102580062</td>\n",
       "      <td>2614010300</td>\n",
       "      <td>부산광역시 서구 동대신동3가</td>\n",
       "      <td>1</td>\n",
       "      <td>일반</td>\n",
       "      <td>258-62</td>\n",
       "      <td>258-62대</td>\n",
       "      <td>2021</td>\n",
       "      <td>01</td>\n",
       "      <td>300600</td>\n",
       "      <td>0</td>\n",
       "      <td>None</td>\n",
       "      <td>None</td>\n",
       "      <td>0.000</td>\n",
       "      <td>2021-08-10</td>\n",
       "      <td>POLYGON ((384244.841 181548.518, 384249.906 18...</td>\n",
       "    </tr>\n",
       "    <tr>\n",
       "      <th>3</th>\n",
       "      <td>2614010300102540109</td>\n",
       "      <td>2614010300</td>\n",
       "      <td>부산광역시 서구 동대신동3가</td>\n",
       "      <td>1</td>\n",
       "      <td>일반</td>\n",
       "      <td>254-109</td>\n",
       "      <td>254-109도</td>\n",
       "      <td>2021</td>\n",
       "      <td>01</td>\n",
       "      <td>204600</td>\n",
       "      <td>0</td>\n",
       "      <td>None</td>\n",
       "      <td>None</td>\n",
       "      <td>0.000</td>\n",
       "      <td>2021-08-10</td>\n",
       "      <td>POLYGON ((384115.243 181547.764, 384119.151 18...</td>\n",
       "    </tr>\n",
       "    <tr>\n",
       "      <th>4</th>\n",
       "      <td>2614010300102580020</td>\n",
       "      <td>2614010300</td>\n",
       "      <td>부산광역시 서구 동대신동3가</td>\n",
       "      <td>1</td>\n",
       "      <td>일반</td>\n",
       "      <td>258-20</td>\n",
       "      <td>258-20대</td>\n",
       "      <td>2021</td>\n",
       "      <td>01</td>\n",
       "      <td>831600</td>\n",
       "      <td>0</td>\n",
       "      <td>None</td>\n",
       "      <td>None</td>\n",
       "      <td>0.000</td>\n",
       "      <td>2021-08-10</td>\n",
       "      <td>POLYGON ((384252.049 181550.337, 384256.710 18...</td>\n",
       "    </tr>\n",
       "  </tbody>\n",
       "</table>\n",
       "</div>"
      ],
      "text/plain": [
       "                    A0          A1               A2 A3  A4       A5        A6  \\\n",
       "0  2614010300102540025  2614010300  부산광역시 서구 동대신동3가  1  일반   254-25   254-25대   \n",
       "1  2614010300102580191  2614010300  부산광역시 서구 동대신동3가  1  일반  258-191  258-191대   \n",
       "2  2614010300102580062  2614010300  부산광역시 서구 동대신동3가  1  일반   258-62   258-62대   \n",
       "3  2614010300102540109  2614010300  부산광역시 서구 동대신동3가  1  일반  254-109  254-109도   \n",
       "4  2614010300102580020  2614010300  부산광역시 서구 동대신동3가  1  일반   258-20   258-20대   \n",
       "\n",
       "     A7  A8      A9 A10   A11   A12   A13         A14  \\\n",
       "0  2021  01  632400   0  None  None 0.000  2021-08-10   \n",
       "1  2021  01  831600   0  None  None 0.000  2021-08-10   \n",
       "2  2021  01  300600   0  None  None 0.000  2021-08-10   \n",
       "3  2021  01  204600   0  None  None 0.000  2021-08-10   \n",
       "4  2021  01  831600   0  None  None 0.000  2021-08-10   \n",
       "\n",
       "                                            geometry  \n",
       "0  POLYGON ((384088.172 181547.528, 384094.391 18...  \n",
       "1  POLYGON ((384245.172 181550.040, 384247.105 18...  \n",
       "2  POLYGON ((384244.841 181548.518, 384249.906 18...  \n",
       "3  POLYGON ((384115.243 181547.764, 384119.151 18...  \n",
       "4  POLYGON ((384252.049 181550.337, 384256.710 18...  "
      ]
     },
     "execution_count": 76,
     "metadata": {},
     "output_type": "execute_result"
    }
   ],
   "source": [
    "public_price = gpd.read_file(input_path.joinpath('개별공시지가정보_(210813기준).shp'), encoding='CP949') # 부산광역시 기준 --- 남구만 추출할 필요 있음\n",
    "public_price.head()"
   ]
  },
  {
   "cell_type": "markdown",
   "id": "detected-colleague",
   "metadata": {},
   "source": [
    "#### 컬럼별 내용\n",
    "\n",
    "\n",
    "* A0 고유번호 각 필지를 서로 구별하기 위하여 필지마다 붙이는 고유한 번호\n",
    "\n",
    "* A1 법정동코드 토지가 소재한 행정구역코드(법정동코드) 10자리\n",
    "\n",
    "* A2 법정동명 토지가 소재한 소재지의 행정구역 명칭(법정동명)\n",
    "\n",
    "* A3 대장구분코드 토지가 위치한 토지의 대장 구분 (토지(임야)대장구분)코드\n",
    "\n",
    "* A4 대장구분명 토지가 위치한 토지의 대장 구분 (토지(임야)대장구분)\n",
    "\n",
    "* A5 지번 필지에 부여하여 지적공부에 등록한 번호\n",
    "\n",
    "* A6 지번지목부호 지번지목부호\n",
    "\n",
    "* A7 기준연도 개별공시지가의 기준연도\n",
    "\n",
    "* A8 기준월 개별공시지가의 기준월\n",
    "\n",
    "* A9 개별공시지가 대한민국의 건설교통부가 토지의 가격을 조사, 감정을 해 공시함. 개별토지에한 공시 가격(원/㎡)\n",
    "\n",
    "* A10 표준지여부 대상 토지를 평가할 때, 평가의 기준으로 삼는 필지의 여부\n",
    "\n",
    "* A11 지목코드 지목코드\n",
    "\n",
    "* A12 지목 지목\n",
    "\n",
    "* A13 토지면적 토지면적(㎡)\n",
    "\n",
    "* A14 데이터 작성 기준일자"
   ]
  },
  {
   "cell_type": "code",
   "execution_count": 77,
   "id": "tribal-merchant",
   "metadata": {},
   "outputs": [
    {
     "name": "stdout",
     "output_type": "stream",
     "text": [
      "['1' '2' '6' '4']\n",
      "['일반' '산' '블럭지번(롯트세분)' '가지번(부번세분)']\n",
      "1    687852\n",
      "2     33337\n",
      "6       221\n",
      "4        12\n",
      "Name: A3, dtype: int64\n"
     ]
    }
   ],
   "source": [
    "print(public_price['A3'].unique(), public_price['A4'].unique(), public_price['A3'].value_counts(), sep='\\n') # 1:일반, 2: 산,  4: 가지번(부번세분), 6: 블럭지번(롯트세분),"
   ]
  },
  {
   "cell_type": "markdown",
   "id": "unlimited-closer",
   "metadata": {},
   "source": [
    "##### Infos\n",
    "\n",
    "* 블럭지번(롯트세분): 아직 지번/지목이 지정되지 않은 상태에서 임시적으로 주어지는 부여되는 번호 === 분석에서 제외할 수 있음 (현재 이미 개발 중이므로)\n",
    "\n",
    "* 가지번(부번세분): '가지번'의 개념에 대한 명확한 이해는 실패\n",
    "\n",
    "  - 하지만 해당 토지의 지목이 '답' (물을 상시적으로 사용하는 땅)인 것으로 보아 분석에서 제외하는 것이 나을 것으로 예상 됨"
   ]
  },
  {
   "cell_type": "code",
   "execution_count": 78,
   "id": "musical-outline",
   "metadata": {},
   "outputs": [
    {
     "name": "stdout",
     "output_type": "stream",
     "text": [
      "[None '08' '05' '01' '10' '09' '02' '04' '28' '22' '11' '15' '13' '12'\n",
      " '25' '24' '21' '06' '17' '03' '23' '27']\n",
      "[None '대' '임야' '전' '학교용지' '공장용지' '답' '목장용지' '잡종지' '공원' '주차장' '철도용지' '창고용지'\n",
      " '주유소용지' '종교용지' '유원지' '수도용지' '광천지' '하천' '과수원' '체육용지' '묘지']\n"
     ]
    }
   ],
   "source": [
    "print(public_price['A11'].unique(), public_price['A12'].unique(), sep='\\n')"
   ]
  },
  {
   "cell_type": "code",
   "execution_count": 79,
   "id": "fuzzy-strand",
   "metadata": {},
   "outputs": [
    {
     "data": {
      "text/plain": [
       "array(['2021', None], dtype=object)"
      ]
     },
     "execution_count": 79,
     "metadata": {},
     "output_type": "execute_result"
    }
   ],
   "source": [
    "public_price['A7'].unique()"
   ]
  },
  {
   "cell_type": "code",
   "execution_count": 80,
   "id": "sublime-belgium",
   "metadata": {},
   "outputs": [
    {
     "data": {
      "text/plain": [
       "array(['01', None], dtype=object)"
      ]
     },
     "execution_count": 80,
     "metadata": {},
     "output_type": "execute_result"
    }
   ],
   "source": [
    "public_price['A8'].unique()"
   ]
  },
  {
   "cell_type": "code",
   "execution_count": 81,
   "id": "impressed-jumping",
   "metadata": {},
   "outputs": [
    {
     "name": "stdout",
     "output_type": "stream",
     "text": [
      "['2021-01' nan]\n",
      "20612\n"
     ]
    }
   ],
   "source": [
    "# 새로운 컬럼 추가 (기준연월: std_date)\n",
    "\n",
    "public_price['A7'] = public_price['A7'].replace('None', np.nan)\n",
    "public_price['A8'] = public_price['A8'].replace('None', np.nan)\n",
    "\n",
    "public_price['std_date'] = public_price['A7'].map(str) + '-' + public_price['A8'].map(str)\n",
    "public_price['std_date'] = public_price['std_date'].replace('None-None', np.nan)\n",
    "\n",
    "print(public_price['std_date'].unique(), public_price['std_date'].isnull().sum(), sep='\\n')"
   ]
  },
  {
   "cell_type": "code",
   "execution_count": 82,
   "id": "broken-james",
   "metadata": {},
   "outputs": [],
   "source": [
    "# 불필요한 컬럼 제거\n",
    "\n",
    "public_price_dropped = public_price.drop(columns=['A0','A7','A8'])\n",
    "\n",
    "# 부산광역시 남구 데이터만 남기기\n",
    "\n",
    "is_namgu = public_price_dropped['A2'].str.contains('남구')\n",
    "public_price_namgu = public_price_dropped[is_namgu]"
   ]
  },
  {
   "cell_type": "code",
   "execution_count": 83,
   "id": "beneficial-insight",
   "metadata": {},
   "outputs": [
    {
     "data": {
      "text/html": [
       "<div>\n",
       "<style scoped>\n",
       "    .dataframe tbody tr th:only-of-type {\n",
       "        vertical-align: middle;\n",
       "    }\n",
       "\n",
       "    .dataframe tbody tr th {\n",
       "        vertical-align: top;\n",
       "    }\n",
       "\n",
       "    .dataframe thead th {\n",
       "        text-align: right;\n",
       "    }\n",
       "</style>\n",
       "<table border=\"1\" class=\"dataframe\">\n",
       "  <thead>\n",
       "    <tr style=\"text-align: right;\">\n",
       "      <th></th>\n",
       "      <th>A1</th>\n",
       "      <th>A2</th>\n",
       "      <th>A3</th>\n",
       "      <th>A4</th>\n",
       "      <th>A5</th>\n",
       "      <th>A6</th>\n",
       "      <th>A9</th>\n",
       "      <th>A10</th>\n",
       "      <th>A11</th>\n",
       "      <th>A12</th>\n",
       "      <th>A13</th>\n",
       "      <th>A14</th>\n",
       "      <th>geometry</th>\n",
       "      <th>std_date</th>\n",
       "    </tr>\n",
       "  </thead>\n",
       "  <tbody>\n",
       "    <tr>\n",
       "      <th>28870</th>\n",
       "      <td>2629010900</td>\n",
       "      <td>부산광역시 남구 문현동</td>\n",
       "      <td>1</td>\n",
       "      <td>일반</td>\n",
       "      <td>332-46</td>\n",
       "      <td>332-46도</td>\n",
       "      <td>11200</td>\n",
       "      <td>0</td>\n",
       "      <td>None</td>\n",
       "      <td>None</td>\n",
       "      <td>0.000</td>\n",
       "      <td>2021-08-10</td>\n",
       "      <td>POLYGON ((389142.963 183158.099, 389137.662 18...</td>\n",
       "      <td>2021-01</td>\n",
       "    </tr>\n",
       "  </tbody>\n",
       "</table>\n",
       "</div>"
      ],
      "text/plain": [
       "               A1            A2 A3  A4      A5       A6     A9 A10   A11  \\\n",
       "28870  2629010900  부산광역시 남구 문현동  1  일반  332-46  332-46도  11200   0  None   \n",
       "\n",
       "        A12   A13         A14  \\\n",
       "28870  None 0.000  2021-08-10   \n",
       "\n",
       "                                                geometry std_date  \n",
       "28870  POLYGON ((389142.963 183158.099, 389137.662 18...  2021-01  "
      ]
     },
     "execution_count": 83,
     "metadata": {},
     "output_type": "execute_result"
    }
   ],
   "source": [
    "public_price_namgu.head(1)"
   ]
  },
  {
   "cell_type": "code",
   "execution_count": 84,
   "id": "connected-spray",
   "metadata": {},
   "outputs": [
    {
     "data": {
      "text/html": [
       "<div>\n",
       "<style scoped>\n",
       "    .dataframe tbody tr th:only-of-type {\n",
       "        vertical-align: middle;\n",
       "    }\n",
       "\n",
       "    .dataframe tbody tr th {\n",
       "        vertical-align: top;\n",
       "    }\n",
       "\n",
       "    .dataframe thead th {\n",
       "        text-align: right;\n",
       "    }\n",
       "</style>\n",
       "<table border=\"1\" class=\"dataframe\">\n",
       "  <thead>\n",
       "    <tr style=\"text-align: right;\">\n",
       "      <th></th>\n",
       "      <th>A1</th>\n",
       "      <th>A2</th>\n",
       "      <th>A3</th>\n",
       "      <th>A4</th>\n",
       "      <th>A5</th>\n",
       "      <th>A6</th>\n",
       "      <th>A9</th>\n",
       "      <th>A10</th>\n",
       "      <th>A11</th>\n",
       "      <th>A12</th>\n",
       "      <th>A13</th>\n",
       "      <th>A14</th>\n",
       "      <th>geometry</th>\n",
       "      <th>std_date</th>\n",
       "      <th>emd_jibun</th>\n",
       "    </tr>\n",
       "  </thead>\n",
       "  <tbody>\n",
       "    <tr>\n",
       "      <th>28870</th>\n",
       "      <td>2629010900</td>\n",
       "      <td>부산광역시 남구 문현동</td>\n",
       "      <td>1</td>\n",
       "      <td>일반</td>\n",
       "      <td>332-46</td>\n",
       "      <td>332-46도</td>\n",
       "      <td>11200</td>\n",
       "      <td>0</td>\n",
       "      <td>None</td>\n",
       "      <td>None</td>\n",
       "      <td>0.000</td>\n",
       "      <td>2021-08-10</td>\n",
       "      <td>POLYGON ((389142.963 183158.099, 389137.662 18...</td>\n",
       "      <td>2021-01</td>\n",
       "      <td>2629010900(332-46)</td>\n",
       "    </tr>\n",
       "  </tbody>\n",
       "</table>\n",
       "</div>"
      ],
      "text/plain": [
       "               A1            A2 A3  A4      A5       A6     A9 A10   A11  \\\n",
       "28870  2629010900  부산광역시 남구 문현동  1  일반  332-46  332-46도  11200   0  None   \n",
       "\n",
       "        A12   A13         A14  \\\n",
       "28870  None 0.000  2021-08-10   \n",
       "\n",
       "                                                geometry std_date  \\\n",
       "28870  POLYGON ((389142.963 183158.099, 389137.662 18...  2021-01   \n",
       "\n",
       "                emd_jibun  \n",
       "28870  2629010900(332-46)  "
      ]
     },
     "execution_count": 84,
     "metadata": {},
     "output_type": "execute_result"
    }
   ],
   "source": [
    "# 새로운 컬럼 생성\n",
    "\n",
    "public_price_namgu['emd_jibun'] = public_price_namgu['A1'].map(str) + \"(\" + public_price_namgu['A5'] + \")\"\n",
    "\n",
    "public_price_namgu.head(1)"
   ]
  },
  {
   "cell_type": "code",
   "execution_count": 85,
   "id": "coastal-species",
   "metadata": {},
   "outputs": [],
   "source": [
    "# 컬럼 추가적으로 drop\n",
    "\n",
    "public_price_namgu_2 = public_price_namgu.drop(columns=['A1','A2','A5'])"
   ]
  },
  {
   "cell_type": "code",
   "execution_count": 86,
   "id": "olympic-intellectual",
   "metadata": {},
   "outputs": [
    {
     "data": {
      "text/html": [
       "<div>\n",
       "<style scoped>\n",
       "    .dataframe tbody tr th:only-of-type {\n",
       "        vertical-align: middle;\n",
       "    }\n",
       "\n",
       "    .dataframe tbody tr th {\n",
       "        vertical-align: top;\n",
       "    }\n",
       "\n",
       "    .dataframe thead th {\n",
       "        text-align: right;\n",
       "    }\n",
       "</style>\n",
       "<table border=\"1\" class=\"dataframe\">\n",
       "  <thead>\n",
       "    <tr style=\"text-align: right;\">\n",
       "      <th></th>\n",
       "      <th>A3</th>\n",
       "      <th>A4</th>\n",
       "      <th>A6</th>\n",
       "      <th>A9</th>\n",
       "      <th>A10</th>\n",
       "      <th>A11</th>\n",
       "      <th>A12</th>\n",
       "      <th>A13</th>\n",
       "      <th>A14</th>\n",
       "      <th>geometry</th>\n",
       "      <th>std_date</th>\n",
       "      <th>emd_jibun</th>\n",
       "    </tr>\n",
       "  </thead>\n",
       "  <tbody>\n",
       "    <tr>\n",
       "      <th>28870</th>\n",
       "      <td>1</td>\n",
       "      <td>일반</td>\n",
       "      <td>332-46도</td>\n",
       "      <td>11200</td>\n",
       "      <td>0</td>\n",
       "      <td>None</td>\n",
       "      <td>None</td>\n",
       "      <td>0.000</td>\n",
       "      <td>2021-08-10</td>\n",
       "      <td>POLYGON ((389142.963 183158.099, 389137.662 18...</td>\n",
       "      <td>2021-01</td>\n",
       "      <td>2629010900(332-46)</td>\n",
       "    </tr>\n",
       "  </tbody>\n",
       "</table>\n",
       "</div>"
      ],
      "text/plain": [
       "      A3  A4       A6     A9 A10   A11   A12   A13         A14  \\\n",
       "28870  1  일반  332-46도  11200   0  None  None 0.000  2021-08-10   \n",
       "\n",
       "                                                geometry std_date  \\\n",
       "28870  POLYGON ((389142.963 183158.099, 389137.662 18...  2021-01   \n",
       "\n",
       "                emd_jibun  \n",
       "28870  2629010900(332-46)  "
      ]
     },
     "execution_count": 86,
     "metadata": {},
     "output_type": "execute_result"
    }
   ],
   "source": [
    "public_price_namgu_2.head(1)"
   ]
  },
  {
   "cell_type": "code",
   "execution_count": 87,
   "id": "monthly-thirty",
   "metadata": {},
   "outputs": [
    {
     "name": "stdout",
     "output_type": "stream",
     "text": [
      "Index(['reg_cd', 'reg_nm', 'jimok', 'lnd_prc', 'stndrd_yn', 'jimok_cd',\n",
      "       'jimok_nm', 'lnd_area', 'date', 'geometry', 'std_date', 'emd_jibun'],\n",
      "      dtype='object')\n"
     ]
    }
   ],
   "source": [
    "# 컬럼명 변경\n",
    "\n",
    "public_price_namgu_2.columns = ['reg_cd','reg_nm','jimok','lnd_prc','stndrd_yn','jimok_cd','jimok_nm','lnd_area','date','geometry','std_date','emd_jibun']\n",
    "print(public_price_namgu_2.columns)"
   ]
  },
  {
   "cell_type": "code",
   "execution_count": 88,
   "id": "acceptable-tokyo",
   "metadata": {},
   "outputs": [
    {
     "data": {
      "text/html": [
       "<div>\n",
       "<style scoped>\n",
       "    .dataframe tbody tr th:only-of-type {\n",
       "        vertical-align: middle;\n",
       "    }\n",
       "\n",
       "    .dataframe tbody tr th {\n",
       "        vertical-align: top;\n",
       "    }\n",
       "\n",
       "    .dataframe thead th {\n",
       "        text-align: right;\n",
       "    }\n",
       "</style>\n",
       "<table border=\"1\" class=\"dataframe\">\n",
       "  <thead>\n",
       "    <tr style=\"text-align: right;\">\n",
       "      <th></th>\n",
       "      <th>emd_jibun</th>\n",
       "      <th>std_date</th>\n",
       "      <th>reg_cd</th>\n",
       "      <th>reg_nm</th>\n",
       "      <th>jimok</th>\n",
       "      <th>lnd_prc</th>\n",
       "      <th>stndrd_yn</th>\n",
       "      <th>jimok_cd</th>\n",
       "      <th>jimok_nm</th>\n",
       "      <th>lnd_area</th>\n",
       "      <th>date</th>\n",
       "      <th>geometry</th>\n",
       "    </tr>\n",
       "  </thead>\n",
       "  <tbody>\n",
       "    <tr>\n",
       "      <th>28870</th>\n",
       "      <td>2629010900(332-46)</td>\n",
       "      <td>2021-01</td>\n",
       "      <td>1</td>\n",
       "      <td>일반</td>\n",
       "      <td>332-46도</td>\n",
       "      <td>11200</td>\n",
       "      <td>0</td>\n",
       "      <td>None</td>\n",
       "      <td>None</td>\n",
       "      <td>0.000</td>\n",
       "      <td>2021-08-10</td>\n",
       "      <td>POLYGON ((389142.963 183158.099, 389137.662 18...</td>\n",
       "    </tr>\n",
       "  </tbody>\n",
       "</table>\n",
       "</div>"
      ],
      "text/plain": [
       "                emd_jibun std_date reg_cd reg_nm    jimok  lnd_prc stndrd_yn  \\\n",
       "28870  2629010900(332-46)  2021-01      1     일반  332-46도    11200         0   \n",
       "\n",
       "      jimok_cd jimok_nm  lnd_area        date  \\\n",
       "28870     None     None     0.000  2021-08-10   \n",
       "\n",
       "                                                geometry  \n",
       "28870  POLYGON ((389142.963 183158.099, 389137.662 18...  "
      ]
     },
     "execution_count": 88,
     "metadata": {},
     "output_type": "execute_result"
    }
   ],
   "source": [
    "# 컬럼 재배치\n",
    "\n",
    "col_1 = public_price_namgu_2.columns[-2:][::-1].to_list()\n",
    "col_2 = public_price_namgu_2.columns[:-2].to_list()\n",
    "new_col = col_1 + col_2\n",
    "pb_prc = public_price_namgu_2[new_col]\n",
    "pb_prc.head(1)"
   ]
  },
  {
   "cell_type": "code",
   "execution_count": 89,
   "id": "ignored-league",
   "metadata": {},
   "outputs": [
    {
     "data": {
      "text/plain": [
       "emd_jibun        0\n",
       "std_date       239\n",
       "reg_cd           0\n",
       "reg_nm           0\n",
       "jimok            0\n",
       "lnd_prc          0\n",
       "stndrd_yn      239\n",
       "jimok_cd     44561\n",
       "jimok_nm     44561\n",
       "lnd_area         0\n",
       "date             0\n",
       "geometry         0\n",
       "dtype: int64"
      ]
     },
     "execution_count": 89,
     "metadata": {},
     "output_type": "execute_result"
    }
   ],
   "source": [
    "pb_prc.isnull().sum()"
   ]
  },
  {
   "cell_type": "code",
   "execution_count": 90,
   "id": "spatial-accused",
   "metadata": {},
   "outputs": [],
   "source": [
    "pb_prc.to_file(input_path.joinpath('공공데이터_개별공시지가.geojson'), driver='GeoJSON')"
   ]
  },
  {
   "cell_type": "markdown",
   "id": "provincial-steam",
   "metadata": {},
   "source": [
    "---"
   ]
  },
  {
   "cell_type": "markdown",
   "id": "impaired-macintosh",
   "metadata": {},
   "source": [
    "### 공공데이터 불러오기 (표준공시지가정보)\n",
    "\n",
    "* 각종 지형관련 정보를 활용\n",
    "    \n",
    "    - 그러므로 가격 정보 및 연도 등은 제외하도록 한다"
   ]
  },
  {
   "cell_type": "code",
   "execution_count": 91,
   "id": "closing-liberty",
   "metadata": {},
   "outputs": [
    {
     "name": "stdout",
     "output_type": "stream",
     "text": [
      "Index(['고유번호', '법정동코드', '법정동명', '특수지구분코드', '특수지구분명', '지번', '표준지일련번호', '기준연도',\n",
      "       '사업지구면적', '지목코드', '지목', '실제지목코드', '실제지목', '토지면적', '용도지역코드1', '용도지역명1',\n",
      "       '용도지역코드2', '용도지역명2', '용도지구코드1', '용도지구명1', '용도지구코드2', '용도지구명2', '저촉율',\n",
      "       '토지이용상황코드', '토지이용상황', '지형높이코드', '지형높이', '지형형상코드', '지형형상', '도로측면코드',\n",
      "       '도로측면', '도로거리코드', '도로거리', '공시지가', '표준지소유구분코드', '표준지소유구분명', '소유형태코드',\n",
      "       '소유형태명', '데이터기준일자'],\n",
      "      dtype='object')\n"
     ]
    },
    {
     "data": {
      "text/html": [
       "<div>\n",
       "<style scoped>\n",
       "    .dataframe tbody tr th:only-of-type {\n",
       "        vertical-align: middle;\n",
       "    }\n",
       "\n",
       "    .dataframe tbody tr th {\n",
       "        vertical-align: top;\n",
       "    }\n",
       "\n",
       "    .dataframe thead th {\n",
       "        text-align: right;\n",
       "    }\n",
       "</style>\n",
       "<table border=\"1\" class=\"dataframe\">\n",
       "  <thead>\n",
       "    <tr style=\"text-align: right;\">\n",
       "      <th></th>\n",
       "      <th>고유번호</th>\n",
       "      <th>법정동코드</th>\n",
       "      <th>법정동명</th>\n",
       "      <th>특수지구분코드</th>\n",
       "      <th>특수지구분명</th>\n",
       "      <th>지번</th>\n",
       "      <th>표준지일련번호</th>\n",
       "      <th>기준연도</th>\n",
       "      <th>사업지구면적</th>\n",
       "      <th>지목코드</th>\n",
       "      <th>...</th>\n",
       "      <th>도로측면코드</th>\n",
       "      <th>도로측면</th>\n",
       "      <th>도로거리코드</th>\n",
       "      <th>도로거리</th>\n",
       "      <th>공시지가</th>\n",
       "      <th>표준지소유구분코드</th>\n",
       "      <th>표준지소유구분명</th>\n",
       "      <th>소유형태코드</th>\n",
       "      <th>소유형태명</th>\n",
       "      <th>데이터기준일자</th>\n",
       "    </tr>\n",
       "  </thead>\n",
       "  <tbody>\n",
       "    <tr>\n",
       "      <th>0</th>\n",
       "      <td>2611010100100020130</td>\n",
       "      <td>2611010100</td>\n",
       "      <td>부산광역시 중구 영주동</td>\n",
       "      <td>1</td>\n",
       "      <td>일반</td>\n",
       "      <td>2-130</td>\n",
       "      <td>1</td>\n",
       "      <td>2012</td>\n",
       "      <td>0</td>\n",
       "      <td>8</td>\n",
       "      <td>...</td>\n",
       "      <td>10</td>\n",
       "      <td>세로한면(불)</td>\n",
       "      <td>0</td>\n",
       "      <td>지정되지않음</td>\n",
       "      <td>555000</td>\n",
       "      <td>nan</td>\n",
       "      <td>nan</td>\n",
       "      <td>0</td>\n",
       "      <td>지정되지않음</td>\n",
       "      <td>2016-11-08</td>\n",
       "    </tr>\n",
       "    <tr>\n",
       "      <th>1</th>\n",
       "      <td>2611010100100020130</td>\n",
       "      <td>2611010100</td>\n",
       "      <td>부산광역시 중구 영주동</td>\n",
       "      <td>1</td>\n",
       "      <td>일반</td>\n",
       "      <td>2-130</td>\n",
       "      <td>1</td>\n",
       "      <td>2013</td>\n",
       "      <td>0</td>\n",
       "      <td>8</td>\n",
       "      <td>...</td>\n",
       "      <td>10</td>\n",
       "      <td>세로한면(불)</td>\n",
       "      <td>0</td>\n",
       "      <td>지정되지않음</td>\n",
       "      <td>570000</td>\n",
       "      <td>nan</td>\n",
       "      <td>nan</td>\n",
       "      <td>0</td>\n",
       "      <td>지정되지않음</td>\n",
       "      <td>2016-11-08</td>\n",
       "    </tr>\n",
       "  </tbody>\n",
       "</table>\n",
       "<p>2 rows × 39 columns</p>\n",
       "</div>"
      ],
      "text/plain": [
       "                  고유번호       법정동코드          법정동명  특수지구분코드 특수지구분명     지번  \\\n",
       "0  2611010100100020130  2611010100  부산광역시 중구 영주동        1     일반  2-130   \n",
       "1  2611010100100020130  2611010100  부산광역시 중구 영주동        1     일반  2-130   \n",
       "\n",
       "   표준지일련번호  기준연도  사업지구면적  지목코드  ... 도로측면코드     도로측면 도로거리코드    도로거리    공시지가  \\\n",
       "0        1  2012       0     8  ...     10  세로한면(불)      0  지정되지않음  555000   \n",
       "1        1  2013       0     8  ...     10  세로한면(불)      0  지정되지않음  570000   \n",
       "\n",
       "  표준지소유구분코드  표준지소유구분명 소유형태코드   소유형태명     데이터기준일자  \n",
       "0       nan       nan      0  지정되지않음  2016-11-08  \n",
       "1       nan       nan      0  지정되지않음  2016-11-08  \n",
       "\n",
       "[2 rows x 39 columns]"
      ]
     },
     "execution_count": 91,
     "metadata": {},
     "output_type": "execute_result"
    }
   ],
   "source": [
    "stdprice = pd.read_csv(input_path.joinpath('부산광역시_표준공시지가정보.csv'), encoding='CP949')\n",
    "print(stdprice.columns)\n",
    "stdprice.head(2)"
   ]
  },
  {
   "cell_type": "code",
   "execution_count": 92,
   "id": "advised-salad",
   "metadata": {},
   "outputs": [
    {
     "name": "stdout",
     "output_type": "stream",
     "text": [
      "<class 'pandas.core.frame.DataFrame'>\n",
      "RangeIndex: 181672 entries, 0 to 181671\n",
      "Data columns (total 39 columns):\n",
      " #   Column     Non-Null Count   Dtype  \n",
      "---  ------     --------------   -----  \n",
      " 0   고유번호       181672 non-null  object \n",
      " 1   법정동코드      181672 non-null  int64  \n",
      " 2   법정동명       181672 non-null  object \n",
      " 3   특수지구분코드    181672 non-null  int64  \n",
      " 4   특수지구분명     181672 non-null  object \n",
      " 5   지번         181308 non-null  object \n",
      " 6   표준지일련번호    181672 non-null  int64  \n",
      " 7   기준연도       181672 non-null  int64  \n",
      " 8   사업지구면적     181672 non-null  int64  \n",
      " 9   지목코드       181672 non-null  int64  \n",
      " 10  지목         181672 non-null  object \n",
      " 11  실제지목코드     181672 non-null  int64  \n",
      " 12  실제지목       8167 non-null    object \n",
      " 13  토지면적       181672 non-null  float64\n",
      " 14  용도지역코드1    181672 non-null  int64  \n",
      " 15  용도지역명1     181672 non-null  object \n",
      " 16  용도지역코드2    181672 non-null  int64  \n",
      " 17  용도지역명2     181672 non-null  object \n",
      " 18  용도지구코드1    181672 non-null  int64  \n",
      " 19  용도지구명1     181672 non-null  object \n",
      " 20  용도지구코드2    181672 non-null  int64  \n",
      " 21  용도지구명2     181672 non-null  object \n",
      " 22  저촉율        181672 non-null  int64  \n",
      " 23  토지이용상황코드   181672 non-null  int64  \n",
      " 24  토지이용상황     181672 non-null  object \n",
      " 25  지형높이코드     181672 non-null  int64  \n",
      " 26  지형높이       181672 non-null  object \n",
      " 27  지형형상코드     181672 non-null  int64  \n",
      " 28  지형형상       181672 non-null  object \n",
      " 29  도로측면코드     181672 non-null  int64  \n",
      " 30  도로측면       181672 non-null  object \n",
      " 31  도로거리코드     181672 non-null  int64  \n",
      " 32  도로거리       181672 non-null  object \n",
      " 33  공시지가       181672 non-null  int64  \n",
      " 34  표준지소유구분코드  0 non-null       float64\n",
      " 35  표준지소유구분명   0 non-null       float64\n",
      " 36  소유형태코드     181672 non-null  int64  \n",
      " 37  소유형태명      181672 non-null  object \n",
      " 38  데이터기준일자    181672 non-null  object \n",
      "dtypes: float64(3), int64(19), object(17)\n",
      "memory usage: 54.1+ MB\n"
     ]
    }
   ],
   "source": [
    "stdprice.info()"
   ]
  },
  {
   "cell_type": "code",
   "execution_count": 93,
   "id": "native-platinum",
   "metadata": {},
   "outputs": [
    {
     "name": "stdout",
     "output_type": "stream",
     "text": [
      "<class 'pandas.core.frame.DataFrame'>\n",
      "Int64Index: 11400 entries, 75469 to 86868\n",
      "Data columns (total 39 columns):\n",
      " #   Column     Non-Null Count  Dtype  \n",
      "---  ------     --------------  -----  \n",
      " 0   고유번호       11400 non-null  object \n",
      " 1   법정동코드      11400 non-null  int64  \n",
      " 2   법정동명       11400 non-null  object \n",
      " 3   특수지구분코드    11400 non-null  int64  \n",
      " 4   특수지구분명     11400 non-null  object \n",
      " 5   지번         11400 non-null  object \n",
      " 6   표준지일련번호    11400 non-null  int64  \n",
      " 7   기준연도       11400 non-null  int64  \n",
      " 8   사업지구면적     11400 non-null  int64  \n",
      " 9   지목코드       11400 non-null  int64  \n",
      " 10  지목         11400 non-null  object \n",
      " 11  실제지목코드     11400 non-null  int64  \n",
      " 12  실제지목       128 non-null    object \n",
      " 13  토지면적       11400 non-null  float64\n",
      " 14  용도지역코드1    11400 non-null  int64  \n",
      " 15  용도지역명1     11400 non-null  object \n",
      " 16  용도지역코드2    11400 non-null  int64  \n",
      " 17  용도지역명2     11400 non-null  object \n",
      " 18  용도지구코드1    11400 non-null  int64  \n",
      " 19  용도지구명1     11400 non-null  object \n",
      " 20  용도지구코드2    11400 non-null  int64  \n",
      " 21  용도지구명2     11400 non-null  object \n",
      " 22  저촉율        11400 non-null  int64  \n",
      " 23  토지이용상황코드   11400 non-null  int64  \n",
      " 24  토지이용상황     11400 non-null  object \n",
      " 25  지형높이코드     11400 non-null  int64  \n",
      " 26  지형높이       11400 non-null  object \n",
      " 27  지형형상코드     11400 non-null  int64  \n",
      " 28  지형형상       11400 non-null  object \n",
      " 29  도로측면코드     11400 non-null  int64  \n",
      " 30  도로측면       11400 non-null  object \n",
      " 31  도로거리코드     11400 non-null  int64  \n",
      " 32  도로거리       11400 non-null  object \n",
      " 33  공시지가       11400 non-null  int64  \n",
      " 34  표준지소유구분코드  0 non-null      float64\n",
      " 35  표준지소유구분명   0 non-null      float64\n",
      " 36  소유형태코드     11400 non-null  int64  \n",
      " 37  소유형태명      11400 non-null  object \n",
      " 38  데이터기준일자    11400 non-null  object \n",
      "dtypes: float64(3), int64(19), object(17)\n",
      "memory usage: 3.5+ MB\n"
     ]
    }
   ],
   "source": [
    "# '남구'인 데이터만 남기기\n",
    "\n",
    "is_namgu = stdprice['법정동명'].str.contains('남구')\n",
    "stdprice_namgu = stdprice[is_namgu]\n",
    "\n",
    "stdprice_namgu.info()"
   ]
  },
  {
   "cell_type": "code",
   "execution_count": 94,
   "id": "solid-acrylic",
   "metadata": {},
   "outputs": [
    {
     "data": {
      "text/plain": [
       "1174"
      ]
     },
     "execution_count": 94,
     "metadata": {},
     "output_type": "execute_result"
    }
   ],
   "source": [
    "stdprice_namgu['표준지일련번호'].nunique()"
   ]
  },
  {
   "cell_type": "code",
   "execution_count": 95,
   "id": "reverse-porter",
   "metadata": {},
   "outputs": [
    {
     "data": {
      "text/plain": [
       "array([2012, 2013, 2014, 2015, 2016, 2017, 2018, 2019, 2020, 2021])"
      ]
     },
     "execution_count": 95,
     "metadata": {},
     "output_type": "execute_result"
    }
   ],
   "source": [
    "stdprice_namgu['기준연도'].unique() "
   ]
  },
  {
   "cell_type": "code",
   "execution_count": 96,
   "id": "forty-puppy",
   "metadata": {},
   "outputs": [
    {
     "data": {
      "text/plain": [
       "1"
      ]
     },
     "execution_count": 96,
     "metadata": {},
     "output_type": "execute_result"
    }
   ],
   "source": [
    "stdprice_namgu['사업지구면적'].nunique()"
   ]
  },
  {
   "cell_type": "code",
   "execution_count": 97,
   "id": "dirty-thomson",
   "metadata": {},
   "outputs": [
    {
     "name": "stdout",
     "output_type": "stream",
     "text": [
      "[ 8 11  5 10  2  1  9 28 12 13 25]\n",
      "['대' '주차장' '임야' '학교용지' '답' '전' '공장용지' '잡종지' '주유소용지' '창고용지' '종교용지']\n"
     ]
    }
   ],
   "source": [
    "print(stdprice_namgu['지목코드'].unique(), stdprice_namgu['지목'].unique(), sep='\\n')"
   ]
  },
  {
   "cell_type": "code",
   "execution_count": 98,
   "id": "convertible-spain",
   "metadata": {},
   "outputs": [
    {
     "name": "stdout",
     "output_type": "stream",
     "text": [
      "[ 0  8 11 10  5]\n",
      "[nan '대' '주차장' '학교용지' '임야']\n"
     ]
    }
   ],
   "source": [
    "print(stdprice_namgu['실제지목코드'].unique(), stdprice_namgu['실제지목'].unique(), sep='\\n')"
   ]
  },
  {
   "cell_type": "code",
   "execution_count": 99,
   "id": "affiliated-provision",
   "metadata": {},
   "outputs": [
    {
     "name": "stdout",
     "output_type": "stream",
     "text": [
      "[16 22 14 15 43 13 33 23 41 31]\n",
      "['준주거지역' '일반상업지역' '제2종일반주거지역' '제3종일반주거지역' '자연녹지지역' '제1종일반주거지역' '준공업지역'\n",
      " '근린상업지역' '보전녹지지역' '전용공업지역']\n"
     ]
    }
   ],
   "source": [
    "print(stdprice_namgu['용도지역코드1'].unique(), stdprice_namgu['용도지역명1'].unique(), sep='\\n')"
   ]
  },
  {
   "cell_type": "code",
   "execution_count": 100,
   "id": "floppy-definition",
   "metadata": {},
   "outputs": [
    {
     "name": "stdout",
     "output_type": "stream",
     "text": [
      "[ 0 14]\n",
      "['지정되지않음' '제2종일반주거지역']\n"
     ]
    }
   ],
   "source": [
    "print(stdprice_namgu['용도지역코드2'].unique(), stdprice_namgu['용도지역명2'].unique(), sep='\\n')"
   ]
  },
  {
   "cell_type": "code",
   "execution_count": 101,
   "id": "boolean-trust",
   "metadata": {},
   "outputs": [
    {
     "name": "stdout",
     "output_type": "stream",
     "text": [
      "[  0  28 300  18  29  99  25 160 130  14 110  17  24 150 120 521  20]\n",
      "['지정되지않음' '방화지구' '학교시설보호지구' '학교시설보호지구(특정용도제한지구)' '최저고도지구' '기타지구'\n",
      " '역사문화미관지구' '역사문화미관지구(특화경관지구)' '특화경관지구(역사문화미관지구)' '특화경관지구' '자연경관지구'\n",
      " '자연경관지구(자연경관지구)' '기타경관지구' '중심지미관지구(시가지경관지구)' '중심지미관지구' '시가지경관지구(중심지미관지구)'\n",
      " '시가지경관지구' '중요시설물(항만)보호지구' '항만시설보호지구(중요시설보호지구)' '항만시설보호지구']\n"
     ]
    }
   ],
   "source": [
    "print(stdprice_namgu['용도지구코드1'].unique(), stdprice_namgu['용도지구명1'].unique(), sep='\\n')"
   ]
  },
  {
   "cell_type": "code",
   "execution_count": 102,
   "id": "faced-clark",
   "metadata": {},
   "outputs": [
    {
     "name": "stdout",
     "output_type": "stream",
     "text": [
      "[  0  28  25 300  99]\n",
      "['지정되지않음' '방화지구' '역사문화미관지구' '기타지구']\n"
     ]
    }
   ],
   "source": [
    "print(stdprice_namgu['용도지구코드2'].unique(), stdprice_namgu['용도지구명2'].unique(), sep='\\n')"
   ]
  },
  {
   "cell_type": "code",
   "execution_count": 103,
   "id": "treated-influence",
   "metadata": {},
   "outputs": [
    {
     "name": "stdout",
     "output_type": "stream",
     "text": [
      "[110 210 330 320 310 160 130 150 230 240 140 730 120 220 510 720 410 850\n",
      " 430 420]\n",
      "['단독' '상업용' '주상기타' '주상나지' '주상용' '주거기타' '다세대' '주거나지' '상업나지' '상업기타' '아파트'\n",
      " '토지임야' '연립' '업무용' '전' '자연림' '공업용' '공원묘지' '공업기타' '공업나지']\n"
     ]
    }
   ],
   "source": [
    "print(stdprice_namgu['토지이용상황코드'].unique(), stdprice_namgu['토지이용상황'].unique(), sep='\\n')"
   ]
  },
  {
   "cell_type": "code",
   "execution_count": 104,
   "id": "earned-thanksgiving",
   "metadata": {},
   "outputs": [
    {
     "name": "stdout",
     "output_type": "stream",
     "text": [
      "[2 3 1 4]\n",
      "['평지' '완경사' '저지' '급경사']\n"
     ]
    }
   ],
   "source": [
    "print(stdprice_namgu['지형높이코드'].unique(), stdprice_namgu['지형높이'].unique(), sep='\\n')"
   ]
  },
  {
   "cell_type": "code",
   "execution_count": 105,
   "id": "driven-details",
   "metadata": {},
   "outputs": [
    {
     "name": "stdout",
     "output_type": "stream",
     "text": [
      "[7 8 6 5 4 3 2 1]\n",
      "['부정형' '자루형' '사다리형' '세로장방' '가로장방' '정방형' '삼각형']\n"
     ]
    }
   ],
   "source": [
    "print(stdprice_namgu['지형형상코드'].unique(), stdprice_namgu['지형형상'].unique(), sep='\\n')"
   ]
  },
  {
   "cell_type": "code",
   "execution_count": 106,
   "id": "automotive-brick",
   "metadata": {},
   "outputs": [
    {
     "name": "stdout",
     "output_type": "stream",
     "text": [
      "[10  8  2  9  1  7  6  3  4  5 12 11]\n",
      "['세로한면(불)' '세로한면(가)' '광대소각' '세로각지(가)' '광대로한면' '소로각지' '소로한면' '광대세각' '중로한면'\n",
      " '중로각지' '맹지' '세로각지(불)']\n"
     ]
    }
   ],
   "source": [
    "print(stdprice_namgu['도로측면코드'].unique(), stdprice_namgu['도로측면'].unique(), sep='\\n')"
   ]
  },
  {
   "cell_type": "code",
   "execution_count": 107,
   "id": "voluntary-assessment",
   "metadata": {},
   "outputs": [
    {
     "name": "stdout",
     "output_type": "stream",
     "text": [
      "[0]\n",
      "['지정되지않음']\n"
     ]
    }
   ],
   "source": [
    "print(stdprice_namgu['도로거리코드'].unique(), stdprice_namgu['도로거리'].unique(), sep='\\n')"
   ]
  },
  {
   "cell_type": "code",
   "execution_count": 108,
   "id": "removable-procedure",
   "metadata": {},
   "outputs": [
    {
     "name": "stdout",
     "output_type": "stream",
     "text": [
      "[0 1 2]\n",
      "['지정되지않음' '단독소유' '공동소유']\n"
     ]
    }
   ],
   "source": [
    "print(stdprice_namgu['소유형태코드'].unique(), stdprice_namgu['소유형태명'].unique(), sep='\\n')"
   ]
  },
  {
   "cell_type": "code",
   "execution_count": 109,
   "id": "funny-institute",
   "metadata": {},
   "outputs": [
    {
     "data": {
      "text/plain": [
       "6.408508771929824"
      ]
     },
     "execution_count": 109,
     "metadata": {},
     "output_type": "execute_result"
    }
   ],
   "source": [
    "stdprice_namgu['저촉율'].mean()"
   ]
  },
  {
   "cell_type": "code",
   "execution_count": 110,
   "id": "desirable-newport",
   "metadata": {},
   "outputs": [
    {
     "data": {
      "text/html": [
       "<div>\n",
       "<style scoped>\n",
       "    .dataframe tbody tr th:only-of-type {\n",
       "        vertical-align: middle;\n",
       "    }\n",
       "\n",
       "    .dataframe tbody tr th {\n",
       "        vertical-align: top;\n",
       "    }\n",
       "\n",
       "    .dataframe thead th {\n",
       "        text-align: right;\n",
       "    }\n",
       "</style>\n",
       "<table border=\"1\" class=\"dataframe\">\n",
       "  <thead>\n",
       "    <tr style=\"text-align: right;\">\n",
       "      <th></th>\n",
       "      <th>고유번호</th>\n",
       "      <th>법정동코드</th>\n",
       "      <th>법정동명</th>\n",
       "      <th>특수지구분코드</th>\n",
       "      <th>특수지구분명</th>\n",
       "      <th>지번</th>\n",
       "      <th>기준연도</th>\n",
       "      <th>사업지구면적</th>\n",
       "      <th>지목코드</th>\n",
       "      <th>지목</th>\n",
       "      <th>...</th>\n",
       "      <th>도로측면코드</th>\n",
       "      <th>도로측면</th>\n",
       "      <th>도로거리코드</th>\n",
       "      <th>도로거리</th>\n",
       "      <th>공시지가</th>\n",
       "      <th>표준지소유구분코드</th>\n",
       "      <th>표준지소유구분명</th>\n",
       "      <th>소유형태코드</th>\n",
       "      <th>소유형태명</th>\n",
       "      <th>데이터기준일자</th>\n",
       "    </tr>\n",
       "  </thead>\n",
       "  <tbody>\n",
       "    <tr>\n",
       "      <th>0</th>\n",
       "      <td>2629010600100080005</td>\n",
       "      <td>2629010600</td>\n",
       "      <td>부산광역시 남구 대연동</td>\n",
       "      <td>1</td>\n",
       "      <td>일반</td>\n",
       "      <td>8-5</td>\n",
       "      <td>2021</td>\n",
       "      <td>0</td>\n",
       "      <td>8</td>\n",
       "      <td>대</td>\n",
       "      <td>...</td>\n",
       "      <td>8</td>\n",
       "      <td>세로한면(가)</td>\n",
       "      <td>0</td>\n",
       "      <td>지정되지않음</td>\n",
       "      <td>1625000</td>\n",
       "      <td>nan</td>\n",
       "      <td>nan</td>\n",
       "      <td>0</td>\n",
       "      <td>지정되지않음</td>\n",
       "      <td>2021-05-07</td>\n",
       "    </tr>\n",
       "    <tr>\n",
       "      <th>1</th>\n",
       "      <td>2629010600100160002</td>\n",
       "      <td>2629010600</td>\n",
       "      <td>부산광역시 남구 대연동</td>\n",
       "      <td>1</td>\n",
       "      <td>일반</td>\n",
       "      <td>16-2</td>\n",
       "      <td>2021</td>\n",
       "      <td>0</td>\n",
       "      <td>8</td>\n",
       "      <td>대</td>\n",
       "      <td>...</td>\n",
       "      <td>2</td>\n",
       "      <td>광대소각</td>\n",
       "      <td>0</td>\n",
       "      <td>지정되지않음</td>\n",
       "      <td>5420000</td>\n",
       "      <td>nan</td>\n",
       "      <td>nan</td>\n",
       "      <td>0</td>\n",
       "      <td>지정되지않음</td>\n",
       "      <td>2021-05-07</td>\n",
       "    </tr>\n",
       "  </tbody>\n",
       "</table>\n",
       "<p>2 rows × 38 columns</p>\n",
       "</div>"
      ],
      "text/plain": [
       "                  고유번호       법정동코드          법정동명  특수지구분코드 특수지구분명    지번  기준연도  \\\n",
       "0  2629010600100080005  2629010600  부산광역시 남구 대연동        1     일반   8-5  2021   \n",
       "1  2629010600100160002  2629010600  부산광역시 남구 대연동        1     일반  16-2  2021   \n",
       "\n",
       "   사업지구면적  지목코드 지목  ...  도로측면코드     도로측면  도로거리코드    도로거리     공시지가  표준지소유구분코드  \\\n",
       "0       0     8  대  ...       8  세로한면(가)       0  지정되지않음  1625000        nan   \n",
       "1       0     8  대  ...       2     광대소각       0  지정되지않음  5420000        nan   \n",
       "\n",
       "  표준지소유구분명  소유형태코드   소유형태명     데이터기준일자  \n",
       "0      nan       0  지정되지않음  2021-05-07  \n",
       "1      nan       0  지정되지않음  2021-05-07  \n",
       "\n",
       "[2 rows x 38 columns]"
      ]
     },
     "execution_count": 110,
     "metadata": {},
     "output_type": "execute_result"
    }
   ],
   "source": [
    "# 중복되는 필지 제거 ('기준연도' 기준으로 최신 자료만 남기기)\n",
    "\n",
    "stdprice_namgu_stnrd = stdprice_namgu.sort_values(by=['표준지일련번호', '기준연도'])\n",
    "stdprice_cleansed = stdprice_namgu_stnrd.groupby('표준지일련번호').nth(-1).reset_index(drop=True)\n",
    "\n",
    "stdprice_cleansed.head(2)"
   ]
  },
  {
   "cell_type": "code",
   "execution_count": 111,
   "id": "alike-unemployment",
   "metadata": {},
   "outputs": [
    {
     "name": "stdout",
     "output_type": "stream",
     "text": [
      "[2021 2015]\n",
      "2021    1132\n",
      "2015      42\n",
      "Name: 기준연도, dtype: int64\n"
     ]
    }
   ],
   "source": [
    "print(stdprice_cleansed.기준연도.unique(), stdprice_cleansed.기준연도.value_counts(), sep='\\n')"
   ]
  },
  {
   "cell_type": "code",
   "execution_count": 112,
   "id": "breeding-teaching",
   "metadata": {},
   "outputs": [
    {
     "data": {
      "text/html": [
       "<div>\n",
       "<style scoped>\n",
       "    .dataframe tbody tr th:only-of-type {\n",
       "        vertical-align: middle;\n",
       "    }\n",
       "\n",
       "    .dataframe tbody tr th {\n",
       "        vertical-align: top;\n",
       "    }\n",
       "\n",
       "    .dataframe thead th {\n",
       "        text-align: right;\n",
       "    }\n",
       "</style>\n",
       "<table border=\"1\" class=\"dataframe\">\n",
       "  <thead>\n",
       "    <tr style=\"text-align: right;\">\n",
       "      <th></th>\n",
       "      <th>법정동코드</th>\n",
       "      <th>법정동명</th>\n",
       "      <th>특수지구분코드</th>\n",
       "      <th>특수지구분명</th>\n",
       "      <th>지번</th>\n",
       "      <th>지목코드</th>\n",
       "      <th>지목</th>\n",
       "      <th>토지면적</th>\n",
       "      <th>용도지역코드1</th>\n",
       "      <th>용도지역명1</th>\n",
       "      <th>...</th>\n",
       "      <th>지형높이코드</th>\n",
       "      <th>지형높이</th>\n",
       "      <th>지형형상코드</th>\n",
       "      <th>지형형상</th>\n",
       "      <th>도로측면코드</th>\n",
       "      <th>도로측면</th>\n",
       "      <th>공시지가</th>\n",
       "      <th>소유형태코드</th>\n",
       "      <th>소유형태명</th>\n",
       "      <th>데이터기준일자</th>\n",
       "    </tr>\n",
       "  </thead>\n",
       "  <tbody>\n",
       "    <tr>\n",
       "      <th>0</th>\n",
       "      <td>2629010600</td>\n",
       "      <td>부산광역시 남구 대연동</td>\n",
       "      <td>1</td>\n",
       "      <td>일반</td>\n",
       "      <td>8-5</td>\n",
       "      <td>8</td>\n",
       "      <td>대</td>\n",
       "      <td>235.000</td>\n",
       "      <td>16</td>\n",
       "      <td>준주거지역</td>\n",
       "      <td>...</td>\n",
       "      <td>2</td>\n",
       "      <td>평지</td>\n",
       "      <td>6</td>\n",
       "      <td>자루형</td>\n",
       "      <td>8</td>\n",
       "      <td>세로한면(가)</td>\n",
       "      <td>1625000</td>\n",
       "      <td>0</td>\n",
       "      <td>지정되지않음</td>\n",
       "      <td>2021-05-07</td>\n",
       "    </tr>\n",
       "  </tbody>\n",
       "</table>\n",
       "<p>1 rows × 25 columns</p>\n",
       "</div>"
      ],
      "text/plain": [
       "        법정동코드          법정동명  특수지구분코드 특수지구분명   지번  지목코드 지목    토지면적  용도지역코드1  \\\n",
       "0  2629010600  부산광역시 남구 대연동        1     일반  8-5     8  대 235.000       16   \n",
       "\n",
       "  용도지역명1  ...  지형높이코드 지형높이  지형형상코드  지형형상 도로측면코드     도로측면     공시지가  소유형태코드  \\\n",
       "0  준주거지역  ...       2   평지       6   자루형      8  세로한면(가)  1625000       0   \n",
       "\n",
       "    소유형태명     데이터기준일자  \n",
       "0  지정되지않음  2021-05-07  \n",
       "\n",
       "[1 rows x 25 columns]"
      ]
     },
     "execution_count": 112,
     "metadata": {},
     "output_type": "execute_result"
    }
   ],
   "source": [
    "# 불필요한 컬럼 제거\n",
    "\n",
    "stdprice_dropped = stdprice_cleansed.drop(columns=['고유번호','기준연도','사업지구면적','실제지목코드',\n",
    "                                               '실제지목','용도지역코드2','용도지역명2','용도지구코드2','용도지구명2','도로거리코드','도로거리',\n",
    "                                               '표준지소유구분코드','표준지소유구분명'])\n",
    "\n",
    "stdprice_dropped.head(1)"
   ]
  },
  {
   "cell_type": "code",
   "execution_count": 113,
   "id": "external-policy",
   "metadata": {},
   "outputs": [
    {
     "name": "stdout",
     "output_type": "stream",
     "text": [
      "<class 'pandas.core.frame.DataFrame'>\n",
      "RangeIndex: 1174 entries, 0 to 1173\n",
      "Data columns (total 25 columns):\n",
      " #   Column    Non-Null Count  Dtype  \n",
      "---  ------    --------------  -----  \n",
      " 0   법정동코드     1174 non-null   int64  \n",
      " 1   법정동명      1174 non-null   object \n",
      " 2   특수지구분코드   1174 non-null   int64  \n",
      " 3   특수지구분명    1174 non-null   object \n",
      " 4   지번        1174 non-null   object \n",
      " 5   지목코드      1174 non-null   int64  \n",
      " 6   지목        1174 non-null   object \n",
      " 7   토지면적      1174 non-null   float64\n",
      " 8   용도지역코드1   1174 non-null   int64  \n",
      " 9   용도지역명1    1174 non-null   object \n",
      " 10  용도지구코드1   1174 non-null   int64  \n",
      " 11  용도지구명1    1174 non-null   object \n",
      " 12  저촉율       1174 non-null   int64  \n",
      " 13  토지이용상황코드  1174 non-null   int64  \n",
      " 14  토지이용상황    1174 non-null   object \n",
      " 15  지형높이코드    1174 non-null   int64  \n",
      " 16  지형높이      1174 non-null   object \n",
      " 17  지형형상코드    1174 non-null   int64  \n",
      " 18  지형형상      1174 non-null   object \n",
      " 19  도로측면코드    1174 non-null   int64  \n",
      " 20  도로측면      1174 non-null   object \n",
      " 21  공시지가      1174 non-null   int64  \n",
      " 22  소유형태코드    1174 non-null   int64  \n",
      " 23  소유형태명     1174 non-null   object \n",
      " 24  데이터기준일자   1174 non-null   object \n",
      "dtypes: float64(1), int64(12), object(12)\n",
      "memory usage: 229.4+ KB\n"
     ]
    }
   ],
   "source": [
    "stdprice_dropped.info()"
   ]
  },
  {
   "cell_type": "code",
   "execution_count": 114,
   "id": "removable-catholic",
   "metadata": {},
   "outputs": [
    {
     "data": {
      "text/html": [
       "<div>\n",
       "<style scoped>\n",
       "    .dataframe tbody tr th:only-of-type {\n",
       "        vertical-align: middle;\n",
       "    }\n",
       "\n",
       "    .dataframe tbody tr th {\n",
       "        vertical-align: top;\n",
       "    }\n",
       "\n",
       "    .dataframe thead th {\n",
       "        text-align: right;\n",
       "    }\n",
       "</style>\n",
       "<table border=\"1\" class=\"dataframe\">\n",
       "  <thead>\n",
       "    <tr style=\"text-align: right;\">\n",
       "      <th></th>\n",
       "      <th>법정동코드</th>\n",
       "      <th>법정동명</th>\n",
       "      <th>특수지구분코드</th>\n",
       "      <th>특수지구분명</th>\n",
       "      <th>지번</th>\n",
       "      <th>지목코드</th>\n",
       "      <th>지목</th>\n",
       "      <th>토지면적</th>\n",
       "      <th>용도지역코드1</th>\n",
       "      <th>용도지역명1</th>\n",
       "      <th>...</th>\n",
       "      <th>지형높이</th>\n",
       "      <th>지형형상코드</th>\n",
       "      <th>지형형상</th>\n",
       "      <th>도로측면코드</th>\n",
       "      <th>도로측면</th>\n",
       "      <th>공시지가</th>\n",
       "      <th>소유형태코드</th>\n",
       "      <th>소유형태명</th>\n",
       "      <th>데이터기준일자</th>\n",
       "      <th>emd_jibun</th>\n",
       "    </tr>\n",
       "  </thead>\n",
       "  <tbody>\n",
       "    <tr>\n",
       "      <th>0</th>\n",
       "      <td>2629010600</td>\n",
       "      <td>부산광역시 남구 대연동</td>\n",
       "      <td>1</td>\n",
       "      <td>일반</td>\n",
       "      <td>8-5</td>\n",
       "      <td>8</td>\n",
       "      <td>대</td>\n",
       "      <td>235.000</td>\n",
       "      <td>16</td>\n",
       "      <td>준주거지역</td>\n",
       "      <td>...</td>\n",
       "      <td>평지</td>\n",
       "      <td>6</td>\n",
       "      <td>자루형</td>\n",
       "      <td>8</td>\n",
       "      <td>세로한면(가)</td>\n",
       "      <td>1625000</td>\n",
       "      <td>0</td>\n",
       "      <td>지정되지않음</td>\n",
       "      <td>2021-05-07</td>\n",
       "      <td>2629010600(8-5)</td>\n",
       "    </tr>\n",
       "  </tbody>\n",
       "</table>\n",
       "<p>1 rows × 26 columns</p>\n",
       "</div>"
      ],
      "text/plain": [
       "        법정동코드          법정동명  특수지구분코드 특수지구분명   지번  지목코드 지목    토지면적  용도지역코드1  \\\n",
       "0  2629010600  부산광역시 남구 대연동        1     일반  8-5     8  대 235.000       16   \n",
       "\n",
       "  용도지역명1  ...  지형높이 지형형상코드  지형형상  도로측면코드     도로측면     공시지가 소유형태코드   소유형태명  \\\n",
       "0  준주거지역  ...    평지      6   자루형       8  세로한면(가)  1625000      0  지정되지않음   \n",
       "\n",
       "      데이터기준일자        emd_jibun  \n",
       "0  2021-05-07  2629010600(8-5)  \n",
       "\n",
       "[1 rows x 26 columns]"
      ]
     },
     "execution_count": 114,
     "metadata": {},
     "output_type": "execute_result"
    }
   ],
   "source": [
    "stdprice_dropped['emd_jibun'] = stdprice_dropped['법정동코드'].map(str) + \"(\" + stdprice_dropped['지번'] + \")\"\n",
    "\n",
    "stdprice_dropped.head(1)"
   ]
  },
  {
   "cell_type": "code",
   "execution_count": 115,
   "id": "moved-celebrity",
   "metadata": {},
   "outputs": [
    {
     "data": {
      "text/html": [
       "<div>\n",
       "<style scoped>\n",
       "    .dataframe tbody tr th:only-of-type {\n",
       "        vertical-align: middle;\n",
       "    }\n",
       "\n",
       "    .dataframe tbody tr th {\n",
       "        vertical-align: top;\n",
       "    }\n",
       "\n",
       "    .dataframe thead th {\n",
       "        text-align: right;\n",
       "    }\n",
       "</style>\n",
       "<table border=\"1\" class=\"dataframe\">\n",
       "  <thead>\n",
       "    <tr style=\"text-align: right;\">\n",
       "      <th></th>\n",
       "      <th>emd_jibun</th>\n",
       "      <th>특수지구분코드</th>\n",
       "      <th>특수지구분명</th>\n",
       "      <th>지목코드</th>\n",
       "      <th>지목</th>\n",
       "      <th>토지면적</th>\n",
       "      <th>용도지역코드1</th>\n",
       "      <th>용도지역명1</th>\n",
       "      <th>용도지구코드1</th>\n",
       "      <th>용도지구명1</th>\n",
       "      <th>...</th>\n",
       "      <th>지형높이코드</th>\n",
       "      <th>지형높이</th>\n",
       "      <th>지형형상코드</th>\n",
       "      <th>지형형상</th>\n",
       "      <th>도로측면코드</th>\n",
       "      <th>도로측면</th>\n",
       "      <th>공시지가</th>\n",
       "      <th>소유형태코드</th>\n",
       "      <th>소유형태명</th>\n",
       "      <th>데이터기준일자</th>\n",
       "    </tr>\n",
       "  </thead>\n",
       "  <tbody>\n",
       "    <tr>\n",
       "      <th>0</th>\n",
       "      <td>2629010600(8-5)</td>\n",
       "      <td>1</td>\n",
       "      <td>일반</td>\n",
       "      <td>8</td>\n",
       "      <td>대</td>\n",
       "      <td>235.000</td>\n",
       "      <td>16</td>\n",
       "      <td>준주거지역</td>\n",
       "      <td>0</td>\n",
       "      <td>지정되지않음</td>\n",
       "      <td>...</td>\n",
       "      <td>2</td>\n",
       "      <td>평지</td>\n",
       "      <td>6</td>\n",
       "      <td>자루형</td>\n",
       "      <td>8</td>\n",
       "      <td>세로한면(가)</td>\n",
       "      <td>1625000</td>\n",
       "      <td>0</td>\n",
       "      <td>지정되지않음</td>\n",
       "      <td>2021-05-07</td>\n",
       "    </tr>\n",
       "  </tbody>\n",
       "</table>\n",
       "<p>1 rows × 23 columns</p>\n",
       "</div>"
      ],
      "text/plain": [
       "         emd_jibun  특수지구분코드 특수지구분명  지목코드 지목    토지면적  용도지역코드1 용도지역명1  용도지구코드1  \\\n",
       "0  2629010600(8-5)        1     일반     8  대 235.000       16  준주거지역        0   \n",
       "\n",
       "   용도지구명1  ...  지형높이코드  지형높이 지형형상코드  지형형상 도로측면코드     도로측면     공시지가  소유형태코드  \\\n",
       "0  지정되지않음  ...       2    평지      6   자루형      8  세로한면(가)  1625000       0   \n",
       "\n",
       "    소유형태명     데이터기준일자  \n",
       "0  지정되지않음  2021-05-07  \n",
       "\n",
       "[1 rows x 23 columns]"
      ]
     },
     "execution_count": 115,
     "metadata": {},
     "output_type": "execute_result"
    }
   ],
   "source": [
    "# 컬럼 추가적으로 drop\n",
    "\n",
    "stdprice_dropped_2 = stdprice_dropped.drop(columns=['법정동코드','법정동명','지번'])\n",
    "\n",
    "# 컬럼 재배치\n",
    "\n",
    "col_1 = stdprice_dropped_2.columns[-1:].to_list()\n",
    "col_2 = stdprice_dropped_2.columns[:-1].to_list()\n",
    "new_col = col_1 + col_2\n",
    "pb_std_prc = stdprice_dropped_2[new_col]\n",
    "pb_std_prc.head(1)"
   ]
  },
  {
   "cell_type": "code",
   "execution_count": 116,
   "id": "after-grenada",
   "metadata": {},
   "outputs": [
    {
     "data": {
      "text/plain": [
       "Index(['emd_jibun', '특수지구분코드', '특수지구분명', '지목코드', '지목', '토지면적', '용도지역코드1',\n",
       "       '용도지역명1', '용도지구코드1', '용도지구명1', '저촉율', '토지이용상황코드', '토지이용상황', '지형높이코드',\n",
       "       '지형높이', '지형형상코드', '지형형상', '도로측면코드', '도로측면', '공시지가', '소유형태코드', '소유형태명',\n",
       "       '데이터기준일자'],\n",
       "      dtype='object')"
      ]
     },
     "execution_count": 116,
     "metadata": {},
     "output_type": "execute_result"
    }
   ],
   "source": [
    "pb_std_prc.columns"
   ]
  },
  {
   "cell_type": "code",
   "execution_count": 117,
   "id": "athletic-chorus",
   "metadata": {},
   "outputs": [
    {
     "data": {
      "text/html": [
       "<div>\n",
       "<style scoped>\n",
       "    .dataframe tbody tr th:only-of-type {\n",
       "        vertical-align: middle;\n",
       "    }\n",
       "\n",
       "    .dataframe tbody tr th {\n",
       "        vertical-align: top;\n",
       "    }\n",
       "\n",
       "    .dataframe thead th {\n",
       "        text-align: right;\n",
       "    }\n",
       "</style>\n",
       "<table border=\"1\" class=\"dataframe\">\n",
       "  <thead>\n",
       "    <tr style=\"text-align: right;\">\n",
       "      <th></th>\n",
       "      <th>emd_jibun</th>\n",
       "      <th>spc_grd_cd</th>\n",
       "      <th>spc_grd_info</th>\n",
       "      <th>jimok_cd</th>\n",
       "      <th>jimok_nm</th>\n",
       "      <th>lnd_area</th>\n",
       "      <th>mus_cd</th>\n",
       "      <th>mus_nm</th>\n",
       "      <th>dis_cd</th>\n",
       "      <th>dis_nm</th>\n",
       "      <th>...</th>\n",
       "      <th>ht_cd</th>\n",
       "      <th>ht_nm</th>\n",
       "      <th>shp_cd</th>\n",
       "      <th>shp_nm</th>\n",
       "      <th>road_sd_cd</th>\n",
       "      <th>road_sd_nm</th>\n",
       "      <th>lnd_prc</th>\n",
       "      <th>pos_cd</th>\n",
       "      <th>pos_nm</th>\n",
       "      <th>date</th>\n",
       "    </tr>\n",
       "  </thead>\n",
       "  <tbody>\n",
       "    <tr>\n",
       "      <th>0</th>\n",
       "      <td>2629010600(8-5)</td>\n",
       "      <td>1</td>\n",
       "      <td>일반</td>\n",
       "      <td>8</td>\n",
       "      <td>대</td>\n",
       "      <td>235.000</td>\n",
       "      <td>16</td>\n",
       "      <td>준주거지역</td>\n",
       "      <td>0</td>\n",
       "      <td>지정되지않음</td>\n",
       "      <td>...</td>\n",
       "      <td>2</td>\n",
       "      <td>평지</td>\n",
       "      <td>6</td>\n",
       "      <td>자루형</td>\n",
       "      <td>8</td>\n",
       "      <td>세로한면(가)</td>\n",
       "      <td>1625000</td>\n",
       "      <td>0</td>\n",
       "      <td>지정되지않음</td>\n",
       "      <td>2021-05-07</td>\n",
       "    </tr>\n",
       "  </tbody>\n",
       "</table>\n",
       "<p>1 rows × 23 columns</p>\n",
       "</div>"
      ],
      "text/plain": [
       "         emd_jibun  spc_grd_cd spc_grd_info  jimok_cd jimok_nm  lnd_area  \\\n",
       "0  2629010600(8-5)           1           일반         8        대   235.000   \n",
       "\n",
       "   mus_cd mus_nm  dis_cd  dis_nm  ...  ht_cd  ht_nm shp_cd  shp_nm road_sd_cd  \\\n",
       "0      16  준주거지역       0  지정되지않음  ...      2     평지      6     자루형          8   \n",
       "\n",
       "   road_sd_nm  lnd_prc  pos_cd  pos_nm        date  \n",
       "0     세로한면(가)  1625000       0  지정되지않음  2021-05-07  \n",
       "\n",
       "[1 rows x 23 columns]"
      ]
     },
     "execution_count": 117,
     "metadata": {},
     "output_type": "execute_result"
    }
   ],
   "source": [
    "pb_std_prc.columns = ['emd_jibun','spc_grd_cd','spc_grd_info','jimok_cd','jimok_nm','lnd_area',\n",
    "                      'mus_cd','mus_nm','dis_cd','dis_nm','con_rate','use_cd','use_nm','ht_cd','ht_nm',\n",
    "                     'shp_cd','shp_nm','road_sd_cd','road_sd_nm','lnd_prc','pos_cd','pos_nm','date']\n",
    "\n",
    "pb_std_prc.head(1)"
   ]
  },
  {
   "cell_type": "code",
   "execution_count": 118,
   "id": "competent-conservative",
   "metadata": {},
   "outputs": [],
   "source": [
    "pb_std_prc.to_csv(input_path.joinpath('공공데이터_표준지공시지가.csv'), index_label=False)"
   ]
  },
  {
   "cell_type": "code",
   "execution_count": null,
   "id": "creative-mining",
   "metadata": {},
   "outputs": [],
   "source": []
  }
 ],
 "metadata": {
  "kernelspec": {
   "display_name": "Python 3",
   "language": "python",
   "name": "python3"
  },
  "language_info": {
   "codemirror_mode": {
    "name": "ipython",
    "version": 3
   },
   "file_extension": ".py",
   "mimetype": "text/x-python",
   "name": "python",
   "nbconvert_exporter": "python",
   "pygments_lexer": "ipython3",
   "version": "3.6.9"
  }
 },
 "nbformat": 4,
 "nbformat_minor": 5
}
